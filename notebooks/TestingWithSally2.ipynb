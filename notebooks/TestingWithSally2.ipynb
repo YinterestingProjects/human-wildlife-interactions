{
  "nbformat": 4,
  "nbformat_minor": 0,
  "metadata": {
    "colab": {
      "provenance": [],
      "include_colab_link": true
    },
    "kernelspec": {
      "name": "python3",
      "display_name": "Python 3"
    },
    "language_info": {
      "name": "python"
    }
  },
  "cells": [
    {
      "cell_type": "markdown",
      "metadata": {
        "id": "view-in-github",
        "colab_type": "text"
      },
      "source": [
        "<a href=\"https://colab.research.google.com/github/YinterestingProjects/human-wildlife-interactions/blob/main/TestingWithSally2.ipynb\" target=\"_parent\"><img src=\"https://colab.research.google.com/assets/colab-badge.svg\" alt=\"Open In Colab\"/></a>"
      ]
    },
    {
      "cell_type": "code",
      "source": [
        "# helper function to allow all debug print statements to be turned on or off. \n",
        "# Please use dprint for any debugging print statements or other output that you don't want to clutter the interface\n",
        "dbug = 1\n",
        "def dprint(msg):\n",
        "  if dbug == 1:\n",
        "    print(msg)\n",
        "  else:\n",
        "    pass"
      ],
      "metadata": {
        "id": "YY3ZPyqMGmDV"
      },
      "execution_count": 1,
      "outputs": []
    },
    {
      "cell_type": "markdown",
      "source": [
        "# Setup Instructions"
      ],
      "metadata": {
        "id": "PI2rHL9y6zwn"
      }
    },
    {
      "cell_type": "markdown",
      "source": [
        "## Step 1\n",
        "In the box below uncomment your name (make sure the others are commented out)"
      ],
      "metadata": {
        "id": "YpvDV1Ve63k5"
      }
    },
    {
      "cell_type": "code",
      "execution_count": 2,
      "metadata": {
        "id": "HbIwFKGq6tsF"
      },
      "outputs": [],
      "source": [
        "user = \"sally\"\n",
        "#user = \"jina\"\n",
        "# user = \"josh\""
      ]
    },
    {
      "cell_type": "markdown",
      "source": [
        "## Step 2a\n",
        "If you have not already done so, go to your google drive and do the following (Sally, you can skip this step and go straight to 2b):\n",
        "\n",
        "\n",
        "1.   Click on shared with me\n",
        "2.   Find the folder \"MADS Capstone\"\n",
        "3.   Right click and select \"Add shortcut to Drive\"\n",
        "4.   Place the shortcut wherever you want within your own drive\n",
        "\n",
        "\n",
        "## Step 2b\n",
        "Add the path to the variable in the cell below corresponding with your name. If you have not already done so do the following steps:\n",
        "1.   On the lefthand side of Colab there should be several icons. Find the one that looks like a folder and select it.\n",
        "2.   In the new menu that expanded, there should be 4 icons below the word \"Files\". Find the 3rd one over that looks like a folder with a drive logo on it and select it. If prompted to allow colab to access your drive select the yes option (or whatever language it is now).\n",
        "3.   There should now be a new folder in the list that says \"drive\". Navigate into this folder and find the shortcut you just created (Sally, you obviously don't have a shortcut so just find the original directory in your drive). Either right click on that shortcut or click the 3 dots next to the folder and select \"Copy Path\".\n",
        "4.   Go to the box below and paste in the path to path corresponding to your name."
      ],
      "metadata": {
        "id": "wt0wHr8aAaY0"
      }
    },
    {
      "cell_type": "code",
      "source": [
        "from google.colab import drive\n",
        "drive.mount('/content/drive')"
      ],
      "metadata": {
        "colab": {
          "base_uri": "https://localhost:8080/"
        },
        "id": "mmENoFJAj03y",
        "outputId": "9398644c-43dc-45ee-c0ef-0c223e563029"
      },
      "execution_count": 3,
      "outputs": [
        {
          "output_type": "stream",
          "name": "stdout",
          "text": [
            "Mounted at /content/drive\n"
          ]
        }
      ]
    },
    {
      "cell_type": "code",
      "source": [
        "# directory setup\n",
        "try:\n",
        "  if user == \"sally\":\n",
        "    directory = \"SALLY: INSERT YOUR PATH HERE\"\n",
        "  elif user == \"jina\":\n",
        "    directory = \"JINA: INSERT YOUR PATH HERE\"\n",
        "  elif user == \"josh\":\n",
        "    directory = \"/content/drive/MyDrive/MADS Capstone\"\n",
        "except:\n",
        "  dprint(\"No user has been selected\")"
      ],
      "metadata": {
        "id": "jDIMWEztAZTp"
      },
      "execution_count": 4,
      "outputs": []
    },
    {
      "cell_type": "markdown",
      "source": [
        "## Step 3\n",
        "From here everything is the same as a normal setup. Please make sure you save to github."
      ],
      "metadata": {
        "id": "avWRPwArHUXc"
      }
    },
    {
      "cell_type": "code",
      "source": [],
      "metadata": {
        "id": "mM6NN7juHTnp"
      },
      "execution_count": 4,
      "outputs": []
    },
    {
      "cell_type": "code",
      "source": [],
      "metadata": {
        "id": "b6euUqDNj7-j"
      },
      "execution_count": 4,
      "outputs": []
    },
    {
      "cell_type": "markdown",
      "source": [
        "# Read in sample data\n"
      ],
      "metadata": {
        "id": "L6dPgIuYkEe_"
      }
    },
    {
      "cell_type": "code",
      "source": [
        "import tensorflow as tf\n",
        "import pandas as pd\n",
        "from IPython.display import YouTubeVideo\n",
        "from google.cloud import storage, exceptions"
      ],
      "metadata": {
        "id": "oicMiUg2kUKB"
      },
      "execution_count": 5,
      "outputs": []
    },
    {
      "cell_type": "code",
      "source": [
        "# video file\n",
        "video_record = '/content/drive/MyDrive/MADS/MADS_Capstone/data/video_sample/train0093.tfrecord'"
      ],
      "metadata": {
        "id": "zsyvcfjTmA-I"
      },
      "execution_count": 6,
      "outputs": []
    },
    {
      "cell_type": "code",
      "source": [
        "# function to read in a video tf record, credit (https://medium.com/google-cloud/youtube-8m-dataset-c2ee9c79d136)\n",
        "\n",
        "def read_videoTfRecord(record, print_stats=True):\n",
        "    # variables for different parts of the TFRecord data\n",
        "    vid_ids = []\n",
        "    labels = []\n",
        "    rgb = []\n",
        "    audio = []\n",
        "\n",
        "    # iterate and read through all the examples in TFRecord file\n",
        "    for example in tf.compat.v1.python_io.tf_record_iterator(record):\n",
        "        seq_example = tf.train.Example.FromString(example)\n",
        "        vid_ids.append(seq_example.features.feature['id']\n",
        "                      .bytes_list.value[0].decode(encoding='UTF-8'))\n",
        "        labels.append(seq_example.features.feature['labels'] \n",
        "                      .int64_list.value)\n",
        "        rgb.append(seq_example.features.feature['mean_rgb']\n",
        "                      .float_list.value)\n",
        "        audio.append(seq_example.features.feature['mean_audio']\n",
        "                      .float_list.value)\n",
        "        \n",
        "    # optional stats printing\n",
        "    if print_stats:\n",
        "      print('Number of videos in this tfrecord: ',len(vid_ids))\n",
        "      print('Number of labels in this tfrecord: ', len(labels))\n",
        "      print('Picking a youtube video id:',vid_ids[15])\n",
        "\n",
        "    return vid_ids, labels, rgb, audio"
      ],
      "metadata": {
        "id": "obzzPT6Npa1z"
      },
      "execution_count": 7,
      "outputs": []
    },
    {
      "cell_type": "code",
      "source": [
        "vid_ids, labels, rgb, audio = read_videoTfRecord(video_record, print_stats=True)"
      ],
      "metadata": {
        "colab": {
          "base_uri": "https://localhost:8080/"
        },
        "id": "on2Yl8_LpJNk",
        "outputId": "e612af3c-75e0-4487-f640-2911677d3eab"
      },
      "execution_count": 9,
      "outputs": [
        {
          "output_type": "stream",
          "name": "stderr",
          "text": [
            "WARNING:tensorflow:From <ipython-input-7-4b6d0bf02121>:11: tf_record_iterator (from tensorflow.python.lib.io.tf_record) is deprecated and will be removed in a future version.\n",
            "Instructions for updating:\n",
            "Use eager execution and: \n",
            "`tf.data.TFRecordDataset(path)`\n"
          ]
        },
        {
          "output_type": "stream",
          "name": "stdout",
          "text": [
            "Number of videos in this tfrecord:  1015\n",
            "Number of labels in this tfrecord:  1015\n",
            "Picking a youtube video id: NYbF\n"
          ]
        }
      ]
    },
    {
      "cell_type": "code",
      "source": [
        "vid_ids[:5]"
      ],
      "metadata": {
        "colab": {
          "base_uri": "https://localhost:8080/"
        },
        "id": "hQAOeaLdpnMD",
        "outputId": "9c26ec48-19fe-429f-ccb1-e69d835f92d9"
      },
      "execution_count": 10,
      "outputs": [
        {
          "output_type": "execute_result",
          "data": {
            "text/plain": [
              "['eXbF', 'BFbF', 'GqbF', 'XabF', '3mbF']"
            ]
          },
          "metadata": {},
          "execution_count": 10
        }
      ]
    },
    {
      "cell_type": "code",
      "source": [
        "labels[:5]"
      ],
      "metadata": {
        "colab": {
          "base_uri": "https://localhost:8080/"
        },
        "id": "oFBQS48pptap",
        "outputId": "c912a41c-44a9-4529-c6cf-7334572063a5"
      },
      "execution_count": 11,
      "outputs": [
        {
          "output_type": "execute_result",
          "data": {
            "text/plain": [
              "[[0, 12],\n",
              " [16, 25, 189, 645, 741, 2052],\n",
              " [2, 44, 64, 113, 119, 186, 425],\n",
              " [3],\n",
              " [1, 5]]"
            ]
          },
          "metadata": {},
          "execution_count": 11
        }
      ]
    },
    {
      "cell_type": "code",
      "source": [
        "len(rgb[:1][0])"
      ],
      "metadata": {
        "colab": {
          "base_uri": "https://localhost:8080/"
        },
        "id": "twCmYJmhrCIh",
        "outputId": "eb99c601-7c09-4dbc-c186-60a51b1e73c9"
      },
      "execution_count": 12,
      "outputs": [
        {
          "output_type": "execute_result",
          "data": {
            "text/plain": [
              "1024"
            ]
          },
          "metadata": {},
          "execution_count": 12
        }
      ]
    },
    {
      "cell_type": "code",
      "source": [
        "len(audio[:1][0])"
      ],
      "metadata": {
        "colab": {
          "base_uri": "https://localhost:8080/"
        },
        "id": "a3nNQB4SrE-8",
        "outputId": "ac4368b3-8c4b-41bc-c465-5dfa3e56e568"
      },
      "execution_count": 13,
      "outputs": [
        {
          "output_type": "execute_result",
          "data": {
            "text/plain": [
              "128"
            ]
          },
          "metadata": {},
          "execution_count": 13
        }
      ]
    },
    {
      "cell_type": "code",
      "source": [
        "## video id to url translation \n",
        "#curl http://data.yt8m.org/2/j/i/op/op00.js\n",
        "import requests\n",
        "\n",
        "def generate_url(id):\n",
        "  ''' convert Youtube8M dataset-specific video IDs to true youtube catalog IDs and url '''\n",
        " \n",
        "  call_str = f'http://data.yt8m.org/2/j/i/{id[:2]}/{id}.js'\n",
        "  res = requests.get(call_str)\n",
        "  res_lst = res.text.split('\"')\n",
        "\n",
        "  yt_id = res_lst[3]\n",
        "  url = f'https://www.youtube.com/watch?v={yt_id}'\n",
        "\n",
        "  return yt_id, url"
      ],
      "metadata": {
        "id": "R3howjs0rPMw"
      },
      "execution_count": 29,
      "outputs": []
    },
    {
      "cell_type": "code",
      "source": [
        "generate_url('XabF')"
      ],
      "metadata": {
        "colab": {
          "base_uri": "https://localhost:8080/"
        },
        "id": "X6Q_Sk8qzKIt",
        "outputId": "3f470919-f595-4a09-8ea0-fe78bfa8df70"
      },
      "execution_count": 28,
      "outputs": [
        {
          "output_type": "execute_result",
          "data": {
            "text/plain": [
              "('ET9HqjaO9xg', 'https://www.youtube.com/watch?v=ET9HqjaO9xg')"
            ]
          },
          "metadata": {},
          "execution_count": 28
        }
      ]
    },
    {
      "cell_type": "code",
      "source": [
        "! curl http://data.yt8m.org/2/j/i/BF/BFbF.js"
      ],
      "metadata": {
        "colab": {
          "base_uri": "https://localhost:8080/"
        },
        "id": "tyoSE0tLx69-",
        "outputId": "5210b10b-131b-457a-8e90-0abf5937a73e"
      },
      "execution_count": 16,
      "outputs": [
        {
          "output_type": "stream",
          "name": "stdout",
          "text": [
            "i(\"BFbF\",\"-1HyXRBhVA0\");"
          ]
        }
      ]
    },
    {
      "cell_type": "code",
      "source": [
        "YouTubeVideo('-1HyXRBhVA0')"
      ],
      "metadata": {
        "colab": {
          "base_uri": "https://localhost:8080/",
          "height": 321
        },
        "id": "CrRhlAhHx_wj",
        "outputId": "3d804039-83e4-4126-fd1b-af619d167130"
      },
      "execution_count": 17,
      "outputs": [
        {
          "output_type": "execute_result",
          "data": {
            "text/plain": [
              "<IPython.lib.display.YouTubeVideo at 0x7f3adc4d3c70>"
            ],
            "text/html": [
              "\n",
              "        <iframe\n",
              "            width=\"400\"\n",
              "            height=\"300\"\n",
              "            src=\"https://www.youtube.com/embed/-1HyXRBhVA0\"\n",
              "            frameborder=\"0\"\n",
              "            allowfullscreen\n",
              "        ></iframe>\n",
              "        "
            ],
            "image/jpeg": "[encoded data removed]"
          },
          "metadata": {},
          "execution_count": 17
        }
      ]
    },
    {
      "cell_type": "code",
      "source": [],
      "metadata": {
        "id": "uEi2_o16qH-T"
      },
      "execution_count": null,
      "outputs": []
    }
  ]
}