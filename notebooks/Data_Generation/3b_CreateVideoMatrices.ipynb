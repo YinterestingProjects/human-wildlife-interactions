{
 "cells": [
  {
   "cell_type": "markdown",
   "id": "64f05eea-b87f-4367-ba36-82519933d5e5",
   "metadata": {},
   "source": [
    "# This notebook conducts a train / val / test split on the wildlife IDs, then generates the respective video train / val / test matrices, and stores all of it to ensure reproducible results."
   ]
  },
  {
   "cell_type": "code",
   "execution_count": null,
   "id": "49e1ed40-769a-41aa-bea2-2a65cddd1a91",
   "metadata": {},
   "outputs": [],
   "source": [
    "import os\n",
    "from tqdm import tqdm\n",
    "import numpy as np\n",
    "import tensorflow as tf\n",
    "import pandas as pd\n",
    "import requests\n",
    "import re\n",
    "import json\n",
    "import pickle\n",
    "from path import Path"
   ]
  },
  {
   "cell_type": "code",
   "execution_count": null,
   "id": "932a2aa7-426d-46f8-a5de-7d0d261729bc",
   "metadata": {},
   "outputs": [],
   "source": [
    "print(tf.__version__)\n",
    "print(pd.__version__)\n",
    "! python --version"
   ]
  },
  {
   "cell_type": "markdown",
   "id": "93b5d4b5-1f6f-4e47-b809-02a8ad8c76bd",
   "metadata": {},
   "source": [
    "Please set the base path where the data is stored."
   ]
  },
  {
   "cell_type": "code",
   "execution_count": null,
   "id": "2b7a6139-35c8-4585-9616-bc02446ca874",
   "metadata": {},
   "outputs": [],
   "source": [
    "# this should be the path where you are storing the entire YT8M dataset\n",
    "base_path = Path('/nfs/turbo/seas-nhcarter/human_wildlife_interactions')\n",
    "# this should be where you are storing the cloned repo\n",
    "repo_path = Path(\"/nfs/turbo/seas-nhcarter/human_wildlife_interactions/repo\")"
   ]
  },
  {
   "cell_type": "code",
   "execution_count": null,
   "id": "9a7e8eb5-3d82-4f5c-b152-c547a156d857",
   "metadata": {},
   "outputs": [],
   "source": [
    "# automatically set the paths to some other files\n",
    "video_path = Path(base_path / 'video')\n",
    "frame_path = Path(base_path / 'frame')\n",
    "hunting_dict = Path(repo_path / \"human_wildlife_interactions/data/processed/hunting_dict.json\")"
   ]
  },
  {
   "cell_type": "code",
   "execution_count": null,
   "id": "c13431b9-3e18-40ed-a1dc-ec988ba498d9",
   "metadata": {},
   "outputs": [],
   "source": [
    "# read in the data\n",
    "with open(video_path / 'classifier_video_data/video_data.pkl', 'rb') as file:\n",
    "    data = pickle.load(file, encoding = 'utf-8')\n",
    "with open(hunting_dict) as file:\n",
    "    cluster_results = json.load(file)"
   ]
  },
  {
   "cell_type": "markdown",
   "id": "b7680693-b21a-4d32-948d-0519bc6ec140",
   "metadata": {},
   "source": [
    "### Train / Val / Test split"
   ]
  },
  {
   "cell_type": "code",
   "execution_count": null,
   "id": "e47bb181-4f2a-4cd2-8430-afaa8787fdcb",
   "metadata": {},
   "outputs": [],
   "source": [
    "# remove the entries that didn't make it through clustering\n",
    "keylist = list(data.keys())\n",
    "cluster_keys = list(cluster_results.keys())\n",
    "y_vals = []\n",
    "for key in keylist:\n",
    "    if key not in cluster_keys:\n",
    "        del(data[key])\n",
    "    else:\n",
    "        y_vals.append(cluster_results[key])\n",
    "        \n",
    "# train-test-splitX\n",
    "X_train, X_test, y_train, y_test = train_test_split(list(data.keys()),y_vals, test_size=.15, random_state=42, stratify=y_vals)\n",
    "X_train, X_val, y_train, y_val = train_test_split(X_train, y_train, test_size =.15, random_state=42, stratify=y_train)\n",
    "# sanity check\n",
    "print(len(X_train), len(X_val), len(X_test), len(y_train), len(y_val), len(y_test))"
   ]
  },
  {
   "cell_type": "markdown",
   "id": "7d93d708-9c62-4c79-9a4d-8c8244e9d5cf",
   "metadata": {},
   "source": [
    "### Generate Matrices"
   ]
  },
  {
   "cell_type": "code",
   "execution_count": null,
   "id": "9d49362f-dbb0-46d5-a7a6-64595d3bf6bb",
   "metadata": {},
   "outputs": [],
   "source": [
    "def matrix_generator(data_ids):\n",
    "    raw_data_storage = []\n",
    "    \n",
    "    for key in data_ids:\n",
    "        row = []\n",
    "        rgb = data[key]['video_example'].features.feature['mean_rgb'].float_list.value\n",
    "        row.extend(rgb)\n",
    "        audio = data[key]['video_example'].features.feature['mean_audio'].float_list.value\n",
    "        row.extend(audio)\n",
    "        y_value = cluster_results[key]\n",
    "        row.append(y_value)\n",
    "        raw_data_storage.append(row)\n",
    "        \n",
    "    return np.array(raw_data_storage)\n",
    "\n",
    "train_matrix = matrix_generator(X_train)\n",
    "test_matrix = matrix_generator(X_test)\n",
    "val_matrix = matrix_generator(X_val)"
   ]
  },
  {
   "cell_type": "markdown",
   "id": "78a919e4-4500-4439-a1fb-b97e90fa5711",
   "metadata": {},
   "source": [
    "### Write to Storage"
   ]
  },
  {
   "cell_type": "code",
   "execution_count": null,
   "id": "e87ebcb3-5817-44db-8dd3-b594864801c7",
   "metadata": {},
   "outputs": [],
   "source": [
    "write_path = base_path / 'classifier_video_data\n",
    "\n",
    "# train / val / test id lists\n",
    "with open(write_path / 'train_ids.pkl', 'wb') as file:\n",
    "    pickle.dump(X_train, file)\n",
    "with open(write_path / 'val_mat.csv', 'wb') as file:\n",
    "    pickle.dump(X_val, file)\n",
    "with open(write_path / 'test_mat.csv', 'wb') as file:\n",
    "    pickle.dump(X_test, file)\n",
    "\n",
    "# matrices\n",
    "train_df = pd.DataFrame(train_matrix)\n",
    "test_df = pd.DataFrame(test_matrix)\n",
    "val_df = pd.DataFrame(val_matrix)\n",
    "train_df.to_csv(write_path /'train_mat.csv')\n",
    "test_df.to_csv(write_path / 'test_mat.csv')\n",
    "val_df.to_csv(write_path / 'val_mat.csv')"
   ]
  }
 ],
 "metadata": {
  "kernelspec": {
   "display_name": "Python 3 (ipykernel)",
   "language": "python",
   "name": "python3"
  },
  "language_info": {
   "codemirror_mode": {
    "name": "ipython",
    "version": 3
   },
   "file_extension": ".py",
   "mimetype": "text/x-python",
   "name": "python",
   "nbconvert_exporter": "python",
   "pygments_lexer": "ipython3",
   "version": "3.9.7"
  }
 },
 "nbformat": 4,
 "nbformat_minor": 5
}
