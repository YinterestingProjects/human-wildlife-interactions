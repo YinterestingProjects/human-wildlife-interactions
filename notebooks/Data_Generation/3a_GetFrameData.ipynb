{
 "cells": [
  {
   "cell_type": "markdown",
   "id": "b9545aac-a3d6-4821-aef2-1c35c2c1e0f2",
   "metadata": {},
   "source": [
    "# This notebook creates a dictionary of the frame data for use in downstream tasks\n",
    "### Keys are the yt8m_id, values are audio, rgb, and label data.\n",
    "\n",
    "##### Needs hunting_dict.json to have been created in the BERTopics section to work"
   ]
  },
  {
   "cell_type": "code",
   "execution_count": 11,
   "id": "2e825b96-c743-4da9-948d-dec3a952db58",
   "metadata": {},
   "outputs": [],
   "source": [
    "import tensorflow as tf\n",
    "import pickle\n",
    "import json\n",
    "import numpy as np\n",
    "from tqdm import tqdm\n",
    "from path import Path"
   ]
  },
  {
   "cell_type": "code",
   "execution_count": null,
   "id": "46f5ab16-2609-4a9a-a11f-a51c067b31b7",
   "metadata": {},
   "outputs": [],
   "source": [
    "# path to where the frame_data.pkl and hunting_dict.json are stored\n",
    "base_path = Path(\"/nfs/turbo/seas-nhcarter/human_wildlife_interactions/classifier_video_data/\")\n",
    "repo_path = Path(\"/nfs/turbo/seas-nhcarter/human_wildlife_interactions/repo\")"
   ]
  },
  {
   "cell_type": "code",
   "execution_count": 16,
   "id": "ed730577-ba83-4507-88d3-5df7a417e446",
   "metadata": {},
   "outputs": [],
   "source": [
    "# bring in the frame data\n",
    "with open(base_path / \"frame_data.pkl\", 'rb') as file:\n",
    "    frame_data = pickle.load(file)\n",
    "# bring in the cluster results\n",
    "with open(repo_path / \"human_wildlife_interactions/data/processed/hunting_dict.json\") as file:\n",
    "    labels = json.load(file)"
   ]
  },
  {
   "cell_type": "code",
   "execution_count": 13,
   "id": "1f45bca0-7832-4e3e-b3f9-92c5d7345378",
   "metadata": {},
   "outputs": [
    {
     "name": "stderr",
     "output_type": "stream",
     "text": [
      "100%|██████████| 4243/4243 [04:01<00:00, 17.56it/s]\n"
     ]
    }
   ],
   "source": [
    "feature_dict = {}\n",
    "\n",
    "for yt8m_id, features in tqdm(frame_data.items()):\n",
    "    if yt8m_id in set(labels.keys()):\n",
    "        # get list of audio tensors\n",
    "        audio_features = features['sequence_example'].feature_lists.feature_list['audio'].feature\n",
    "        audio_lst = []\n",
    "        rgb_features = features['sequence_example'].feature_lists.feature_list['rgb'].feature\n",
    "        rgb_lst = []\n",
    "        \n",
    "        for i in range(len(audio_features)):\n",
    "            audio_bytes = audio_features[i].bytes_list.value[0]\n",
    "            audio_np = tf.cast(tf.io.decode_raw(audio_bytes, tf.uint8), tf.float32).numpy()\n",
    "            audio_lst.append(audio_np)\n",
    "            \n",
    "            rgb_bytes = rgb_features[i].bytes_list.value[0]\n",
    "            rgb_np = tf.cast(tf.io.decode_raw(rgb_bytes, tf.uint8), tf.float32).numpy()\n",
    "            rgb_lst.append(rgb_np)\n",
    "\n",
    "        # add to feature dictionary\n",
    "        feature_dict[yt8m_id] = {'audio_lst': audio_lst,\n",
    "                                'rgb_lst': rgb_lst,\n",
    "                                'label': labels[yt8m_id]\n",
    "                                }"
   ]
  },
  {
   "cell_type": "code",
   "execution_count": 14,
   "id": "3baba8de-8994-4ed5-8964-66c0b2a47ef7",
   "metadata": {},
   "outputs": [],
   "source": [
    "with open(base_path / \"frame_features_dict.pkl', 'wb') as file:\n",
    "    pickle.dump(feature_dict, file)"
   ]
  }
 ],
 "metadata": {
  "kernelspec": {
   "display_name": "Python 3 (ipykernel)",
   "language": "python",
   "name": "python3"
  },
  "language_info": {
   "codemirror_mode": {
    "name": "ipython",
    "version": 3
   },
   "file_extension": ".py",
   "mimetype": "text/x-python",
   "name": "python",
   "nbconvert_exporter": "python",
   "pygments_lexer": "ipython3",
   "version": "3.9.7"
  }
 },
 "nbformat": 4,
 "nbformat_minor": 5
}
