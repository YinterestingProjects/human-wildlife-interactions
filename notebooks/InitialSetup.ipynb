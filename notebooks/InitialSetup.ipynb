{
  "nbformat": 4,
  "nbformat_minor": 0,
  "metadata": {
    "colab": {
      "provenance": [],
      "include_colab_link": true
    },
    "kernelspec": {
      "name": "python3",
      "display_name": "Python 3"
    },
    "language_info": {
      "name": "python"
    }
  },
  "cells": [
    {
      "cell_type": "markdown",
      "metadata": {
        "id": "view-in-github",
        "colab_type": "text"
      },
      "source": [
        "<a href=\"https://colab.research.google.com/github/YinterestingProjects/human-wildlife-interactions/blob/main/InitialSetup.ipynb\" target=\"_parent\"><img src=\"https://colab.research.google.com/assets/colab-badge.svg\" alt=\"Open In Colab\"/></a>"
      ]
    },
    {
      "cell_type": "code",
      "source": [
        "# helper function to allow all debug print statements to be turned on or off. \n",
        "# Please use dprint for any debugging print statements or other output that you don't want to clutter the interface\n",
        "dbug = 1\n",
        "def dprint(msg):\n",
        "  if dbug == 1:\n",
        "    print(msg)\n",
        "  else:\n",
        "    pass"
      ],
      "metadata": {
        "id": "YY3ZPyqMGmDV"
      },
      "execution_count": null,
      "outputs": []
    },
    {
      "cell_type": "markdown",
      "source": [
        "# Setup Instructions"
      ],
      "metadata": {
        "id": "PI2rHL9y6zwn"
      }
    },
    {
      "cell_type": "markdown",
      "source": [
        "## Step 1\n",
        "In the box below uncomment your name (make sure the others are commented out)"
      ],
      "metadata": {
        "id": "YpvDV1Ve63k5"
      }
    },
    {
      "cell_type": "code",
      "execution_count": 1,
      "metadata": {
        "id": "HbIwFKGq6tsF"
      },
      "outputs": [],
      "source": [
        "user = \"sally\"\n",
        "#user = \"jina\"\n",
        "#user = \"josh\""
      ]
    },
    {
      "cell_type": "markdown",
      "source": [
        "## Step 2a\n",
        "If you have not already done so, go to your google drive and do the following (Sally, you can skip this step and go straight to 2b):\n",
        "\n",
        "\n",
        "1.   Click on shared with me\n",
        "2.   Find the folder \"MADS Capstone\"\n",
        "3.   Right click and select \"Add shortcut to Drive\"\n",
        "4.   Place the shortcut wherever you want within your own drive\n",
        "\n",
        "\n",
        "## Step 2b\n",
        "Add the path to the variable in the cell below corresponding with your name. If you have not already done so do the following steps:\n",
        "1.   On the lefthand side of Colab there should be several icons. Find the one that looks like a folder and select it.\n",
        "2.   In the new menu that expanded, there should be 4 icons below the word \"Files\". Find the 3rd one over that looks like a folder with a drive logo on it and select it. If prompted to allow colab to access your drive select the yes option (or whatever language it is now).\n",
        "3.   There should now be a new folder in the list that says \"drive\". Navigate into this folder and find the shortcut you just created (Sally, you obviously don't have a shortcut so just find the original directory in your drive). Either right click on that shortcut or click the 3 dots next to the folder and select \"Copy Path\".\n",
        "4.   Go to the box below and paste in the path to path corresponding to your name."
      ],
      "metadata": {
        "id": "wt0wHr8aAaY0"
      }
    },
    {
      "cell_type": "code",
      "source": [
        "from google.colab import drive\n",
        "drive.mount('/content/drive')"
      ],
      "metadata": {
        "id": "Fj_DgW9sFP7u",
        "outputId": "6db53d93-089a-429c-ba54-7b7c762bd1ce",
        "colab": {
          "base_uri": "https://localhost:8080/"
        }
      },
      "execution_count": 3,
      "outputs": [
        {
          "output_type": "stream",
          "name": "stdout",
          "text": [
            "Mounted at /content/drive\n"
          ]
        }
      ]
    },
    {
      "cell_type": "code",
      "source": [
        "# directory setup\n",
        "try:\n",
        "  if user == \"sally\":\n",
        "    directory = '/content/drive/MyDrive/MADS/MADS Capstone'\n",
        "  elif user == \"jina\":\n",
        "    directory = \"JINA: INSERT YOUR PATH HERE\"\n",
        "  elif user == \"josh\":\n",
        "    directory = \"/content/drive/MyDrive/MADS Capstone\"\n",
        "except:\n",
        "  dprint(\"No user has been selected\")"
      ],
      "metadata": {
        "id": "jDIMWEztAZTp"
      },
      "execution_count": 4,
      "outputs": []
    },
    {
      "cell_type": "markdown",
      "source": [
        "## Step 3\n",
        "From here everything is the same as a normal setup. Please make sure you save to github."
      ],
      "metadata": {
        "id": "avWRPwArHUXc"
      }
    },
    {
      "cell_type": "code",
      "source": [],
      "metadata": {
        "id": "mM6NN7juHTnp"
      },
      "execution_count": null,
      "outputs": []
    }
  ]
}