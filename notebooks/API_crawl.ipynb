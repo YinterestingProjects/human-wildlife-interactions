{
  "nbformat": 4,
  "nbformat_minor": 0,
  "metadata": {
    "colab": {
      "provenance": [],
      "mount_file_id": "1wiWQJ0pAqYXs58GFhH8kBuyYwxhT7PHd",
      "authorship_tag": "ABX9TyPbCr2+lS4PE2mQNfQEQu0N",
      "include_colab_link": true
    },
    "kernelspec": {
      "name": "python3",
      "display_name": "Python 3"
    },
    "language_info": {
      "name": "python"
    }
  },
  "cells": [
    {
      "cell_type": "markdown",
      "metadata": {
        "id": "view-in-github",
        "colab_type": "text"
      },
      "source": [
        "<a href=\"https://colab.research.google.com/github/YinterestingProjects/human-wildlife-interactions/blob/main/API_crawl.ipynb\" target=\"_parent\"><img src=\"https://colab.research.google.com/assets/colab-badge.svg\" alt=\"Open In Colab\"/></a>"
      ]
    },
    {
      "cell_type": "code",
      "source": [
        "# api installs\n",
        "!pip install --upgrade google-api-python-client\n",
        "# !pip install --upgrade google-auth-oauthlib google-auth-httplib2 # not using oauth currently but leaving just in case someone wants to change that"
      ],
      "metadata": {
        "colab": {
          "base_uri": "https://localhost:8080/"
        },
        "id": "_TLO8GyY_snc",
        "outputId": "ae111d8d-17c0-4a85-9874-be514df54303"
      },
      "execution_count": 1,
      "outputs": [
        {
          "output_type": "stream",
          "name": "stdout",
          "text": [
            "Looking in indexes: https://pypi.org/simple, https://us-python.pkg.dev/colab-wheels/public/simple/\n",
            "Requirement already satisfied: google-api-python-client in /usr/local/lib/python3.8/dist-packages (2.78.0)\n",
            "Requirement already satisfied: httplib2<1dev,>=0.15.0 in /usr/local/lib/python3.8/dist-packages (from google-api-python-client) (0.17.4)\n",
            "Requirement already satisfied: uritemplate<5,>=3.0.1 in /usr/local/lib/python3.8/dist-packages (from google-api-python-client) (4.1.1)\n",
            "Requirement already satisfied: google-auth-httplib2>=0.1.0 in /usr/local/lib/python3.8/dist-packages (from google-api-python-client) (0.1.0)\n",
            "Requirement already satisfied: google-auth<3.0.0dev,>=1.19.0 in /usr/local/lib/python3.8/dist-packages (from google-api-python-client) (2.16.0)\n",
            "Requirement already satisfied: google-api-core!=2.0.*,!=2.1.*,!=2.2.*,!=2.3.0,<3.0.0dev,>=1.31.5 in /usr/local/lib/python3.8/dist-packages (from google-api-python-client) (2.11.0)\n",
            "Requirement already satisfied: requests<3.0.0dev,>=2.18.0 in /usr/local/lib/python3.8/dist-packages (from google-api-core!=2.0.*,!=2.1.*,!=2.2.*,!=2.3.0,<3.0.0dev,>=1.31.5->google-api-python-client) (2.25.1)\n",
            "Requirement already satisfied: googleapis-common-protos<2.0dev,>=1.56.2 in /usr/local/lib/python3.8/dist-packages (from google-api-core!=2.0.*,!=2.1.*,!=2.2.*,!=2.3.0,<3.0.0dev,>=1.31.5->google-api-python-client) (1.58.0)\n",
            "Requirement already satisfied: protobuf!=3.20.0,!=3.20.1,!=4.21.0,!=4.21.1,!=4.21.2,!=4.21.3,!=4.21.4,!=4.21.5,<5.0.0dev,>=3.19.5 in /usr/local/lib/python3.8/dist-packages (from google-api-core!=2.0.*,!=2.1.*,!=2.2.*,!=2.3.0,<3.0.0dev,>=1.31.5->google-api-python-client) (3.19.6)\n",
            "Requirement already satisfied: pyasn1-modules>=0.2.1 in /usr/local/lib/python3.8/dist-packages (from google-auth<3.0.0dev,>=1.19.0->google-api-python-client) (0.2.8)\n",
            "Requirement already satisfied: six>=1.9.0 in /usr/local/lib/python3.8/dist-packages (from google-auth<3.0.0dev,>=1.19.0->google-api-python-client) (1.15.0)\n",
            "Requirement already satisfied: rsa<5,>=3.1.4 in /usr/local/lib/python3.8/dist-packages (from google-auth<3.0.0dev,>=1.19.0->google-api-python-client) (4.9)\n",
            "Requirement already satisfied: cachetools<6.0,>=2.0.0 in /usr/local/lib/python3.8/dist-packages (from google-auth<3.0.0dev,>=1.19.0->google-api-python-client) (5.3.0)\n",
            "Requirement already satisfied: pyasn1<0.5.0,>=0.4.6 in /usr/local/lib/python3.8/dist-packages (from pyasn1-modules>=0.2.1->google-auth<3.0.0dev,>=1.19.0->google-api-python-client) (0.4.8)\n",
            "Requirement already satisfied: urllib3<1.27,>=1.21.1 in /usr/local/lib/python3.8/dist-packages (from requests<3.0.0dev,>=2.18.0->google-api-core!=2.0.*,!=2.1.*,!=2.2.*,!=2.3.0,<3.0.0dev,>=1.31.5->google-api-python-client) (1.24.3)\n",
            "Requirement already satisfied: idna<3,>=2.5 in /usr/local/lib/python3.8/dist-packages (from requests<3.0.0dev,>=2.18.0->google-api-core!=2.0.*,!=2.1.*,!=2.2.*,!=2.3.0,<3.0.0dev,>=1.31.5->google-api-python-client) (2.10)\n",
            "Requirement already satisfied: certifi>=2017.4.17 in /usr/local/lib/python3.8/dist-packages (from requests<3.0.0dev,>=2.18.0->google-api-core!=2.0.*,!=2.1.*,!=2.2.*,!=2.3.0,<3.0.0dev,>=1.31.5->google-api-python-client) (2022.12.7)\n",
            "Requirement already satisfied: chardet<5,>=3.0.2 in /usr/local/lib/python3.8/dist-packages (from requests<3.0.0dev,>=2.18.0->google-api-core!=2.0.*,!=2.1.*,!=2.2.*,!=2.3.0,<3.0.0dev,>=1.31.5->google-api-python-client) (4.0.0)\n"
          ]
        }
      ]
    },
    {
      "cell_type": "code",
      "execution_count": 2,
      "metadata": {
        "id": "JHob9MW3-6qu"
      },
      "outputs": [],
      "source": [
        "# necessary imports\n",
        "import pandas as pd\n",
        "import googleapiclient.discovery\n",
        "import googleapiclient.errors\n",
        "from google.colab import drive\n",
        "import requests\n",
        "import re\n",
        "import os\n",
        "import time\n",
        "import json"
      ]
    },
    {
      "cell_type": "code",
      "source": [
        "# get list of ids from yt8m api\n",
        "def get_entity_videoIds(entity_name):\n",
        "  ''' gets a list of video ids in the YT8M training dataset tagged with a given entity(name)'''\n",
        "\n",
        "  entity_id = entity2id[entity_name]\n",
        "  \n",
        "  url = f'https://storage.googleapis.com/data.yt8m.org/2/j/v/{entity_id}.js'\n",
        "  response = requests.get(url)\n",
        "  response.raise_for_status() \n",
        "  \n",
        "  data = response.text\n",
        "  pattern = r'\\w+'\n",
        "  ids = re.findall(pattern, data)[2:] # video ids start at index 2 onward\n",
        "  print(f'{entity_name}({entity_id}): {len(ids)} videos found')\n",
        "\n",
        "  return ids"
      ],
      "metadata": {
        "id": "VYndWbSY_clr"
      },
      "execution_count": 3,
      "outputs": []
    },
    {
      "cell_type": "code",
      "source": [
        "# convert from id to url\n",
        "def generate_url(id):\n",
        "  ''' convert Youtube8M dataset-specific video IDs to true youtube catalog IDs and url '''\n",
        " \n",
        "  call_str = f'http://data.yt8m.org/2/j/i/{id[:2]}/{id}.js'\n",
        "  res = requests.get(call_str)\n",
        "  res_lst = res.text.split('\"')\n",
        "\n",
        "  yt_id = res_lst[3]\n",
        "  url = f'https://www.youtube.com/watch?v={yt_id}'\n",
        "\n",
        "  return yt_id, url"
      ],
      "metadata": {
        "id": "MyG5y2FCEVlD"
      },
      "execution_count": 4,
      "outputs": []
    },
    {
      "cell_type": "code",
      "source": [
        "# get video data (currently grabs more than we need)\n",
        "def video_data_grabber(id, api_key):\n",
        "  scopes = [\"https://www.googleapis.com/auth/youtube.readonly\"]\n",
        "  api_service_name = \"youtube\"\n",
        "  api_version = \"v3\"\n",
        "\n",
        "  youtube = googleapiclient.discovery.build(\n",
        "      api_service_name, api_version, developerKey=api_key\n",
        "      )\n",
        "  request = youtube.videos().list(\n",
        "    part=\"contentDetails,  id, liveStreamingDetails, localizations, player,  recordingDetails, snippet, statistics, status, topicDetails\",\n",
        "    id= real_id\n",
        "  )\n",
        "\n",
        "  response = request.execute()\n",
        "\n",
        "  return response"
      ],
      "metadata": {
        "id": "puJ6w12G_fCI"
      },
      "execution_count": 5,
      "outputs": []
    },
    {
      "cell_type": "code",
      "source": [
        "# get comments\n",
        "def comment_grabber(id, api_key):\n",
        "  scopes = [\"https://www.googleapis.com/auth/youtube.readonly\"]\n",
        "  api_service_name = \"youtube\"\n",
        "  api_version = \"v3\"\n",
        "  \n",
        "  youtube = googleapiclient.discovery.build(\n",
        "  api_service_name, api_version, developerKey=api_key\n",
        "  )\n",
        "\n",
        "  request = youtube.commentThreads().list(\n",
        "      part=\"id, snippet\",\n",
        "      id = id\n",
        "  )\n",
        "  \n",
        "  response = request.execute()\n",
        "  \n",
        "  return response"
      ],
      "metadata": {
        "id": "hrdMxYwiD--z"
      },
      "execution_count": 6,
      "outputs": []
    },
    {
      "cell_type": "code",
      "source": [
        "\n",
        "# write results to file\n",
        "def file_writer(storage_dict, cur_count):\n",
        "  base_path = \"/content/drive/MyDrive/API_output\"\n",
        "  file_name = \"batch_\" + str(cur_count) + \".txt\"\n",
        "  full_path = os.path.join(base_path, file_name)\n",
        "  with open (full_path, \"w+\") as f:\n",
        "    f.write(json.dumps(storage_dict))\n",
        "  print(\"Wrote {}\".format(full_path))"
      ],
      "metadata": {
        "id": "yQndc9XacVtM"
      },
      "execution_count": 7,
      "outputs": []
    },
    {
      "cell_type": "code",
      "source": [
        "# main\n",
        "\n",
        "# mount drive\n",
        "drive.mount('/content/drive')\n",
        "\n",
        "# api keys (has to be a better way to do this)\n",
        "with open(\"/content/drive/MyDrive/youtubeapi.txt\") as key_file:\n",
        "  for line in key_file:\n",
        "    api_key1 = line\n",
        "\n",
        "with open(\"/content/drive/MyDrive/youtubeapi2.txt\") as key_file2:\n",
        "  for line in key_file2:\n",
        "    api_key2 = line\n",
        "\n",
        "\n",
        "# get all of the video ids\n",
        "new_url = 'https://research.google.com/youtube8m/csv/2/vocabulary.csv'\n",
        "new_vocab = pd.read_csv(new_url)\n",
        "animal_df = new_vocab[(new_vocab.Vertical1 == 'Pets & Animals') | (new_vocab.Vertical2 == 'Pets & Animals')] # Pets & Animal only present in V1&2\n",
        "summary_df = animal_df.groupby(['Name','KnowledgeGraphId']).agg({'TrainVideoCount':'sum'}).reset_index()\n",
        "entity2id = dict(zip(summary_df.Name, summary_df.KnowledgeGraphId.str[3:]))\n",
        "videoIds = get_entity_videoIds('Wildlife')\n",
        "\n",
        "# go through all values of videoIds and get the video information and comments list\n",
        "# as it stands comments are having issues so simply recording the values so we can pass back through if any have results\n",
        "storage_dict = {}\n",
        "failure_list = []\n",
        "count = 1\n",
        "for idx, id in enumerate(videoIds):\n",
        "  try:\n",
        "    real_id, vid_url = generate_url(id)\n",
        "  except:\n",
        "    failure_list.append((id,idx))\n",
        "  try:\n",
        "    video_details = video_data_grabber(real_id, api_key1)\n",
        "  except:\n",
        "    video_details = \"Invalid lookup.\"\n",
        "  try:\n",
        "    video_comments = comment_grabber(real_id, api_key2)\n",
        "  except:\n",
        "    video_comments = \"Invalid lookup\"\n",
        "  # create sub dictionary\n",
        "  video_dict = {\"real_id\":real_id, \"url\":vid_url, \n",
        "                \"details\":video_details,\"comments\":video_comments}\n",
        "  storage_dict[id] = video_dict\n",
        "  # sleep for a minute after every 100 lookups just in case there is a rate limit\n",
        "  if idx % 100 == 0 and idx != 0:\n",
        "    time.sleep(60)\n",
        "\n",
        "  # write to file every 400 lookups\n",
        "  if idx % 400 == 0 and idx != 0:\n",
        "    file_writer(storage_dict, count)\n",
        "    # reset storage_dict\n",
        "    storage_dict = {}\n",
        "    count += 1\n",
        "\n",
        "# write final value to file\n",
        "file_writer(storage_dict, count)\n",
        "  "
      ],
      "metadata": {
        "colab": {
          "base_uri": "https://localhost:8080/"
        },
        "id": "YMBhG0SRDas7",
        "outputId": "7ff281f1-0ba0-4f27-fa9f-daa5e17da9b4"
      },
      "execution_count": 10,
      "outputs": [
        {
          "output_type": "stream",
          "name": "stdout",
          "text": [
            "Drive already mounted at /content/drive; to attempt to forcibly remount, call drive.mount(\"/content/drive\", force_remount=True).\n",
            "Wildlife(01280g): 4243 videos found\n",
            "Wrote /content/drive/MyDrive/API_output/batch_1.txt\n",
            "Wrote /content/drive/MyDrive/API_output/batch_2.txt\n",
            "Wrote /content/drive/MyDrive/API_output/batch_3.txt\n",
            "Wrote /content/drive/MyDrive/API_output/batch_4.txt\n",
            "Wrote /content/drive/MyDrive/API_output/batch_5.txt\n",
            "Wrote /content/drive/MyDrive/API_output/batch_6.txt\n",
            "Wrote /content/drive/MyDrive/API_output/batch_7.txt\n",
            "Wrote /content/drive/MyDrive/API_output/batch_8.txt\n",
            "Wrote /content/drive/MyDrive/API_output/batch_9.txt\n",
            "Wrote /content/drive/MyDrive/API_output/batch_10.txt\n",
            "Wrote /content/drive/MyDrive/API_output/batch_11.txt\n"
          ]
        }
      ]
    }
  ]
}