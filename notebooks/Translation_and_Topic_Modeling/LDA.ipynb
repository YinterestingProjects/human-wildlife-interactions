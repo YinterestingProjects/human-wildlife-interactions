{
 "cells": [
  {
   "cell_type": "code",
   "execution_count": null,
   "id": "2ca4b4cf-7752-4a73-a67b-cfcdb81ad9bf",
   "metadata": {},
   "outputs": [],
   "source": [
    "import pickle\n",
    "import pandas as pd\n",
    "import matplotlib.pyplot as plt\n",
    "from sklearn.model_selection import train_test_split\n",
    "from sklearn.feature_extraction.text import CountVectorizer\n",
    "from sklearn.decomposition import LatentDirichletAllocation\n",
    "import pyLDAvis.lda_model\n",
    "import warnings\n",
    "warnings.filterwarnings('ignore', category=FutureWarning)\n",
    "\n",
    "RANDOM_SEED = 42"
   ]
  },
  {
   "cell_type": "markdown",
   "id": "e904da76-5d01-40ac-851d-cf94e12618f4",
   "metadata": {},
   "source": [
    "## Step 1: load data"
   ]
  },
  {
   "cell_type": "code",
   "execution_count": null,
   "id": "e7e91f38-3f67-4997-bc08-79fad7d3c475",
   "metadata": {},
   "outputs": [],
   "source": [
    "# enter the path for the cloned repo \n",
    "directory = ''\n",
    "\n",
    "# get corpus\n",
    "fp = f'{directory}/data/processed/topic_modeling_corpus.pkl'\n",
    "docs = pd.read_pickle(fp)\n",
    "\n",
    "# prepare train and test set\n",
    "train_data, test_data = train_test_split(docs, test_size=0.2, random_state=RANDOM_SEED)"
   ]
  },
  {
   "cell_type": "markdown",
   "id": "afbe06e1-f380-48c8-9378-5847a8711e89",
   "metadata": {},
   "source": [
    "## Step 2: modeling with LDA"
   ]
  },
  {
   "cell_type": "code",
   "execution_count": 26,
   "id": "5b03594e-57a7-4c4c-bc64-cccc5518b113",
   "metadata": {},
   "outputs": [
    {
     "name": "stdout",
     "output_type": "stream",
     "text": [
      "26 null records dropped out of 3895\n",
      "score = -23528.688577070636\n",
      "perplexity = 1375118646231556.5\n"
     ]
    }
   ],
   "source": [
    "# vectorize\n",
    "tf_vectorizer = CountVectorizer(#preprocessor=custom_preprocessor,\n",
    "                                       #max_features = 20000, # only top 10k by freq\n",
    "                                       lowercase = True, # keep capitalization\n",
    "                                       ngram_range = (2,3), # include 2-word phrases\n",
    "                                       min_df=1,  # note: absolute count of doc\n",
    "                                       max_df=0.90,   # note: % of docs\n",
    "                                       stop_words='english') # default English stopwords\n",
    "\n",
    "tf_doc_train = tf_vectorizer.fit_transform(train_data)\n",
    "tf_doc_test = tf_vectorizer.transform(test_data)\n",
    "tf_feature_names = tf_vectorizer.get_feature_names_out()\n",
    "\n",
    "# train LDA\n",
    "n_topics = 4\n",
    "lda = LatentDirichletAllocation(n_components=n_topics, random_state=RANDOM_SEED)\n",
    "lda.fit(tf_doc_train)\n",
    "topic_models = lda.components_\n",
    "\n",
    "# scoring \n",
    "score = lda.score(tf_doc_test)\n",
    "perplexity = lda.perplexity(tf_doc_test)\n",
    "print(f'{score = }')\n",
    "print(f'{perplexity = }')"
   ]
  },
  {
   "cell_type": "code",
   "execution_count": 27,
   "id": "bdbc22ab-62fa-422e-8ef4-399d3654fa4b",
   "metadata": {},
   "outputs": [],
   "source": [
    "# visualize and save report \n",
    "pyLDAvis.enable_notebook()\n",
    "panel = pyLDAvis.lda_model.prepare(lda, tf_doc_train, tf_vectorizer, mds='tsne')\n",
    "pyLDAvis.save_html(panel, f'{directory}/reports/lda_{n_topics}.html')"
   ]
  }
 ],
 "metadata": {
  "kernelspec": {
   "display_name": "Python 3 (ipykernel)",
   "language": "python",
   "name": "python3"
  },
  "language_info": {
   "codemirror_mode": {
    "name": "ipython",
    "version": 3
   },
   "file_extension": ".py",
   "mimetype": "text/x-python",
   "name": "python",
   "nbconvert_exporter": "python",
   "pygments_lexer": "ipython3",
   "version": "3.10.4"
  }
 },
 "nbformat": 4,
 "nbformat_minor": 5
}
