{
 "cells": [
  {
   "cell_type": "code",
   "execution_count": null,
   "id": "f2cedf2c-572c-46f4-8404-a555cb34d9af",
   "metadata": {},
   "outputs": [],
   "source": [
    "import pickle\n",
    "import pandas as pd\n",
    "import matplotlib.pyplot as plt\n",
    "from sklearn.model_selection import train_test_split\n",
    "from sklearn.feature_extraction.text import CountVectorizer\n",
    "from sklearn.decomposition import LatentDirichletAllocation\n",
    "import pyLDAvis.lda_model\n",
    "import warnings\n",
    "warnings.filterwarnings('ignore', category=FutureWarning)\n",
    "\n",
    "RANDOM_SEED = 42"
   ]
  },
  {
   "cell_type": "markdown",
   "id": "dd1b58c8-8985-4fc2-9ba8-9ebe0530e1a1",
   "metadata": {},
   "source": [
    "## Step 1: load data"
   ]
  },
  {
   "cell_type": "code",
   "execution_count": null,
   "id": "abb8d22c-4a81-42b2-972c-3fe38b436053",
   "metadata": {},
   "outputs": [],
   "source": [
    "# enter the path for the cloned repo \n",
    "directory = ''\n",
    "\n",
    "# get corpus\n",
    "fp = f'{directory}/data/processed/topic_modeling_corpus.pkl'\n",
    "docs = pd.read_pickle(fp)\n",
    "\n",
    "# prepare train and test set\n",
    "train_data, test_data = train_test_split(docs, test_size=0.2, random_state=RANDOM_SEED)"
   ]
  },
  {
   "cell_type": "markdown",
   "id": "edfddd77-70d8-4b72-8dbb-0fd82ce3826a",
   "metadata": {},
   "source": [
    "### Step 2: modeling with LDA"
   ]
  },
  {
   "cell_type": "code",
   "execution_count": 26,
   "id": "cc09a1be-05fd-4986-89df-69bcd4ccd3fb",
   "metadata": {},
   "outputs": [
    {
     "name": "stdout",
     "output_type": "stream",
     "text": [
      "26 null records dropped out of 3895\n",
      "score = -23528.688577070636\n",
      "perplexity = 1375118646231556.5\n"
     ]
    }
   ],
   "source": [
    "# vectorize\n",
    "tf_vectorizer = CountVectorizer(#preprocessor=custom_preprocessor,\n",
    "                                       #max_features = 20000, # only top 10k by freq\n",
    "                                       lowercase = True, # keep capitalization\n",
    "                                       ngram_range = (2,3), # include 2-word phrases\n",
    "                                       min_df=1,  # note: absolute count of doc\n",
    "                                       max_df=0.90,   # note: % of docs\n",
    "                                       stop_words='english') # default English stopwords\n",
    "\n",
    "tf_doc_train = tf_vectorizer.fit_transform(train_data)\n",
    "tf_doc_test = tf_vectorizer.transform(test_data)\n",
    "tf_feature_names = tf_vectorizer.get_feature_names_out()\n",
    "\n",
    "# train LDA\n",
    "n_topics = 4\n",
    "lda = LatentDirichletAllocation(n_components=n_topics, random_state=RANDOM_SEED)\n",
    "lda.fit(tf_doc_train)\n",
    "topic_models = lda.components_\n",
    "\n",
    "# scoring \n",
    "score = lda.score(tf_doc_test)\n",
    "perplexity = lda.perplexity(tf_doc_test)\n",
    "print(f'{score = }')\n",
    "print(f'{perplexity = }')"
   ]
  },
  {
   "cell_type": "code",
   "execution_count": 27,
   "id": "eda94813-7c09-4ba9-8479-c973fdbd6036",
   "metadata": {},
   "outputs": [],
   "source": [
    "# visualize and save report \n",
    "pyLDAvis.enable_notebook()\n",
    "panel = pyLDAvis.lda_model.prepare(lda, tf_doc_train, tf_vectorizer, mds='tsne')\n",
    "pyLDAvis.save_html(panel, f'{directory}/reports/lda_{n_topics}.html')"
   ]
  },
  {
   "cell_type": "code",
   "execution_count": 6,
   "id": "6e8aa3cd-20b9-4fe7-846f-cc82e01ae071",
   "metadata": {},
   "outputs": [
    {
     "data": {
      "text/plain": [
       "17816"
      ]
     },
     "execution_count": 6,
     "metadata": {},
     "output_type": "execute_result"
    }
   ],
   "source": [
    "len(tf_feature_names)"
   ]
  },
  {
   "cell_type": "code",
   "execution_count": null,
   "id": "e7e75b19-d68e-47df-9001-aa99808d4392",
   "metadata": {},
   "outputs": [],
   "source": []
  },
  {
   "cell_type": "code",
   "execution_count": 7,
   "id": "28fb5652-4005-4716-a95a-fa21ed69e9de",
   "metadata": {},
   "outputs": [
    {
     "ename": "NameError",
     "evalue": "name 'df' is not defined",
     "output_type": "error",
     "traceback": [
      "\u001b[0;31m---------------------------------------------------------------------------\u001b[0m",
      "\u001b[0;31mNameError\u001b[0m                                 Traceback (most recent call last)",
      "Cell \u001b[0;32mIn[7], line 1\u001b[0m\n\u001b[0;32m----> 1\u001b[0m tf_docs, tf_cols \u001b[38;5;241m=\u001b[39m count_vectorize(filter_null(\u001b[43mdf\u001b[49m[\u001b[38;5;124m'\u001b[39m\u001b[38;5;124mdesc_en\u001b[39m\u001b[38;5;124m'\u001b[39m]))\n",
      "\u001b[0;31mNameError\u001b[0m: name 'df' is not defined"
     ]
    }
   ],
   "source": [
    "tf_docs, tf_cols = count_vectorize(filter_null(df['desc_en']))"
   ]
  },
  {
   "cell_type": "code",
   "execution_count": null,
   "id": "f991f568-2a99-4804-9429-04dd97ef7f0c",
   "metadata": {},
   "outputs": [],
   "source": [
    "len(tf_cols)"
   ]
  },
  {
   "cell_type": "code",
   "execution_count": null,
   "id": "db1c0aa0-0ed4-44e1-bd67-f7c2784aa7ac",
   "metadata": {},
   "outputs": [],
   "source": [
    "tf_docs.shape"
   ]
  },
  {
   "cell_type": "code",
   "execution_count": null,
   "id": "dfddff31-ad60-4181-bbb9-254e6618fe00",
   "metadata": {},
   "outputs": [],
   "source": [
    "tf_cols[:300]"
   ]
  },
  {
   "cell_type": "code",
   "execution_count": null,
   "id": "02d89266-fb92-4a46-afe9-1bb0d289746b",
   "metadata": {},
   "outputs": [],
   "source": [
    "tf_cols[-250:]"
   ]
  },
  {
   "cell_type": "code",
   "execution_count": null,
   "id": "5ccd2956-2fab-495d-8db2-29ebc420faeb",
   "metadata": {},
   "outputs": [],
   "source": [
    "df[-40:].to_list()"
   ]
  },
  {
   "cell_type": "code",
   "execution_count": null,
   "id": "54577a77-59a4-450d-bf62-2e11e1466570",
   "metadata": {},
   "outputs": [],
   "source": []
  }
 ],
 "metadata": {
  "kernelspec": {
   "display_name": "Python 3 (ipykernel)",
   "language": "python",
   "name": "python3"
  },
  "language_info": {
   "codemirror_mode": {
    "name": "ipython",
    "version": 3
   },
   "file_extension": ".py",
   "mimetype": "text/x-python",
   "name": "python",
   "nbconvert_exporter": "python",
   "pygments_lexer": "ipython3",
   "version": "3.10.4"
  }
 },
 "nbformat": 4,
 "nbformat_minor": 5
}
