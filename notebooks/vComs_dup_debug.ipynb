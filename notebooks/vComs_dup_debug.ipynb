{
 "cells": [
  {
   "cell_type": "code",
   "execution_count": 3,
   "id": "3747f0a3-877f-41b0-9bdf-58941c542611",
   "metadata": {},
   "outputs": [],
   "source": [
    "import pandas as pd\n",
    "import json\n",
    "import os\n",
    "from tqdm import tqdm\n",
    "import pickle"
   ]
  },
  {
   "cell_type": "code",
   "execution_count": 4,
   "id": "e0dd08b3-d26d-4cb3-8311-5683d9e71b45",
   "metadata": {},
   "outputs": [],
   "source": [
    "def get_videoComments(data, report=False):\n",
    "    '''return a dataframe of all comments for videos from Youtube API pull'''\n",
    "    \n",
    "    no_comment_count = 0\n",
    "    buffer = []\n",
    "    for idx in data.keys():\n",
    "        if data[idx]['comments'] == 'Invalid lookup':\n",
    "            no_comment_count += 1\n",
    "        elif len(data[idx]['comments']['items']) == 0:\n",
    "            no_comment_count += 1\n",
    "        else:\n",
    "            # normalize video comments \n",
    "            coms_df = pd.json_normalize(data[idx]['comments']['items'], errors='ignore')\n",
    "            coms_df['yt8M_id'] = idx\n",
    "            buffer.append(coms_df)\n",
    "    \n",
    "    videoComs_df = pd.concat(buffer,ignore_index=True)\n",
    "\n",
    "    if report:\n",
    "        print(f'{no_comment_count = }')\n",
    "\n",
    "    return videoComs_df"
   ]
  },
  {
   "cell_type": "code",
   "execution_count": null,
   "id": "bf6efd32-c55f-4aa4-85de-30e2b29c017c",
   "metadata": {},
   "outputs": [],
   "source": []
  }
 ],
 "metadata": {
  "kernelspec": {
   "display_name": "Python 3 (ipykernel)",
   "language": "python",
   "name": "python3"
  },
  "language_info": {
   "codemirror_mode": {
    "name": "ipython",
    "version": 3
   },
   "file_extension": ".py",
   "mimetype": "text/x-python",
   "name": "python",
   "nbconvert_exporter": "python",
   "pygments_lexer": "ipython3",
   "version": "3.10.4"
  }
 },
 "nbformat": 4,
 "nbformat_minor": 5
}
