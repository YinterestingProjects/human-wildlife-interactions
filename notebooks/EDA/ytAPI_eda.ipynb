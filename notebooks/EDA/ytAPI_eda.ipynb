{
 "cells": [
  {
   "cell_type": "markdown",
   "id": "c76bbd08-e407-4154-9b00-d231e7ed6c0a",
   "metadata": {},
   "source": [
    "## ytAPI EDA"
   ]
  },
  {
   "cell_type": "code",
   "execution_count": 5,
   "id": "0154f7b9-f7f9-4e8b-a142-c722c72846e8",
   "metadata": {},
   "outputs": [],
   "source": [
    "import pandas as pd\n",
    "import json"
   ]
  },
  {
   "cell_type": "code",
   "execution_count": 8,
   "id": "2d29f2c6-4f12-4713-a26f-4845485882b4",
   "metadata": {},
   "outputs": [],
   "source": [
    "f_path = '../data/raw/api_data/batch_1.txt'\n",
    "#f_path = 'batch_1.txt'"
   ]
  },
  {
   "cell_type": "code",
   "execution_count": 9,
   "id": "406c087f-cc4e-4838-9cc0-28442e950c3b",
   "metadata": {},
   "outputs": [
    {
     "data": {
      "text/plain": [
       "dict_keys(['HTft', 'VX3C', 'j2Er', '3HOO', '6nfW', 'NX6e', 'ljAU', 'zmk6', 'qX7a', '3Z4A', 'kugn', '2D9o', 'Tvnd', 'A9Jp', 'f3CR', '8wSl', 'c5bl', 'Vzzo', 'q6q3', 'n5Fs', 't0Bw', 'HKe5', 'vl93', 'jId6', 'jVOi', 'k1zc', 'm6yR', 'bf5f', 'N18Y', 'XsYW', 'OS8Z', 'gvQ3', 'hg9C', 'H9s4', 'h8wH', 'xlED', 'Fk1r', 'NqDH', 'MHCW', 'aXq0', 'cpJm', 'oiqg', 'HWCr', 'cb44', '0pbB', 'kAg3', '3MK0', 'MkPf', '1JZp', 'HsQi', 'g36T', 'gQgI', 'RrfA', 'U4WQ', 'BJJT', 'HUXJ', 'bgFU', 'VKVk', 'v6Jb', 'ckRp', '1GkD', 'Tvwp', 'MxCz', 'cQLr', 'jaMK', 'j754', 'HSxR', 'qV7K', 'Fqcv', 'dZtG', '4OWh', 'pi3C', 'tZnF', 'gppj', 'L3Y7', '58k1', '6Rnt', 'sY6e', 'Pkmb', '6Sir', 'x4s1', 'MF1C', 'CQsG', 'wsnG', 'IWBa', 'CPLf', 'geO1', 'MfNZ', 'CHLs', 'G73Q', 'mySa', 'ZJtc', 'kIqz', 'xAML', 'mdpd', 'HqdQ', 'rXwN', 'Me1G', '1vhB', 'qlxI', '1L5X', 'hqSU', 'm6sr', 'Q8IG', 'bUNn', 'aJ5h', 'ltaN', 'UXRo', 'NgXq', 'C8CR', 'Yr9Z', 'E0j8', 'zh9J', 'NK0o', 'Adae', 'cvyG', 'nMdP', 'apAF', 'kD1n', 'yDSL', 'tVQg', 'BC84', 'iqqn', 'Ns8Q', 'WobE', 'Jqgh', 'AtFl', 'hWcl', 'oY6F', 'TyoT', 'Z24N', '8yq4', 'Egbd', 'aTeK', 'VVHe', 'B9aK', 'kFUL', 'GBlk', 'Cu1y', 't8nd', 'tFqi', 'sVzP', 'mQde', 'lcnC', 'eiwX', 'k63Z', '0nvV', 'SKCY', '2ZHW', 'BZv2', 's1IV', 'BACH', 'I5nO', '1GXZ', 'DL9J', 'Qd5a', '4Fda', 'unKT', 'RNve', 'VFhl', 'wvEz', 'CPOA', 'O5Wh', 'haAQ', 'fGj9', 'heav', 'ORiH', '6TT9', 'Br1K', 'ZFEC', 'YVje', 'ydsF', 'TcpT', 'BGoR', 'cAVz', 'p3G7', '83pT', 'Oj9F', '5XHo', '28R1', 'Fs9Z', 'kNrv', '89zT', 'CnhY', 'R2l8', '255d', '33C7', 'b9D0', 'iAVr', 'IxMp', 'LiEL', 'pQPa', 'LHJN', '4SIw', 'qOld', '6O59', 'hsUV', 'nlEw', 'GWlH', 'Jbhb', 'caxf', 'oWcB', '4YLa', 'EjDb', 'yAKC', 'KHuG', 'o1Xg', 'UkUF', 'LJ3t', 'PmbG', 'Bf3B', 'jH9z', 'LSf7', 'Z2Ie', 'rawz', 'shFp', '6mix', 'BSiP', 'pCGU', 'U0lz', 'zvAS', 'VwH4', 'VW5h', 'Zh4c', 'y2WT', 'bVtR', 'i7dC', 'xk1f', 'NmwS', '6pcG', 'hheb', 'HxMR', 'CEyU', 'hcIw', 'FnSQ', 'WeOe', 'XS47', 'intf', 'heEs', 'tcAn', 'T31m', 'eG7Y', '8ivc', 'Qdvh', '7dB8', 'PLC1', 'OVzV', 'sP1E', 'iJy1', 'ctne', 'UKvP', 'k0Uq', '6KPM', 'C2Zz', 'zpwN', 'cVDS', 'TTuF', 'NDCO', 'WfD6', '6avt', 'lAMU', 'z7qs', 'o2OD', 'clsD', 'HBV7', 'EngL', 'aXe6', '4juQ', 'vakt', 'cTPQ', 'ojup', 'UhWA', 'YIo7', '0m2G', 'OBjN', 'bkJs', 'X9N9', '4wEd', 'IqJX', 'aLvP', '4qkd', '7fo0', 'hsBG', 'QQu3', 'LEYg', '76RZ', 'ZVR9', 'hnk1', '1seR', 'ioWK', '4GOS', 'fdrR', '1JsL', 'ihlY', 'CJlz', 'i1Vu', 'jLtZ', 'Drd2', '6F0O', 'V1jJ', 'Jc3B', 'Stio', 'w0dO', 'e5XO', 'h9vb', '6hSv', '3wDC', 'rNTM', '9drQ', 'c4GF', 'YVNa', 'qQbG', 'p9fg', 'fC1p', 'KFYx', 'ZOn2', 'wN3A', 'c1ql', 'oV0f', 'W70S', 'nH9u', 'imSp', '6uAl', 'odgA', '2Gbu', 'eSGE', 'W1FW', '0PbM', 'hKG4', 'Mqjh', 'cCSA', 'OEFK', '8Sdf', '3KFG', 'UKXQ', 'KLE3', 'JbGy', '7Cuf', '2wco', 'MmmP', 'I4dL', 'PMN1', 'DQuf', 'QX8J', 'j2tE', 'zfk0', '2sKm', '5utB', 'YQAT', 'ylP0', '1dNW', 'AHS0', 'RO3k', 'txz2', '8dPq', 'UBu5', 'mYIi', 'QYB5', 'Q3YH', 'rfZD', 'SZFE', 'LKEP', 'dCv9', 'xtiV', 'b8aj', 'qro0', 't2D0', 'Vl4B', 'Uuls', 'v6Vk', 'oRIQ', 'kd68', '4A6L', 'jEzi', 'pWCU', '8m6f', 'RR8e', 'Qmr9', 'ygXD', 'AlS0', 'vbDT', 'OrWs', 'VbKm', 'zT6z', '1Apr', 'H1VU', 'm8mX', 'GIiw', 'cxTg', 'ijr7', 'w2KX', 'ShdW', '2w0W', 'Cfhs', 'TvQx', 'IMAh', 'Kvzk', 'aWDC', 'UpRU', 'HNFX', 'SBwu'])"
      ]
     },
     "execution_count": 9,
     "metadata": {},
     "output_type": "execute_result"
    }
   ],
   "source": [
    "with open(f_path) as f:\n",
    "      data = json.load(f) # read ALL the file and parse. no loops\n",
    "data.keys()"
   ]
  },
  {
   "cell_type": "code",
   "execution_count": null,
   "id": "d8c01590-d82d-4f04-8975-84d16071791d",
   "metadata": {},
   "outputs": [],
   "source": [
    "# test_batch = {k:data[k] for k in list(data.keys())[:15]}\n",
    "# with open('../data/processed/test_batch.txt', 'w+') as file:\n",
    "#      file.write(json.dumps(test_batch))"
   ]
  },
  {
   "cell_type": "markdown",
   "id": "fb9983fc-af34-418f-a086-fd123f1ad0ca",
   "metadata": {
    "jp-MarkdownHeadingCollapsed": true,
    "tags": []
   },
   "source": [
    "## Video Details"
   ]
  },
  {
   "cell_type": "code",
   "execution_count": null,
   "id": "ea54795a-3a22-40f6-92ae-399c0f7a3aa6",
   "metadata": {},
   "outputs": [],
   "source": [
    "data['HTft']"
   ]
  },
  {
   "cell_type": "code",
   "execution_count": null,
   "id": "4a2a0007-2217-4b05-ac18-028df98aff3b",
   "metadata": {},
   "outputs": [],
   "source": [
    "data['HTft'].keys()"
   ]
  },
  {
   "cell_type": "code",
   "execution_count": null,
   "id": "68b689c3-2002-4833-afaa-770e2428aba0",
   "metadata": {},
   "outputs": [],
   "source": [
    "data['HTft']['details'].keys()"
   ]
  },
  {
   "cell_type": "code",
   "execution_count": null,
   "id": "6d7a419e-059f-46b8-989c-2b53a4e1105f",
   "metadata": {},
   "outputs": [],
   "source": [
    "pd.json_normalize(data['HTft']['details'])"
   ]
  },
  {
   "cell_type": "code",
   "execution_count": null,
   "id": "90611f50-a798-4e24-90cc-e65b6c6a6f70",
   "metadata": {},
   "outputs": [],
   "source": [
    "data['HTft']['details']['items']"
   ]
  },
  {
   "cell_type": "code",
   "execution_count": null,
   "id": "f7864603-5a28-4bbc-82e7-4fb61f8465dd",
   "metadata": {},
   "outputs": [],
   "source": [
    "data['HTft']['details']['items'][0].keys()"
   ]
  },
  {
   "cell_type": "code",
   "execution_count": null,
   "id": "5a840313-c193-4627-b449-c5d19775c1c8",
   "metadata": {},
   "outputs": [],
   "source": [
    "data['HTft']['details']['items'][0]['snippet'].keys()"
   ]
  },
  {
   "cell_type": "code",
   "execution_count": null,
   "id": "3770d7d0-ae4b-4668-a5ed-ae10d2ec2388",
   "metadata": {},
   "outputs": [],
   "source": [
    "pd.json_normalize(data['HTft']['details']['items'][0]).columns"
   ]
  },
  {
   "cell_type": "code",
   "execution_count": null,
   "id": "7b25be1a-10e4-457f-89f5-61490408bfdd",
   "metadata": {},
   "outputs": [],
   "source": [
    "pd.json_normalize(data['HTft']['details']['items'][0]['snippet']).columns"
   ]
  },
  {
   "cell_type": "code",
   "execution_count": null,
   "id": "4ed6edcb-ee54-45d0-a246-60533ef53567",
   "metadata": {},
   "outputs": [],
   "source": [
    "# check if data[id]['details']['items'] has more than 1 item\n",
    "\n",
    "count = 0\n",
    "exception_ids = []\n",
    "for i in data.keys():\n",
    "    if len(data[i]['details']['items']) != 1:\n",
    "        count += 1\n",
    "        exception_ids.append(i)\n",
    "\n",
    "print(f'{count} of videos with not 1 object in videoDetails item list')\n",
    "exception_ids"
   ]
  },
  {
   "cell_type": "code",
   "execution_count": null,
   "id": "93b9c21a-9f8e-4a89-816c-4e3dcc51369e",
   "metadata": {},
   "outputs": [],
   "source": [
    "{i: data[i]['details']['items'] for i in exception_ids} "
   ]
  },
  {
   "cell_type": "markdown",
   "id": "9f78752e-a7cf-4b9b-88cd-ff0dabe3c134",
   "metadata": {},
   "source": [
    "## Video Comments"
   ]
  },
  {
   "cell_type": "code",
   "execution_count": 10,
   "id": "f1307af9-4614-4543-b624-4a919c0e005d",
   "metadata": {},
   "outputs": [
    {
     "data": {
      "text/plain": [
       "dict_keys(['kind', 'etag', 'pageInfo', 'items'])"
      ]
     },
     "execution_count": 10,
     "metadata": {},
     "output_type": "execute_result"
    }
   ],
   "source": [
    "data['HTft']['comments'].keys()"
   ]
  },
  {
   "cell_type": "code",
   "execution_count": null,
   "id": "22d49f83-ee9b-468b-a9b6-f5be75c2dd11",
   "metadata": {},
   "outputs": [],
   "source": [
    "data['HTft']['comments']['items']"
   ]
  },
  {
   "cell_type": "code",
   "execution_count": null,
   "id": "3572efd7-2a66-4af5-a94c-07f1209f9b6c",
   "metadata": {},
   "outputs": [],
   "source": [
    "# check if data[id]['comments']['items'] has more than 1 item\n",
    "\n",
    "no_comment_count = 0\n",
    "exception_ids = []\n",
    "for i in data.keys():\n",
    "    if data[i]['comments'] == 'Invalid lookup':\n",
    "        no_comment_count += 1\n",
    "        exception_ids.append(i)\n",
    "\n",
    "print(f'{no_comment_count} of videos with no comments in comments item list')\n",
    "exception_ids"
   ]
  },
  {
   "cell_type": "code",
   "execution_count": null,
   "id": "0a68c6f3-a072-4d45-b375-cf03fccb5188",
   "metadata": {},
   "outputs": [],
   "source": [
    "data['kugn']['comments']"
   ]
  },
  {
   "cell_type": "code",
   "execution_count": null,
   "id": "4eac5b1b-367d-4fea-ad8a-2c1e1e04aed4",
   "metadata": {},
   "outputs": [],
   "source": [
    "# descriptive analysis \n",
    "\n",
    "# video details df\n",
    "# comments df "
   ]
  },
  {
   "cell_type": "code",
   "execution_count": null,
   "id": "57148cb4-58e5-4523-aaed-80d44fe89280",
   "metadata": {},
   "outputs": [],
   "source": [
    "# crawl batch file and create long txt file\n",
    "# eliminate failures case 2, add those to failure list"
   ]
  },
  {
   "cell_type": "code",
   "execution_count": 12,
   "id": "d4ab9457-2250-4fb6-81b4-e8d2eced9d10",
   "metadata": {},
   "outputs": [
    {
     "data": {
      "text/plain": [
       "dict_keys(['kind', 'etag', 'pageInfo', 'items'])"
      ]
     },
     "execution_count": 12,
     "metadata": {},
     "output_type": "execute_result"
    }
   ],
   "source": [
    "# more than one comments\n",
    "data['j2Er']['comments'].keys()"
   ]
  },
  {
   "cell_type": "code",
   "execution_count": 19,
   "id": "afac0ddc-ed91-4b0b-a431-dc2e52f0c317",
   "metadata": {},
   "outputs": [],
   "source": [
    "#pd.json_normalize(data['j2Er']['comments']['items'], errors='ignore')"
   ]
  },
  {
   "cell_type": "code",
   "execution_count": null,
   "id": "1386738d-72fa-4ed0-9fed-ba1212c2a4e6",
   "metadata": {},
   "outputs": [],
   "source": []
  }
 ],
 "metadata": {
  "kernelspec": {
   "display_name": "Python 3 (ipykernel)",
   "language": "python",
   "name": "python3"
  },
  "language_info": {
   "codemirror_mode": {
    "name": "ipython",
    "version": 3
   },
   "file_extension": ".py",
   "mimetype": "text/x-python",
   "name": "python",
   "nbconvert_exporter": "python",
   "pygments_lexer": "ipython3",
   "version": "3.10.4"
  }
 },
 "nbformat": 4,
 "nbformat_minor": 5
}
