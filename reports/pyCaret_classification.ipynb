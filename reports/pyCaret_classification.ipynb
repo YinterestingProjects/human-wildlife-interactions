{
  "nbformat": 4,
  "nbformat_minor": 0,
  "metadata": {
    "colab": {
      "provenance": [],
      "include_colab_link": true
    },
    "kernelspec": {
      "name": "python3",
      "display_name": "Python 3"
    },
    "language_info": {
      "name": "python"
    },
    "widgets": {
      "application/vnd.jupyter.widget-state+json": {
        "4c645911a6984653a8c983d28abedd26": {
          "model_module": "@jupyter-widgets/controls",
          "model_name": "HBoxModel",
          "model_module_version": "1.5.0",
          "state": {
            "_dom_classes": [],
            "_model_module": "@jupyter-widgets/controls",
            "_model_module_version": "1.5.0",
            "_model_name": "HBoxModel",
            "_view_count": null,
            "_view_module": "@jupyter-widgets/controls",
            "_view_module_version": "1.5.0",
            "_view_name": "HBoxView",
            "box_style": "",
            "children": [
              "IPY_MODEL_b986389f103e4210971d2cb02e67a8ae",
              "IPY_MODEL_6b9244f058db4561bce29d16e140f7cd",
              "IPY_MODEL_8916eed8315d4c339cf7ff2511e76516"
            ],
            "layout": "IPY_MODEL_04ae8cfef6f84ad795dcf54ece6d8384"
          }
        },
        "b986389f103e4210971d2cb02e67a8ae": {
          "model_module": "@jupyter-widgets/controls",
          "model_name": "HTMLModel",
          "model_module_version": "1.5.0",
          "state": {
            "_dom_classes": [],
            "_model_module": "@jupyter-widgets/controls",
            "_model_module_version": "1.5.0",
            "_model_name": "HTMLModel",
            "_view_count": null,
            "_view_module": "@jupyter-widgets/controls",
            "_view_module_version": "1.5.0",
            "_view_name": "HTMLView",
            "description": "",
            "description_tooltip": null,
            "layout": "IPY_MODEL_a6facab873e040f6a4a61e44261dfa89",
            "placeholder": "​",
            "style": "IPY_MODEL_404e5d00a2394393b2998055696642bf",
            "value": "Processing: 100%"
          }
        },
        "6b9244f058db4561bce29d16e140f7cd": {
          "model_module": "@jupyter-widgets/controls",
          "model_name": "FloatProgressModel",
          "model_module_version": "1.5.0",
          "state": {
            "_dom_classes": [],
            "_model_module": "@jupyter-widgets/controls",
            "_model_module_version": "1.5.0",
            "_model_name": "FloatProgressModel",
            "_view_count": null,
            "_view_module": "@jupyter-widgets/controls",
            "_view_module_version": "1.5.0",
            "_view_name": "ProgressView",
            "bar_style": "",
            "description": "",
            "description_tooltip": null,
            "layout": "IPY_MODEL_ec01614376f74778be7eac9b8e35e5a2",
            "max": 65,
            "min": 0,
            "orientation": "horizontal",
            "style": "IPY_MODEL_60fa286f8007457ca092228e90b30d42",
            "value": 65
          }
        },
        "8916eed8315d4c339cf7ff2511e76516": {
          "model_module": "@jupyter-widgets/controls",
          "model_name": "HTMLModel",
          "model_module_version": "1.5.0",
          "state": {
            "_dom_classes": [],
            "_model_module": "@jupyter-widgets/controls",
            "_model_module_version": "1.5.0",
            "_model_name": "HTMLModel",
            "_view_count": null,
            "_view_module": "@jupyter-widgets/controls",
            "_view_module_version": "1.5.0",
            "_view_name": "HTMLView",
            "description": "",
            "description_tooltip": null,
            "layout": "IPY_MODEL_1dbfd00ffeaf45cebd4efbb169699911",
            "placeholder": "​",
            "style": "IPY_MODEL_ab8179787c784ae191126a69a33b9dae",
            "value": " 65/65 [23:28&lt;00:00, 25.21s/it]"
          }
        },
        "04ae8cfef6f84ad795dcf54ece6d8384": {
          "model_module": "@jupyter-widgets/base",
          "model_name": "LayoutModel",
          "model_module_version": "1.2.0",
          "state": {
            "_model_module": "@jupyter-widgets/base",
            "_model_module_version": "1.2.0",
            "_model_name": "LayoutModel",
            "_view_count": null,
            "_view_module": "@jupyter-widgets/base",
            "_view_module_version": "1.2.0",
            "_view_name": "LayoutView",
            "align_content": null,
            "align_items": null,
            "align_self": null,
            "border": null,
            "bottom": null,
            "display": null,
            "flex": null,
            "flex_flow": null,
            "grid_area": null,
            "grid_auto_columns": null,
            "grid_auto_flow": null,
            "grid_auto_rows": null,
            "grid_column": null,
            "grid_gap": null,
            "grid_row": null,
            "grid_template_areas": null,
            "grid_template_columns": null,
            "grid_template_rows": null,
            "height": null,
            "justify_content": null,
            "justify_items": null,
            "left": null,
            "margin": null,
            "max_height": null,
            "max_width": null,
            "min_height": null,
            "min_width": null,
            "object_fit": null,
            "object_position": null,
            "order": null,
            "overflow": null,
            "overflow_x": null,
            "overflow_y": null,
            "padding": null,
            "right": null,
            "top": null,
            "visibility": "hidden",
            "width": null
          }
        },
        "a6facab873e040f6a4a61e44261dfa89": {
          "model_module": "@jupyter-widgets/base",
          "model_name": "LayoutModel",
          "model_module_version": "1.2.0",
          "state": {
            "_model_module": "@jupyter-widgets/base",
            "_model_module_version": "1.2.0",
            "_model_name": "LayoutModel",
            "_view_count": null,
            "_view_module": "@jupyter-widgets/base",
            "_view_module_version": "1.2.0",
            "_view_name": "LayoutView",
            "align_content": null,
            "align_items": null,
            "align_self": null,
            "border": null,
            "bottom": null,
            "display": null,
            "flex": null,
            "flex_flow": null,
            "grid_area": null,
            "grid_auto_columns": null,
            "grid_auto_flow": null,
            "grid_auto_rows": null,
            "grid_column": null,
            "grid_gap": null,
            "grid_row": null,
            "grid_template_areas": null,
            "grid_template_columns": null,
            "grid_template_rows": null,
            "height": null,
            "justify_content": null,
            "justify_items": null,
            "left": null,
            "margin": null,
            "max_height": null,
            "max_width": null,
            "min_height": null,
            "min_width": null,
            "object_fit": null,
            "object_position": null,
            "order": null,
            "overflow": null,
            "overflow_x": null,
            "overflow_y": null,
            "padding": null,
            "right": null,
            "top": null,
            "visibility": null,
            "width": null
          }
        },
        "404e5d00a2394393b2998055696642bf": {
          "model_module": "@jupyter-widgets/controls",
          "model_name": "DescriptionStyleModel",
          "model_module_version": "1.5.0",
          "state": {
            "_model_module": "@jupyter-widgets/controls",
            "_model_module_version": "1.5.0",
            "_model_name": "DescriptionStyleModel",
            "_view_count": null,
            "_view_module": "@jupyter-widgets/base",
            "_view_module_version": "1.2.0",
            "_view_name": "StyleView",
            "description_width": ""
          }
        },
        "ec01614376f74778be7eac9b8e35e5a2": {
          "model_module": "@jupyter-widgets/base",
          "model_name": "LayoutModel",
          "model_module_version": "1.2.0",
          "state": {
            "_model_module": "@jupyter-widgets/base",
            "_model_module_version": "1.2.0",
            "_model_name": "LayoutModel",
            "_view_count": null,
            "_view_module": "@jupyter-widgets/base",
            "_view_module_version": "1.2.0",
            "_view_name": "LayoutView",
            "align_content": null,
            "align_items": null,
            "align_self": null,
            "border": null,
            "bottom": null,
            "display": null,
            "flex": null,
            "flex_flow": null,
            "grid_area": null,
            "grid_auto_columns": null,
            "grid_auto_flow": null,
            "grid_auto_rows": null,
            "grid_column": null,
            "grid_gap": null,
            "grid_row": null,
            "grid_template_areas": null,
            "grid_template_columns": null,
            "grid_template_rows": null,
            "height": null,
            "justify_content": null,
            "justify_items": null,
            "left": null,
            "margin": null,
            "max_height": null,
            "max_width": null,
            "min_height": null,
            "min_width": null,
            "object_fit": null,
            "object_position": null,
            "order": null,
            "overflow": null,
            "overflow_x": null,
            "overflow_y": null,
            "padding": null,
            "right": null,
            "top": null,
            "visibility": null,
            "width": null
          }
        },
        "60fa286f8007457ca092228e90b30d42": {
          "model_module": "@jupyter-widgets/controls",
          "model_name": "ProgressStyleModel",
          "model_module_version": "1.5.0",
          "state": {
            "_model_module": "@jupyter-widgets/controls",
            "_model_module_version": "1.5.0",
            "_model_name": "ProgressStyleModel",
            "_view_count": null,
            "_view_module": "@jupyter-widgets/base",
            "_view_module_version": "1.2.0",
            "_view_name": "StyleView",
            "bar_color": null,
            "description_width": ""
          }
        },
        "1dbfd00ffeaf45cebd4efbb169699911": {
          "model_module": "@jupyter-widgets/base",
          "model_name": "LayoutModel",
          "model_module_version": "1.2.0",
          "state": {
            "_model_module": "@jupyter-widgets/base",
            "_model_module_version": "1.2.0",
            "_model_name": "LayoutModel",
            "_view_count": null,
            "_view_module": "@jupyter-widgets/base",
            "_view_module_version": "1.2.0",
            "_view_name": "LayoutView",
            "align_content": null,
            "align_items": null,
            "align_self": null,
            "border": null,
            "bottom": null,
            "display": null,
            "flex": null,
            "flex_flow": null,
            "grid_area": null,
            "grid_auto_columns": null,
            "grid_auto_flow": null,
            "grid_auto_rows": null,
            "grid_column": null,
            "grid_gap": null,
            "grid_row": null,
            "grid_template_areas": null,
            "grid_template_columns": null,
            "grid_template_rows": null,
            "height": null,
            "justify_content": null,
            "justify_items": null,
            "left": null,
            "margin": null,
            "max_height": null,
            "max_width": null,
            "min_height": null,
            "min_width": null,
            "object_fit": null,
            "object_position": null,
            "order": null,
            "overflow": null,
            "overflow_x": null,
            "overflow_y": null,
            "padding": null,
            "right": null,
            "top": null,
            "visibility": null,
            "width": null
          }
        },
        "ab8179787c784ae191126a69a33b9dae": {
          "model_module": "@jupyter-widgets/controls",
          "model_name": "DescriptionStyleModel",
          "model_module_version": "1.5.0",
          "state": {
            "_model_module": "@jupyter-widgets/controls",
            "_model_module_version": "1.5.0",
            "_model_name": "DescriptionStyleModel",
            "_view_count": null,
            "_view_module": "@jupyter-widgets/base",
            "_view_module_version": "1.2.0",
            "_view_name": "StyleView",
            "description_width": ""
          }
        },
        "456709e58faa4542aac9a7f78033013e": {
          "model_module": "@jupyter-widgets/controls",
          "model_name": "HBoxModel",
          "model_module_version": "1.5.0",
          "state": {
            "_dom_classes": [],
            "_model_module": "@jupyter-widgets/controls",
            "_model_module_version": "1.5.0",
            "_model_name": "HBoxModel",
            "_view_count": null,
            "_view_module": "@jupyter-widgets/controls",
            "_view_module_version": "1.5.0",
            "_view_name": "HBoxView",
            "box_style": "",
            "children": [
              "IPY_MODEL_65d19e0d946d4ad7916555b6bce84727",
              "IPY_MODEL_e555aa641cae4c08b9e6e95178d44831",
              "IPY_MODEL_77147687fb9d43a1b293772ecc6596ba"
            ],
            "layout": "IPY_MODEL_b7f28033679f444a93c57740a6a310b8"
          }
        },
        "65d19e0d946d4ad7916555b6bce84727": {
          "model_module": "@jupyter-widgets/controls",
          "model_name": "HTMLModel",
          "model_module_version": "1.5.0",
          "state": {
            "_dom_classes": [],
            "_model_module": "@jupyter-widgets/controls",
            "_model_module_version": "1.5.0",
            "_model_name": "HTMLModel",
            "_view_count": null,
            "_view_module": "@jupyter-widgets/controls",
            "_view_module_version": "1.5.0",
            "_view_name": "HTMLView",
            "description": "",
            "description_tooltip": null,
            "layout": "IPY_MODEL_f0fef3e7b0564ecc80bfa288165dfd9d",
            "placeholder": "​",
            "style": "IPY_MODEL_84413940897142059b3d09e60878bdec",
            "value": "Processing: 100%"
          }
        },
        "e555aa641cae4c08b9e6e95178d44831": {
          "model_module": "@jupyter-widgets/controls",
          "model_name": "FloatProgressModel",
          "model_module_version": "1.5.0",
          "state": {
            "_dom_classes": [],
            "_model_module": "@jupyter-widgets/controls",
            "_model_module_version": "1.5.0",
            "_model_name": "FloatProgressModel",
            "_view_count": null,
            "_view_module": "@jupyter-widgets/controls",
            "_view_module_version": "1.5.0",
            "_view_name": "ProgressView",
            "bar_style": "",
            "description": "",
            "description_tooltip": null,
            "layout": "IPY_MODEL_4a8392e4647642e599ed1f431d4cd1a5",
            "max": 65,
            "min": 0,
            "orientation": "horizontal",
            "style": "IPY_MODEL_b3ebc59e0c644193857fd08e942f2f63",
            "value": 65
          }
        },
        "77147687fb9d43a1b293772ecc6596ba": {
          "model_module": "@jupyter-widgets/controls",
          "model_name": "HTMLModel",
          "model_module_version": "1.5.0",
          "state": {
            "_dom_classes": [],
            "_model_module": "@jupyter-widgets/controls",
            "_model_module_version": "1.5.0",
            "_model_name": "HTMLModel",
            "_view_count": null,
            "_view_module": "@jupyter-widgets/controls",
            "_view_module_version": "1.5.0",
            "_view_name": "HTMLView",
            "description": "",
            "description_tooltip": null,
            "layout": "IPY_MODEL_100a93be60754c77b5a23335e6bbea7d",
            "placeholder": "​",
            "style": "IPY_MODEL_e9bd7779096a42be88e122c456a5bef6",
            "value": " 65/65 [41:08&lt;00:00, 20.85s/it]"
          }
        },
        "b7f28033679f444a93c57740a6a310b8": {
          "model_module": "@jupyter-widgets/base",
          "model_name": "LayoutModel",
          "model_module_version": "1.2.0",
          "state": {
            "_model_module": "@jupyter-widgets/base",
            "_model_module_version": "1.2.0",
            "_model_name": "LayoutModel",
            "_view_count": null,
            "_view_module": "@jupyter-widgets/base",
            "_view_module_version": "1.2.0",
            "_view_name": "LayoutView",
            "align_content": null,
            "align_items": null,
            "align_self": null,
            "border": null,
            "bottom": null,
            "display": null,
            "flex": null,
            "flex_flow": null,
            "grid_area": null,
            "grid_auto_columns": null,
            "grid_auto_flow": null,
            "grid_auto_rows": null,
            "grid_column": null,
            "grid_gap": null,
            "grid_row": null,
            "grid_template_areas": null,
            "grid_template_columns": null,
            "grid_template_rows": null,
            "height": null,
            "justify_content": null,
            "justify_items": null,
            "left": null,
            "margin": null,
            "max_height": null,
            "max_width": null,
            "min_height": null,
            "min_width": null,
            "object_fit": null,
            "object_position": null,
            "order": null,
            "overflow": null,
            "overflow_x": null,
            "overflow_y": null,
            "padding": null,
            "right": null,
            "top": null,
            "visibility": "hidden",
            "width": null
          }
        },
        "f0fef3e7b0564ecc80bfa288165dfd9d": {
          "model_module": "@jupyter-widgets/base",
          "model_name": "LayoutModel",
          "model_module_version": "1.2.0",
          "state": {
            "_model_module": "@jupyter-widgets/base",
            "_model_module_version": "1.2.0",
            "_model_name": "LayoutModel",
            "_view_count": null,
            "_view_module": "@jupyter-widgets/base",
            "_view_module_version": "1.2.0",
            "_view_name": "LayoutView",
            "align_content": null,
            "align_items": null,
            "align_self": null,
            "border": null,
            "bottom": null,
            "display": null,
            "flex": null,
            "flex_flow": null,
            "grid_area": null,
            "grid_auto_columns": null,
            "grid_auto_flow": null,
            "grid_auto_rows": null,
            "grid_column": null,
            "grid_gap": null,
            "grid_row": null,
            "grid_template_areas": null,
            "grid_template_columns": null,
            "grid_template_rows": null,
            "height": null,
            "justify_content": null,
            "justify_items": null,
            "left": null,
            "margin": null,
            "max_height": null,
            "max_width": null,
            "min_height": null,
            "min_width": null,
            "object_fit": null,
            "object_position": null,
            "order": null,
            "overflow": null,
            "overflow_x": null,
            "overflow_y": null,
            "padding": null,
            "right": null,
            "top": null,
            "visibility": null,
            "width": null
          }
        },
        "84413940897142059b3d09e60878bdec": {
          "model_module": "@jupyter-widgets/controls",
          "model_name": "DescriptionStyleModel",
          "model_module_version": "1.5.0",
          "state": {
            "_model_module": "@jupyter-widgets/controls",
            "_model_module_version": "1.5.0",
            "_model_name": "DescriptionStyleModel",
            "_view_count": null,
            "_view_module": "@jupyter-widgets/base",
            "_view_module_version": "1.2.0",
            "_view_name": "StyleView",
            "description_width": ""
          }
        },
        "4a8392e4647642e599ed1f431d4cd1a5": {
          "model_module": "@jupyter-widgets/base",
          "model_name": "LayoutModel",
          "model_module_version": "1.2.0",
          "state": {
            "_model_module": "@jupyter-widgets/base",
            "_model_module_version": "1.2.0",
            "_model_name": "LayoutModel",
            "_view_count": null,
            "_view_module": "@jupyter-widgets/base",
            "_view_module_version": "1.2.0",
            "_view_name": "LayoutView",
            "align_content": null,
            "align_items": null,
            "align_self": null,
            "border": null,
            "bottom": null,
            "display": null,
            "flex": null,
            "flex_flow": null,
            "grid_area": null,
            "grid_auto_columns": null,
            "grid_auto_flow": null,
            "grid_auto_rows": null,
            "grid_column": null,
            "grid_gap": null,
            "grid_row": null,
            "grid_template_areas": null,
            "grid_template_columns": null,
            "grid_template_rows": null,
            "height": null,
            "justify_content": null,
            "justify_items": null,
            "left": null,
            "margin": null,
            "max_height": null,
            "max_width": null,
            "min_height": null,
            "min_width": null,
            "object_fit": null,
            "object_position": null,
            "order": null,
            "overflow": null,
            "overflow_x": null,
            "overflow_y": null,
            "padding": null,
            "right": null,
            "top": null,
            "visibility": null,
            "width": null
          }
        },
        "b3ebc59e0c644193857fd08e942f2f63": {
          "model_module": "@jupyter-widgets/controls",
          "model_name": "ProgressStyleModel",
          "model_module_version": "1.5.0",
          "state": {
            "_model_module": "@jupyter-widgets/controls",
            "_model_module_version": "1.5.0",
            "_model_name": "ProgressStyleModel",
            "_view_count": null,
            "_view_module": "@jupyter-widgets/base",
            "_view_module_version": "1.2.0",
            "_view_name": "StyleView",
            "bar_color": null,
            "description_width": ""
          }
        },
        "100a93be60754c77b5a23335e6bbea7d": {
          "model_module": "@jupyter-widgets/base",
          "model_name": "LayoutModel",
          "model_module_version": "1.2.0",
          "state": {
            "_model_module": "@jupyter-widgets/base",
            "_model_module_version": "1.2.0",
            "_model_name": "LayoutModel",
            "_view_count": null,
            "_view_module": "@jupyter-widgets/base",
            "_view_module_version": "1.2.0",
            "_view_name": "LayoutView",
            "align_content": null,
            "align_items": null,
            "align_self": null,
            "border": null,
            "bottom": null,
            "display": null,
            "flex": null,
            "flex_flow": null,
            "grid_area": null,
            "grid_auto_columns": null,
            "grid_auto_flow": null,
            "grid_auto_rows": null,
            "grid_column": null,
            "grid_gap": null,
            "grid_row": null,
            "grid_template_areas": null,
            "grid_template_columns": null,
            "grid_template_rows": null,
            "height": null,
            "justify_content": null,
            "justify_items": null,
            "left": null,
            "margin": null,
            "max_height": null,
            "max_width": null,
            "min_height": null,
            "min_width": null,
            "object_fit": null,
            "object_position": null,
            "order": null,
            "overflow": null,
            "overflow_x": null,
            "overflow_y": null,
            "padding": null,
            "right": null,
            "top": null,
            "visibility": null,
            "width": null
          }
        },
        "e9bd7779096a42be88e122c456a5bef6": {
          "model_module": "@jupyter-widgets/controls",
          "model_name": "DescriptionStyleModel",
          "model_module_version": "1.5.0",
          "state": {
            "_model_module": "@jupyter-widgets/controls",
            "_model_module_version": "1.5.0",
            "_model_name": "DescriptionStyleModel",
            "_view_count": null,
            "_view_module": "@jupyter-widgets/base",
            "_view_module_version": "1.2.0",
            "_view_name": "StyleView",
            "description_width": ""
          }
        },
        "73dd5304a5264fd0aff1902b02f40021": {
          "model_module": "@jupyter-widgets/controls",
          "model_name": "HBoxModel",
          "model_module_version": "1.5.0",
          "state": {
            "_dom_classes": [],
            "_model_module": "@jupyter-widgets/controls",
            "_model_module_version": "1.5.0",
            "_model_name": "HBoxModel",
            "_view_count": null,
            "_view_module": "@jupyter-widgets/controls",
            "_view_module_version": "1.5.0",
            "_view_name": "HBoxView",
            "box_style": "",
            "children": [
              "IPY_MODEL_5425a6ed18284ba2aa4cb98e31a6c5f2",
              "IPY_MODEL_56d014001eb6449783dbcc6e1598460a",
              "IPY_MODEL_5e0908fcbd2647c1aa02edb00db0e39c"
            ],
            "layout": "IPY_MODEL_9374b662e4eb4e42b7b24e488f154e3d"
          }
        },
        "5425a6ed18284ba2aa4cb98e31a6c5f2": {
          "model_module": "@jupyter-widgets/controls",
          "model_name": "HTMLModel",
          "model_module_version": "1.5.0",
          "state": {
            "_dom_classes": [],
            "_model_module": "@jupyter-widgets/controls",
            "_model_module_version": "1.5.0",
            "_model_name": "HTMLModel",
            "_view_count": null,
            "_view_module": "@jupyter-widgets/controls",
            "_view_module_version": "1.5.0",
            "_view_name": "HTMLView",
            "description": "",
            "description_tooltip": null,
            "layout": "IPY_MODEL_2749a49b98254cac8b3c7800e17cef6a",
            "placeholder": "​",
            "style": "IPY_MODEL_f261a3f266fa4a99a09fbab924814338",
            "value": "Processing: 100%"
          }
        },
        "56d014001eb6449783dbcc6e1598460a": {
          "model_module": "@jupyter-widgets/controls",
          "model_name": "FloatProgressModel",
          "model_module_version": "1.5.0",
          "state": {
            "_dom_classes": [],
            "_model_module": "@jupyter-widgets/controls",
            "_model_module_version": "1.5.0",
            "_model_name": "FloatProgressModel",
            "_view_count": null,
            "_view_module": "@jupyter-widgets/controls",
            "_view_module_version": "1.5.0",
            "_view_name": "ProgressView",
            "bar_style": "",
            "description": "",
            "description_tooltip": null,
            "layout": "IPY_MODEL_49307e647206461e9e5aa3ec3845e36a",
            "max": 4,
            "min": 0,
            "orientation": "horizontal",
            "style": "IPY_MODEL_5dd61d08f32047e9ad4c7d4813902438",
            "value": 4
          }
        },
        "5e0908fcbd2647c1aa02edb00db0e39c": {
          "model_module": "@jupyter-widgets/controls",
          "model_name": "HTMLModel",
          "model_module_version": "1.5.0",
          "state": {
            "_dom_classes": [],
            "_model_module": "@jupyter-widgets/controls",
            "_model_module_version": "1.5.0",
            "_model_name": "HTMLModel",
            "_view_count": null,
            "_view_module": "@jupyter-widgets/controls",
            "_view_module_version": "1.5.0",
            "_view_name": "HTMLView",
            "description": "",
            "description_tooltip": null,
            "layout": "IPY_MODEL_cfc35ebc738a453aa74a4d211523bc32",
            "placeholder": "​",
            "style": "IPY_MODEL_f648686b7ca346b7aaf9e4a1ef76ce04",
            "value": " 4/4 [01:12&lt;00:00, 22.50s/it]"
          }
        },
        "9374b662e4eb4e42b7b24e488f154e3d": {
          "model_module": "@jupyter-widgets/base",
          "model_name": "LayoutModel",
          "model_module_version": "1.2.0",
          "state": {
            "_model_module": "@jupyter-widgets/base",
            "_model_module_version": "1.2.0",
            "_model_name": "LayoutModel",
            "_view_count": null,
            "_view_module": "@jupyter-widgets/base",
            "_view_module_version": "1.2.0",
            "_view_name": "LayoutView",
            "align_content": null,
            "align_items": null,
            "align_self": null,
            "border": null,
            "bottom": null,
            "display": null,
            "flex": null,
            "flex_flow": null,
            "grid_area": null,
            "grid_auto_columns": null,
            "grid_auto_flow": null,
            "grid_auto_rows": null,
            "grid_column": null,
            "grid_gap": null,
            "grid_row": null,
            "grid_template_areas": null,
            "grid_template_columns": null,
            "grid_template_rows": null,
            "height": null,
            "justify_content": null,
            "justify_items": null,
            "left": null,
            "margin": null,
            "max_height": null,
            "max_width": null,
            "min_height": null,
            "min_width": null,
            "object_fit": null,
            "object_position": null,
            "order": null,
            "overflow": null,
            "overflow_x": null,
            "overflow_y": null,
            "padding": null,
            "right": null,
            "top": null,
            "visibility": "hidden",
            "width": null
          }
        },
        "2749a49b98254cac8b3c7800e17cef6a": {
          "model_module": "@jupyter-widgets/base",
          "model_name": "LayoutModel",
          "model_module_version": "1.2.0",
          "state": {
            "_model_module": "@jupyter-widgets/base",
            "_model_module_version": "1.2.0",
            "_model_name": "LayoutModel",
            "_view_count": null,
            "_view_module": "@jupyter-widgets/base",
            "_view_module_version": "1.2.0",
            "_view_name": "LayoutView",
            "align_content": null,
            "align_items": null,
            "align_self": null,
            "border": null,
            "bottom": null,
            "display": null,
            "flex": null,
            "flex_flow": null,
            "grid_area": null,
            "grid_auto_columns": null,
            "grid_auto_flow": null,
            "grid_auto_rows": null,
            "grid_column": null,
            "grid_gap": null,
            "grid_row": null,
            "grid_template_areas": null,
            "grid_template_columns": null,
            "grid_template_rows": null,
            "height": null,
            "justify_content": null,
            "justify_items": null,
            "left": null,
            "margin": null,
            "max_height": null,
            "max_width": null,
            "min_height": null,
            "min_width": null,
            "object_fit": null,
            "object_position": null,
            "order": null,
            "overflow": null,
            "overflow_x": null,
            "overflow_y": null,
            "padding": null,
            "right": null,
            "top": null,
            "visibility": null,
            "width": null
          }
        },
        "f261a3f266fa4a99a09fbab924814338": {
          "model_module": "@jupyter-widgets/controls",
          "model_name": "DescriptionStyleModel",
          "model_module_version": "1.5.0",
          "state": {
            "_model_module": "@jupyter-widgets/controls",
            "_model_module_version": "1.5.0",
            "_model_name": "DescriptionStyleModel",
            "_view_count": null,
            "_view_module": "@jupyter-widgets/base",
            "_view_module_version": "1.2.0",
            "_view_name": "StyleView",
            "description_width": ""
          }
        },
        "49307e647206461e9e5aa3ec3845e36a": {
          "model_module": "@jupyter-widgets/base",
          "model_name": "LayoutModel",
          "model_module_version": "1.2.0",
          "state": {
            "_model_module": "@jupyter-widgets/base",
            "_model_module_version": "1.2.0",
            "_model_name": "LayoutModel",
            "_view_count": null,
            "_view_module": "@jupyter-widgets/base",
            "_view_module_version": "1.2.0",
            "_view_name": "LayoutView",
            "align_content": null,
            "align_items": null,
            "align_self": null,
            "border": null,
            "bottom": null,
            "display": null,
            "flex": null,
            "flex_flow": null,
            "grid_area": null,
            "grid_auto_columns": null,
            "grid_auto_flow": null,
            "grid_auto_rows": null,
            "grid_column": null,
            "grid_gap": null,
            "grid_row": null,
            "grid_template_areas": null,
            "grid_template_columns": null,
            "grid_template_rows": null,
            "height": null,
            "justify_content": null,
            "justify_items": null,
            "left": null,
            "margin": null,
            "max_height": null,
            "max_width": null,
            "min_height": null,
            "min_width": null,
            "object_fit": null,
            "object_position": null,
            "order": null,
            "overflow": null,
            "overflow_x": null,
            "overflow_y": null,
            "padding": null,
            "right": null,
            "top": null,
            "visibility": null,
            "width": null
          }
        },
        "5dd61d08f32047e9ad4c7d4813902438": {
          "model_module": "@jupyter-widgets/controls",
          "model_name": "ProgressStyleModel",
          "model_module_version": "1.5.0",
          "state": {
            "_model_module": "@jupyter-widgets/controls",
            "_model_module_version": "1.5.0",
            "_model_name": "ProgressStyleModel",
            "_view_count": null,
            "_view_module": "@jupyter-widgets/base",
            "_view_module_version": "1.2.0",
            "_view_name": "StyleView",
            "bar_color": null,
            "description_width": ""
          }
        },
        "cfc35ebc738a453aa74a4d211523bc32": {
          "model_module": "@jupyter-widgets/base",
          "model_name": "LayoutModel",
          "model_module_version": "1.2.0",
          "state": {
            "_model_module": "@jupyter-widgets/base",
            "_model_module_version": "1.2.0",
            "_model_name": "LayoutModel",
            "_view_count": null,
            "_view_module": "@jupyter-widgets/base",
            "_view_module_version": "1.2.0",
            "_view_name": "LayoutView",
            "align_content": null,
            "align_items": null,
            "align_self": null,
            "border": null,
            "bottom": null,
            "display": null,
            "flex": null,
            "flex_flow": null,
            "grid_area": null,
            "grid_auto_columns": null,
            "grid_auto_flow": null,
            "grid_auto_rows": null,
            "grid_column": null,
            "grid_gap": null,
            "grid_row": null,
            "grid_template_areas": null,
            "grid_template_columns": null,
            "grid_template_rows": null,
            "height": null,
            "justify_content": null,
            "justify_items": null,
            "left": null,
            "margin": null,
            "max_height": null,
            "max_width": null,
            "min_height": null,
            "min_width": null,
            "object_fit": null,
            "object_position": null,
            "order": null,
            "overflow": null,
            "overflow_x": null,
            "overflow_y": null,
            "padding": null,
            "right": null,
            "top": null,
            "visibility": null,
            "width": null
          }
        },
        "f648686b7ca346b7aaf9e4a1ef76ce04": {
          "model_module": "@jupyter-widgets/controls",
          "model_name": "DescriptionStyleModel",
          "model_module_version": "1.5.0",
          "state": {
            "_model_module": "@jupyter-widgets/controls",
            "_model_module_version": "1.5.0",
            "_model_name": "DescriptionStyleModel",
            "_view_count": null,
            "_view_module": "@jupyter-widgets/base",
            "_view_module_version": "1.2.0",
            "_view_name": "StyleView",
            "description_width": ""
          }
        },
        "0f1c12da84d64c97b7f15edacbb8493f": {
          "model_module": "@jupyter-widgets/base",
          "model_name": "LayoutModel",
          "model_module_version": "1.2.0",
          "state": {
            "_model_module": "@jupyter-widgets/base",
            "_model_module_version": "1.2.0",
            "_model_name": "LayoutModel",
            "_view_count": null,
            "_view_module": "@jupyter-widgets/base",
            "_view_module_version": "1.2.0",
            "_view_name": "LayoutView",
            "align_content": null,
            "align_items": null,
            "align_self": null,
            "border": null,
            "bottom": null,
            "display": null,
            "flex": null,
            "flex_flow": null,
            "grid_area": null,
            "grid_auto_columns": null,
            "grid_auto_flow": null,
            "grid_auto_rows": null,
            "grid_column": null,
            "grid_gap": null,
            "grid_row": null,
            "grid_template_areas": null,
            "grid_template_columns": null,
            "grid_template_rows": null,
            "height": null,
            "justify_content": null,
            "justify_items": null,
            "left": null,
            "margin": null,
            "max_height": null,
            "max_width": null,
            "min_height": null,
            "min_width": null,
            "object_fit": null,
            "object_position": null,
            "order": null,
            "overflow": null,
            "overflow_x": null,
            "overflow_y": null,
            "padding": null,
            "right": null,
            "top": null,
            "visibility": null,
            "width": null
          }
        },
        "48a40c137ef643e1a3dfd96aab2a07ed": {
          "model_module": "@jupyter-widgets/controls",
          "model_name": "ProgressStyleModel",
          "model_module_version": "1.5.0",
          "state": {
            "_model_module": "@jupyter-widgets/controls",
            "_model_module_version": "1.5.0",
            "_model_name": "ProgressStyleModel",
            "_view_count": null,
            "_view_module": "@jupyter-widgets/base",
            "_view_module_version": "1.2.0",
            "_view_name": "StyleView",
            "bar_color": null,
            "description_width": ""
          }
        },
        "fe39913bcc264c96953393ad20672700": {
          "model_module": "@jupyter-widgets/base",
          "model_name": "LayoutModel",
          "model_module_version": "1.2.0",
          "state": {
            "_model_module": "@jupyter-widgets/base",
            "_model_module_version": "1.2.0",
            "_model_name": "LayoutModel",
            "_view_count": null,
            "_view_module": "@jupyter-widgets/base",
            "_view_module_version": "1.2.0",
            "_view_name": "LayoutView",
            "align_content": null,
            "align_items": null,
            "align_self": null,
            "border": null,
            "bottom": null,
            "display": null,
            "flex": null,
            "flex_flow": null,
            "grid_area": null,
            "grid_auto_columns": null,
            "grid_auto_flow": null,
            "grid_auto_rows": null,
            "grid_column": null,
            "grid_gap": null,
            "grid_row": null,
            "grid_template_areas": null,
            "grid_template_columns": null,
            "grid_template_rows": null,
            "height": null,
            "justify_content": null,
            "justify_items": null,
            "left": null,
            "margin": null,
            "max_height": null,
            "max_width": null,
            "min_height": null,
            "min_width": null,
            "object_fit": null,
            "object_position": null,
            "order": null,
            "overflow": null,
            "overflow_x": null,
            "overflow_y": null,
            "padding": null,
            "right": null,
            "top": null,
            "visibility": null,
            "width": null
          }
        },
        "d9dc6264ff2c4730826b1aa33a889610": {
          "model_module": "@jupyter-widgets/controls",
          "model_name": "DescriptionStyleModel",
          "model_module_version": "1.5.0",
          "state": {
            "_model_module": "@jupyter-widgets/controls",
            "_model_module_version": "1.5.0",
            "_model_name": "DescriptionStyleModel",
            "_view_count": null,
            "_view_module": "@jupyter-widgets/base",
            "_view_module_version": "1.2.0",
            "_view_name": "StyleView",
            "description_width": ""
          }
        },
        "da71b8dde62d4f1b80a9b86836ae558a": {
          "model_module": "@jupyter-widgets/base",
          "model_name": "LayoutModel",
          "model_module_version": "1.2.0",
          "state": {
            "_model_module": "@jupyter-widgets/base",
            "_model_module_version": "1.2.0",
            "_model_name": "LayoutModel",
            "_view_count": null,
            "_view_module": "@jupyter-widgets/base",
            "_view_module_version": "1.2.0",
            "_view_name": "LayoutView",
            "align_content": null,
            "align_items": null,
            "align_self": null,
            "border": null,
            "bottom": null,
            "display": null,
            "flex": null,
            "flex_flow": null,
            "grid_area": null,
            "grid_auto_columns": null,
            "grid_auto_flow": null,
            "grid_auto_rows": null,
            "grid_column": null,
            "grid_gap": null,
            "grid_row": null,
            "grid_template_areas": null,
            "grid_template_columns": null,
            "grid_template_rows": null,
            "height": null,
            "justify_content": null,
            "justify_items": null,
            "left": null,
            "margin": null,
            "max_height": null,
            "max_width": null,
            "min_height": null,
            "min_width": null,
            "object_fit": null,
            "object_position": null,
            "order": null,
            "overflow": null,
            "overflow_x": null,
            "overflow_y": null,
            "padding": null,
            "right": null,
            "top": null,
            "visibility": null,
            "width": null
          }
        },
        "5cadba3bc3364dca86cfb2f3ecf9fe9b": {
          "model_module": "@jupyter-widgets/controls",
          "model_name": "DescriptionStyleModel",
          "model_module_version": "1.5.0",
          "state": {
            "_model_module": "@jupyter-widgets/controls",
            "_model_module_version": "1.5.0",
            "_model_name": "DescriptionStyleModel",
            "_view_count": null,
            "_view_module": "@jupyter-widgets/base",
            "_view_module_version": "1.2.0",
            "_view_name": "StyleView",
            "description_width": ""
          }
        },
        "dbbf31101c554f8096b8ea6da2b1ba49": {
          "model_module": "@jupyter-widgets/controls",
          "model_name": "HTMLModel",
          "model_module_version": "1.5.0",
          "state": {
            "_dom_classes": [],
            "_model_module": "@jupyter-widgets/controls",
            "_model_module_version": "1.5.0",
            "_model_name": "HTMLModel",
            "_view_count": null,
            "_view_module": "@jupyter-widgets/controls",
            "_view_module_version": "1.5.0",
            "_view_name": "HTMLView",
            "description": "",
            "description_tooltip": null,
            "layout": "IPY_MODEL_fe39913bcc264c96953393ad20672700",
            "placeholder": "​",
            "style": "IPY_MODEL_d9dc6264ff2c4730826b1aa33a889610",
            "value": "Processing: 100%"
          }
        },
        "5e1d65a7e8e44752bb84272fe480790e": {
          "model_module": "@jupyter-widgets/controls",
          "model_name": "FloatProgressModel",
          "model_module_version": "1.5.0",
          "state": {
            "_dom_classes": [],
            "_model_module": "@jupyter-widgets/controls",
            "_model_module_version": "1.5.0",
            "_model_name": "FloatProgressModel",
            "_view_count": null,
            "_view_module": "@jupyter-widgets/controls",
            "_view_module_version": "1.5.0",
            "_view_name": "ProgressView",
            "bar_style": "",
            "description": "",
            "description_tooltip": null,
            "layout": "IPY_MODEL_0f1c12da84d64c97b7f15edacbb8493f",
            "max": 7,
            "min": 0,
            "orientation": "horizontal",
            "style": "IPY_MODEL_48a40c137ef643e1a3dfd96aab2a07ed",
            "value": 7
          }
        },
        "14214e2585774d13bb92ec03be7950fe": {
          "model_module": "@jupyter-widgets/controls",
          "model_name": "HTMLModel",
          "model_module_version": "1.5.0",
          "state": {
            "_dom_classes": [],
            "_model_module": "@jupyter-widgets/controls",
            "_model_module_version": "1.5.0",
            "_model_name": "HTMLModel",
            "_view_count": null,
            "_view_module": "@jupyter-widgets/controls",
            "_view_module_version": "1.5.0",
            "_view_name": "HTMLView",
            "description": "",
            "description_tooltip": null,
            "layout": "IPY_MODEL_da71b8dde62d4f1b80a9b86836ae558a",
            "placeholder": "​",
            "style": "IPY_MODEL_5cadba3bc3364dca86cfb2f3ecf9fe9b",
            "value": " 7/7 [1:10:40&lt;00:00, 457.94s/it]"
          }
        },
        "e5b91ffb7f044b478a0aad066c4c5d5b": {
          "model_module": "@jupyter-widgets/base",
          "model_name": "LayoutModel",
          "model_module_version": "1.2.0",
          "state": {
            "_model_module": "@jupyter-widgets/base",
            "_model_module_version": "1.2.0",
            "_model_name": "LayoutModel",
            "_view_count": null,
            "_view_module": "@jupyter-widgets/base",
            "_view_module_version": "1.2.0",
            "_view_name": "LayoutView",
            "align_content": null,
            "align_items": null,
            "align_self": null,
            "border": null,
            "bottom": null,
            "display": null,
            "flex": null,
            "flex_flow": null,
            "grid_area": null,
            "grid_auto_columns": null,
            "grid_auto_flow": null,
            "grid_auto_rows": null,
            "grid_column": null,
            "grid_gap": null,
            "grid_row": null,
            "grid_template_areas": null,
            "grid_template_columns": null,
            "grid_template_rows": null,
            "height": null,
            "justify_content": null,
            "justify_items": null,
            "left": null,
            "margin": null,
            "max_height": null,
            "max_width": null,
            "min_height": null,
            "min_width": null,
            "object_fit": null,
            "object_position": null,
            "order": null,
            "overflow": null,
            "overflow_x": null,
            "overflow_y": null,
            "padding": null,
            "right": null,
            "top": null,
            "visibility": "hidden",
            "width": null
          }
        },
        "52c37b84641e4df3a55c842d95a9e54c": {
          "model_module": "@jupyter-widgets/controls",
          "model_name": "HBoxModel",
          "model_module_version": "1.5.0",
          "state": {
            "_dom_classes": [],
            "_model_module": "@jupyter-widgets/controls",
            "_model_module_version": "1.5.0",
            "_model_name": "HBoxModel",
            "_view_count": null,
            "_view_module": "@jupyter-widgets/controls",
            "_view_module_version": "1.5.0",
            "_view_name": "HBoxView",
            "box_style": "",
            "children": [
              "IPY_MODEL_dbbf31101c554f8096b8ea6da2b1ba49",
              "IPY_MODEL_5e1d65a7e8e44752bb84272fe480790e",
              "IPY_MODEL_14214e2585774d13bb92ec03be7950fe"
            ],
            "layout": "IPY_MODEL_e5b91ffb7f044b478a0aad066c4c5d5b"
          }
        }
      }
    }
  },
  "cells": [
    {
      "cell_type": "markdown",
      "metadata": {
        "id": "view-in-github",
        "colab_type": "text"
      },
      "source": [
        "<a href=\"https://colab.research.google.com/github/YinterestingProjects/human-wildlife-interactions/blob/main/reports/pyCaret_classification.ipynb\" target=\"_parent\"><img src=\"https://colab.research.google.com/assets/colab-badge.svg\" alt=\"Open In Colab\"/></a>"
      ]
    },
    {
      "cell_type": "markdown",
      "source": [
        "# This notebook generates a large number of standard classifiers and compares their performance.\n",
        "\n",
        "### Imports"
      ],
      "metadata": {
        "id": "IAwIByIxHfIq"
      }
    },
    {
      "cell_type": "code",
      "source": [
        "# uncomment if you need to install\n",
        "# !pip install pycaret"
      ],
      "metadata": {
        "id": "yjXliTMHOZ-R"
      },
      "execution_count": 2,
      "outputs": []
    },
    {
      "cell_type": "code",
      "execution_count": 3,
      "metadata": {
        "colab": {
          "base_uri": "https://localhost:8080/",
          "height": 35
        },
        "id": "RgRLIL_QOIuN",
        "outputId": "e8d9ac6b-0471-4f79-ad3e-52175d425aed"
      },
      "outputs": [
        {
          "output_type": "execute_result",
          "data": {
            "text/plain": [
              "'3.0.0'"
            ],
            "application/vnd.google.colaboratory.intrinsic+json": {
              "type": "string"
            }
          },
          "metadata": {},
          "execution_count": 3
        }
      ],
      "source": [
        "import pycaret\n",
        "pycaret.__version__"
      ]
    },
    {
      "cell_type": "code",
      "source": [
        "import pandas as pd\n",
        "pd.__version__"
      ],
      "metadata": {
        "colab": {
          "base_uri": "https://localhost:8080/",
          "height": 35
        },
        "id": "veWKB1sVP0Hi",
        "outputId": "e0ee9579-5add-4fdb-cd5c-a2603bca5f9e"
      },
      "execution_count": 4,
      "outputs": [
        {
          "output_type": "execute_result",
          "data": {
            "text/plain": [
              "'1.5.3'"
            ],
            "application/vnd.google.colaboratory.intrinsic+json": {
              "type": "string"
            }
          },
          "metadata": {},
          "execution_count": 4
        }
      ]
    },
    {
      "cell_type": "code",
      "source": [
        "from google.colab import drive\n",
        "drive.mount('/content/drive')"
      ],
      "metadata": {
        "colab": {
          "base_uri": "https://localhost:8080/"
        },
        "id": "avI5L9PBOwA9",
        "outputId": "0047e713-61af-48d6-a241-1d1aab1d4852"
      },
      "execution_count": 5,
      "outputs": [
        {
          "output_type": "stream",
          "name": "stdout",
          "text": [
            "Mounted at /content/drive\n"
          ]
        }
      ]
    },
    {
      "cell_type": "markdown",
      "source": [
        "### Read in the data"
      ],
      "metadata": {
        "id": "z36uMRQWHbbQ"
      }
    },
    {
      "cell_type": "code",
      "source": [
        "# you will need to update this path to reflect where your data is stored\n",
        "path = '/content/drive/MyDrive/MADS_Capstone/data/classifier_video_data'\n",
        "\n",
        "train = pd.read_csv(f'{path}/train_mat.csv').drop('Unnamed: 0', axis=1)\n",
        "test = pd.read_csv(f'{path}/test_mat.csv').drop('Unnamed: 0', axis=1)\n",
        "val = pd.read_csv(f'{path}/val_mat.csv').drop('Unnamed: 0', axis=1)\n",
        "\n",
        "\n",
        "data = pd.concat([train, val], ignore_index=True)\n",
        "data = train\n",
        "data.head()"
      ],
      "metadata": {
        "colab": {
          "base_uri": "https://localhost:8080/",
          "height": 280
        },
        "id": "FzGbJ--MPeMD",
        "outputId": "df4373ae-18e4-44e8-b774-43cfe24eda0c"
      },
      "execution_count": 8,
      "outputs": [
        {
          "output_type": "execute_result",
          "data": {
            "text/plain": [
              "          0         1         2         3         4         5         6  \\\n",
              "0 -1.092736  1.297852 -0.577338  0.397512  0.513120  0.139577  0.213303   \n",
              "1  0.010270 -0.379638 -0.731220  0.832701 -1.359926  0.405773 -0.346750   \n",
              "2 -0.709696  0.912165 -0.556337  0.658960 -0.146936 -0.108666  0.382781   \n",
              "3 -0.051398  0.843935 -0.899119  0.298009 -0.136678 -0.153138  0.173292   \n",
              "4  0.365525  0.766934 -0.444885  0.132905 -0.075787  0.112231 -0.065450   \n",
              "\n",
              "          7         8         9  ...      1143      1144      1145      1146  \\\n",
              "0 -0.020161  0.397878  0.321120  ... -0.289965  0.303760 -0.595534 -0.401129   \n",
              "1  1.820152 -0.247874  0.213773  ...  0.340728 -0.066488  0.159551  0.541616   \n",
              "2  0.386842  0.144817  0.555887  ...  0.290722 -0.617135  0.013709 -1.144406   \n",
              "3  0.812673 -0.586057 -0.516242  ...  0.682543  0.037859 -0.328780 -0.291884   \n",
              "4  0.475979 -0.044921  0.209457  ... -0.237204 -0.496570  0.048257 -0.323298   \n",
              "\n",
              "       1147      1148      1149      1150      1151  1152  \n",
              "0  0.183969 -0.182514 -0.540423 -0.164475  0.506636   0.0  \n",
              "1 -0.211220  0.284675 -0.077259  0.358610  0.692362   0.0  \n",
              "2  0.844303  0.422275  1.086717 -0.125576  0.042300   0.0  \n",
              "3  0.314689 -0.158219  0.807481  0.382074 -0.964516   0.0  \n",
              "4  0.060618 -0.641072  0.449811  0.000837  0.102834   0.0  \n",
              "\n",
              "[5 rows x 1153 columns]"
            ],
            "text/html": [
              "\n",
              "  <div id=\"df-a11681b1-53c4-4b4b-b161-c403b9385b16\">\n",
              "    <div class=\"colab-df-container\">\n",
              "      <div>\n",
              "<style scoped>\n",
              "    .dataframe tbody tr th:only-of-type {\n",
              "        vertical-align: middle;\n",
              "    }\n",
              "\n",
              "    .dataframe tbody tr th {\n",
              "        vertical-align: top;\n",
              "    }\n",
              "\n",
              "    .dataframe thead th {\n",
              "        text-align: right;\n",
              "    }\n",
              "</style>\n",
              "<table border=\"1\" class=\"dataframe\">\n",
              "  <thead>\n",
              "    <tr style=\"text-align: right;\">\n",
              "      <th></th>\n",
              "      <th>0</th>\n",
              "      <th>1</th>\n",
              "      <th>2</th>\n",
              "      <th>3</th>\n",
              "      <th>4</th>\n",
              "      <th>5</th>\n",
              "      <th>6</th>\n",
              "      <th>7</th>\n",
              "      <th>8</th>\n",
              "      <th>9</th>\n",
              "      <th>...</th>\n",
              "      <th>1143</th>\n",
              "      <th>1144</th>\n",
              "      <th>1145</th>\n",
              "      <th>1146</th>\n",
              "      <th>1147</th>\n",
              "      <th>1148</th>\n",
              "      <th>1149</th>\n",
              "      <th>1150</th>\n",
              "      <th>1151</th>\n",
              "      <th>1152</th>\n",
              "    </tr>\n",
              "  </thead>\n",
              "  <tbody>\n",
              "    <tr>\n",
              "      <th>0</th>\n",
              "      <td>-1.092736</td>\n",
              "      <td>1.297852</td>\n",
              "      <td>-0.577338</td>\n",
              "      <td>0.397512</td>\n",
              "      <td>0.513120</td>\n",
              "      <td>0.139577</td>\n",
              "      <td>0.213303</td>\n",
              "      <td>-0.020161</td>\n",
              "      <td>0.397878</td>\n",
              "      <td>0.321120</td>\n",
              "      <td>...</td>\n",
              "      <td>-0.289965</td>\n",
              "      <td>0.303760</td>\n",
              "      <td>-0.595534</td>\n",
              "      <td>-0.401129</td>\n",
              "      <td>0.183969</td>\n",
              "      <td>-0.182514</td>\n",
              "      <td>-0.540423</td>\n",
              "      <td>-0.164475</td>\n",
              "      <td>0.506636</td>\n",
              "      <td>0.0</td>\n",
              "    </tr>\n",
              "    <tr>\n",
              "      <th>1</th>\n",
              "      <td>0.010270</td>\n",
              "      <td>-0.379638</td>\n",
              "      <td>-0.731220</td>\n",
              "      <td>0.832701</td>\n",
              "      <td>-1.359926</td>\n",
              "      <td>0.405773</td>\n",
              "      <td>-0.346750</td>\n",
              "      <td>1.820152</td>\n",
              "      <td>-0.247874</td>\n",
              "      <td>0.213773</td>\n",
              "      <td>...</td>\n",
              "      <td>0.340728</td>\n",
              "      <td>-0.066488</td>\n",
              "      <td>0.159551</td>\n",
              "      <td>0.541616</td>\n",
              "      <td>-0.211220</td>\n",
              "      <td>0.284675</td>\n",
              "      <td>-0.077259</td>\n",
              "      <td>0.358610</td>\n",
              "      <td>0.692362</td>\n",
              "      <td>0.0</td>\n",
              "    </tr>\n",
              "    <tr>\n",
              "      <th>2</th>\n",
              "      <td>-0.709696</td>\n",
              "      <td>0.912165</td>\n",
              "      <td>-0.556337</td>\n",
              "      <td>0.658960</td>\n",
              "      <td>-0.146936</td>\n",
              "      <td>-0.108666</td>\n",
              "      <td>0.382781</td>\n",
              "      <td>0.386842</td>\n",
              "      <td>0.144817</td>\n",
              "      <td>0.555887</td>\n",
              "      <td>...</td>\n",
              "      <td>0.290722</td>\n",
              "      <td>-0.617135</td>\n",
              "      <td>0.013709</td>\n",
              "      <td>-1.144406</td>\n",
              "      <td>0.844303</td>\n",
              "      <td>0.422275</td>\n",
              "      <td>1.086717</td>\n",
              "      <td>-0.125576</td>\n",
              "      <td>0.042300</td>\n",
              "      <td>0.0</td>\n",
              "    </tr>\n",
              "    <tr>\n",
              "      <th>3</th>\n",
              "      <td>-0.051398</td>\n",
              "      <td>0.843935</td>\n",
              "      <td>-0.899119</td>\n",
              "      <td>0.298009</td>\n",
              "      <td>-0.136678</td>\n",
              "      <td>-0.153138</td>\n",
              "      <td>0.173292</td>\n",
              "      <td>0.812673</td>\n",
              "      <td>-0.586057</td>\n",
              "      <td>-0.516242</td>\n",
              "      <td>...</td>\n",
              "      <td>0.682543</td>\n",
              "      <td>0.037859</td>\n",
              "      <td>-0.328780</td>\n",
              "      <td>-0.291884</td>\n",
              "      <td>0.314689</td>\n",
              "      <td>-0.158219</td>\n",
              "      <td>0.807481</td>\n",
              "      <td>0.382074</td>\n",
              "      <td>-0.964516</td>\n",
              "      <td>0.0</td>\n",
              "    </tr>\n",
              "    <tr>\n",
              "      <th>4</th>\n",
              "      <td>0.365525</td>\n",
              "      <td>0.766934</td>\n",
              "      <td>-0.444885</td>\n",
              "      <td>0.132905</td>\n",
              "      <td>-0.075787</td>\n",
              "      <td>0.112231</td>\n",
              "      <td>-0.065450</td>\n",
              "      <td>0.475979</td>\n",
              "      <td>-0.044921</td>\n",
              "      <td>0.209457</td>\n",
              "      <td>...</td>\n",
              "      <td>-0.237204</td>\n",
              "      <td>-0.496570</td>\n",
              "      <td>0.048257</td>\n",
              "      <td>-0.323298</td>\n",
              "      <td>0.060618</td>\n",
              "      <td>-0.641072</td>\n",
              "      <td>0.449811</td>\n",
              "      <td>0.000837</td>\n",
              "      <td>0.102834</td>\n",
              "      <td>0.0</td>\n",
              "    </tr>\n",
              "  </tbody>\n",
              "</table>\n",
              "<p>5 rows × 1153 columns</p>\n",
              "</div>\n",
              "      <button class=\"colab-df-convert\" onclick=\"convertToInteractive('df-a11681b1-53c4-4b4b-b161-c403b9385b16')\"\n",
              "              title=\"Convert this dataframe to an interactive table.\"\n",
              "              style=\"display:none;\">\n",
              "        \n",
              "  <svg xmlns=\"http://www.w3.org/2000/svg\" height=\"24px\"viewBox=\"0 0 24 24\"\n",
              "       width=\"24px\">\n",
              "    <path d=\"M0 0h24v24H0V0z\" fill=\"none\"/>\n",
              "    <path d=\"M18.56 5.44l.94 2.06.94-2.06 2.06-.94-2.06-.94-.94-2.06-.94 2.06-2.06.94zm-11 1L8.5 8.5l.94-2.06 2.06-.94-2.06-.94L8.5 2.5l-.94 2.06-2.06.94zm10 10l.94 2.06.94-2.06 2.06-.94-2.06-.94-.94-2.06-.94 2.06-2.06.94z\"/><path d=\"M17.41 7.96l-1.37-1.37c-.4-.4-.92-.59-1.43-.59-.52 0-1.04.2-1.43.59L10.3 9.45l-7.72 7.72c-.78.78-.78 2.05 0 2.83L4 21.41c.39.39.9.59 1.41.59.51 0 1.02-.2 1.41-.59l7.78-7.78 2.81-2.81c.8-.78.8-2.07 0-2.86zM5.41 20L4 18.59l7.72-7.72 1.47 1.35L5.41 20z\"/>\n",
              "  </svg>\n",
              "      </button>\n",
              "      \n",
              "  <style>\n",
              "    .colab-df-container {\n",
              "      display:flex;\n",
              "      flex-wrap:wrap;\n",
              "      gap: 12px;\n",
              "    }\n",
              "\n",
              "    .colab-df-convert {\n",
              "      background-color: #E8F0FE;\n",
              "      border: none;\n",
              "      border-radius: 50%;\n",
              "      cursor: pointer;\n",
              "      display: none;\n",
              "      fill: #1967D2;\n",
              "      height: 32px;\n",
              "      padding: 0 0 0 0;\n",
              "      width: 32px;\n",
              "    }\n",
              "\n",
              "    .colab-df-convert:hover {\n",
              "      background-color: #E2EBFA;\n",
              "      box-shadow: 0px 1px 2px rgba(60, 64, 67, 0.3), 0px 1px 3px 1px rgba(60, 64, 67, 0.15);\n",
              "      fill: #174EA6;\n",
              "    }\n",
              "\n",
              "    [theme=dark] .colab-df-convert {\n",
              "      background-color: #3B4455;\n",
              "      fill: #D2E3FC;\n",
              "    }\n",
              "\n",
              "    [theme=dark] .colab-df-convert:hover {\n",
              "      background-color: #434B5C;\n",
              "      box-shadow: 0px 1px 3px 1px rgba(0, 0, 0, 0.15);\n",
              "      filter: drop-shadow(0px 1px 2px rgba(0, 0, 0, 0.3));\n",
              "      fill: #FFFFFF;\n",
              "    }\n",
              "  </style>\n",
              "\n",
              "      <script>\n",
              "        const buttonEl =\n",
              "          document.querySelector('#df-a11681b1-53c4-4b4b-b161-c403b9385b16 button.colab-df-convert');\n",
              "        buttonEl.style.display =\n",
              "          google.colab.kernel.accessAllowed ? 'block' : 'none';\n",
              "\n",
              "        async function convertToInteractive(key) {\n",
              "          const element = document.querySelector('#df-a11681b1-53c4-4b4b-b161-c403b9385b16');\n",
              "          const dataTable =\n",
              "            await google.colab.kernel.invokeFunction('convertToInteractive',\n",
              "                                                     [key], {});\n",
              "          if (!dataTable) return;\n",
              "\n",
              "          const docLinkHtml = 'Like what you see? Visit the ' +\n",
              "            '<a target=\"_blank\" href=https://colab.research.google.com/notebooks/data_table.ipynb>data table notebook</a>'\n",
              "            + ' to learn more about interactive tables.';\n",
              "          element.innerHTML = '';\n",
              "          dataTable['output_type'] = 'display_data';\n",
              "          await google.colab.output.renderOutput(dataTable, element);\n",
              "          const docLink = document.createElement('div');\n",
              "          docLink.innerHTML = docLinkHtml;\n",
              "          element.appendChild(docLink);\n",
              "        }\n",
              "      </script>\n",
              "    </div>\n",
              "  </div>\n",
              "  "
            ]
          },
          "metadata": {},
          "execution_count": 8
        }
      ]
    },
    {
      "cell_type": "markdown",
      "source": [
        "### Train Models"
      ],
      "metadata": {
        "id": "6SJjmwb0JNLm"
      }
    },
    {
      "cell_type": "code",
      "source": [
        "# import pycaret classification and init setup\n",
        "random_seed = 42\n",
        "\n",
        "from pycaret.classification import *\n",
        "s = setup(data, target = '1152', session_id = random_seed)"
      ],
      "metadata": {
        "colab": {
          "base_uri": "https://localhost:8080/",
          "height": 645
        },
        "id": "WqE3BGk4Oa3e",
        "outputId": "e41478f3-c92a-48f8-b233-0ac2923e05a9"
      },
      "execution_count": 9,
      "outputs": [
        {
          "output_type": "display_data",
          "data": {
            "text/plain": [
              "<pandas.io.formats.style.Styler at 0x7fbd05639b80>"
            ],
            "text/html": [
              "<style type=\"text/css\">\n",
              "#T_381d3_row8_col1 {\n",
              "  background-color: lightgreen;\n",
              "}\n",
              "</style>\n",
              "<table id=\"T_381d3\" class=\"dataframe\">\n",
              "  <thead>\n",
              "    <tr>\n",
              "      <th class=\"blank level0\" >&nbsp;</th>\n",
              "      <th id=\"T_381d3_level0_col0\" class=\"col_heading level0 col0\" >Description</th>\n",
              "      <th id=\"T_381d3_level0_col1\" class=\"col_heading level0 col1\" >Value</th>\n",
              "    </tr>\n",
              "  </thead>\n",
              "  <tbody>\n",
              "    <tr>\n",
              "      <th id=\"T_381d3_level0_row0\" class=\"row_heading level0 row0\" >0</th>\n",
              "      <td id=\"T_381d3_row0_col0\" class=\"data row0 col0\" >Session id</td>\n",
              "      <td id=\"T_381d3_row0_col1\" class=\"data row0 col1\" >42</td>\n",
              "    </tr>\n",
              "    <tr>\n",
              "      <th id=\"T_381d3_level0_row1\" class=\"row_heading level0 row1\" >1</th>\n",
              "      <td id=\"T_381d3_row1_col0\" class=\"data row1 col0\" >Target</td>\n",
              "      <td id=\"T_381d3_row1_col1\" class=\"data row1 col1\" >1152</td>\n",
              "    </tr>\n",
              "    <tr>\n",
              "      <th id=\"T_381d3_level0_row2\" class=\"row_heading level0 row2\" >2</th>\n",
              "      <td id=\"T_381d3_row2_col0\" class=\"data row2 col0\" >Target type</td>\n",
              "      <td id=\"T_381d3_row2_col1\" class=\"data row2 col1\" >Binary</td>\n",
              "    </tr>\n",
              "    <tr>\n",
              "      <th id=\"T_381d3_level0_row3\" class=\"row_heading level0 row3\" >3</th>\n",
              "      <td id=\"T_381d3_row3_col0\" class=\"data row3 col0\" >Original data shape</td>\n",
              "      <td id=\"T_381d3_row3_col1\" class=\"data row3 col1\" >(2794, 1153)</td>\n",
              "    </tr>\n",
              "    <tr>\n",
              "      <th id=\"T_381d3_level0_row4\" class=\"row_heading level0 row4\" >4</th>\n",
              "      <td id=\"T_381d3_row4_col0\" class=\"data row4 col0\" >Transformed data shape</td>\n",
              "      <td id=\"T_381d3_row4_col1\" class=\"data row4 col1\" >(2794, 1153)</td>\n",
              "    </tr>\n",
              "    <tr>\n",
              "      <th id=\"T_381d3_level0_row5\" class=\"row_heading level0 row5\" >5</th>\n",
              "      <td id=\"T_381d3_row5_col0\" class=\"data row5 col0\" >Transformed train set shape</td>\n",
              "      <td id=\"T_381d3_row5_col1\" class=\"data row5 col1\" >(1955, 1153)</td>\n",
              "    </tr>\n",
              "    <tr>\n",
              "      <th id=\"T_381d3_level0_row6\" class=\"row_heading level0 row6\" >6</th>\n",
              "      <td id=\"T_381d3_row6_col0\" class=\"data row6 col0\" >Transformed test set shape</td>\n",
              "      <td id=\"T_381d3_row6_col1\" class=\"data row6 col1\" >(839, 1153)</td>\n",
              "    </tr>\n",
              "    <tr>\n",
              "      <th id=\"T_381d3_level0_row7\" class=\"row_heading level0 row7\" >7</th>\n",
              "      <td id=\"T_381d3_row7_col0\" class=\"data row7 col0\" >Numeric features</td>\n",
              "      <td id=\"T_381d3_row7_col1\" class=\"data row7 col1\" >1152</td>\n",
              "    </tr>\n",
              "    <tr>\n",
              "      <th id=\"T_381d3_level0_row8\" class=\"row_heading level0 row8\" >8</th>\n",
              "      <td id=\"T_381d3_row8_col0\" class=\"data row8 col0\" >Preprocess</td>\n",
              "      <td id=\"T_381d3_row8_col1\" class=\"data row8 col1\" >True</td>\n",
              "    </tr>\n",
              "    <tr>\n",
              "      <th id=\"T_381d3_level0_row9\" class=\"row_heading level0 row9\" >9</th>\n",
              "      <td id=\"T_381d3_row9_col0\" class=\"data row9 col0\" >Imputation type</td>\n",
              "      <td id=\"T_381d3_row9_col1\" class=\"data row9 col1\" >simple</td>\n",
              "    </tr>\n",
              "    <tr>\n",
              "      <th id=\"T_381d3_level0_row10\" class=\"row_heading level0 row10\" >10</th>\n",
              "      <td id=\"T_381d3_row10_col0\" class=\"data row10 col0\" >Numeric imputation</td>\n",
              "      <td id=\"T_381d3_row10_col1\" class=\"data row10 col1\" >mean</td>\n",
              "    </tr>\n",
              "    <tr>\n",
              "      <th id=\"T_381d3_level0_row11\" class=\"row_heading level0 row11\" >11</th>\n",
              "      <td id=\"T_381d3_row11_col0\" class=\"data row11 col0\" >Categorical imputation</td>\n",
              "      <td id=\"T_381d3_row11_col1\" class=\"data row11 col1\" >mode</td>\n",
              "    </tr>\n",
              "    <tr>\n",
              "      <th id=\"T_381d3_level0_row12\" class=\"row_heading level0 row12\" >12</th>\n",
              "      <td id=\"T_381d3_row12_col0\" class=\"data row12 col0\" >Fold Generator</td>\n",
              "      <td id=\"T_381d3_row12_col1\" class=\"data row12 col1\" >StratifiedKFold</td>\n",
              "    </tr>\n",
              "    <tr>\n",
              "      <th id=\"T_381d3_level0_row13\" class=\"row_heading level0 row13\" >13</th>\n",
              "      <td id=\"T_381d3_row13_col0\" class=\"data row13 col0\" >Fold Number</td>\n",
              "      <td id=\"T_381d3_row13_col1\" class=\"data row13 col1\" >10</td>\n",
              "    </tr>\n",
              "    <tr>\n",
              "      <th id=\"T_381d3_level0_row14\" class=\"row_heading level0 row14\" >14</th>\n",
              "      <td id=\"T_381d3_row14_col0\" class=\"data row14 col0\" >CPU Jobs</td>\n",
              "      <td id=\"T_381d3_row14_col1\" class=\"data row14 col1\" >-1</td>\n",
              "    </tr>\n",
              "    <tr>\n",
              "      <th id=\"T_381d3_level0_row15\" class=\"row_heading level0 row15\" >15</th>\n",
              "      <td id=\"T_381d3_row15_col0\" class=\"data row15 col0\" >Use GPU</td>\n",
              "      <td id=\"T_381d3_row15_col1\" class=\"data row15 col1\" >False</td>\n",
              "    </tr>\n",
              "    <tr>\n",
              "      <th id=\"T_381d3_level0_row16\" class=\"row_heading level0 row16\" >16</th>\n",
              "      <td id=\"T_381d3_row16_col0\" class=\"data row16 col0\" >Log Experiment</td>\n",
              "      <td id=\"T_381d3_row16_col1\" class=\"data row16 col1\" >False</td>\n",
              "    </tr>\n",
              "    <tr>\n",
              "      <th id=\"T_381d3_level0_row17\" class=\"row_heading level0 row17\" >17</th>\n",
              "      <td id=\"T_381d3_row17_col0\" class=\"data row17 col0\" >Experiment Name</td>\n",
              "      <td id=\"T_381d3_row17_col1\" class=\"data row17 col1\" >clf-default-name</td>\n",
              "    </tr>\n",
              "    <tr>\n",
              "      <th id=\"T_381d3_level0_row18\" class=\"row_heading level0 row18\" >18</th>\n",
              "      <td id=\"T_381d3_row18_col0\" class=\"data row18 col0\" >USI</td>\n",
              "      <td id=\"T_381d3_row18_col1\" class=\"data row18 col1\" >2532</td>\n",
              "    </tr>\n",
              "  </tbody>\n",
              "</table>\n"
            ]
          },
          "metadata": {}
        }
      ]
    },
    {
      "cell_type": "code",
      "source": [
        "best = compare_models()"
      ],
      "metadata": {
        "colab": {
          "base_uri": "https://localhost:8080/",
          "height": 520,
          "referenced_widgets": [
            "4c645911a6984653a8c983d28abedd26",
            "b986389f103e4210971d2cb02e67a8ae",
            "6b9244f058db4561bce29d16e140f7cd",
            "8916eed8315d4c339cf7ff2511e76516",
            "04ae8cfef6f84ad795dcf54ece6d8384",
            "a6facab873e040f6a4a61e44261dfa89",
            "404e5d00a2394393b2998055696642bf",
            "ec01614376f74778be7eac9b8e35e5a2",
            "60fa286f8007457ca092228e90b30d42",
            "1dbfd00ffeaf45cebd4efbb169699911",
            "ab8179787c784ae191126a69a33b9dae"
          ]
        },
        "id": "9AbZL8QMR4vQ",
        "outputId": "be07f03f-d707-4cda-b47e-b7fedb2fda23"
      },
      "execution_count": 10,
      "outputs": [
        {
          "output_type": "display_data",
          "data": {
            "text/plain": [
              "<IPython.core.display.HTML object>"
            ],
            "text/html": []
          },
          "metadata": {}
        },
        {
          "output_type": "display_data",
          "data": {
            "text/plain": [
              "<pandas.io.formats.style.Styler at 0x7fbd05505940>"
            ],
            "text/html": [
              "<style type=\"text/css\">\n",
              "#T_5e490 th {\n",
              "  text-align: left;\n",
              "}\n",
              "#T_5e490_row0_col0, #T_5e490_row0_col2, #T_5e490_row0_col3, #T_5e490_row0_col5, #T_5e490_row0_col6, #T_5e490_row0_col7, #T_5e490_row1_col0, #T_5e490_row1_col1, #T_5e490_row1_col3, #T_5e490_row1_col4, #T_5e490_row1_col5, #T_5e490_row1_col6, #T_5e490_row1_col7, #T_5e490_row2_col0, #T_5e490_row2_col1, #T_5e490_row2_col2, #T_5e490_row2_col3, #T_5e490_row2_col4, #T_5e490_row2_col5, #T_5e490_row3_col0, #T_5e490_row3_col1, #T_5e490_row3_col2, #T_5e490_row3_col3, #T_5e490_row3_col4, #T_5e490_row3_col5, #T_5e490_row3_col6, #T_5e490_row3_col7, #T_5e490_row4_col0, #T_5e490_row4_col1, #T_5e490_row4_col2, #T_5e490_row4_col3, #T_5e490_row4_col4, #T_5e490_row4_col5, #T_5e490_row4_col6, #T_5e490_row4_col7, #T_5e490_row5_col0, #T_5e490_row5_col1, #T_5e490_row5_col2, #T_5e490_row5_col3, #T_5e490_row5_col4, #T_5e490_row5_col5, #T_5e490_row5_col6, #T_5e490_row5_col7, #T_5e490_row6_col0, #T_5e490_row6_col1, #T_5e490_row6_col2, #T_5e490_row6_col3, #T_5e490_row6_col4, #T_5e490_row6_col5, #T_5e490_row6_col6, #T_5e490_row6_col7, #T_5e490_row7_col0, #T_5e490_row7_col1, #T_5e490_row7_col2, #T_5e490_row7_col3, #T_5e490_row7_col4, #T_5e490_row7_col5, #T_5e490_row7_col6, #T_5e490_row7_col7, #T_5e490_row8_col0, #T_5e490_row8_col1, #T_5e490_row8_col2, #T_5e490_row8_col3, #T_5e490_row8_col4, #T_5e490_row8_col5, #T_5e490_row8_col6, #T_5e490_row8_col7, #T_5e490_row9_col0, #T_5e490_row9_col1, #T_5e490_row9_col2, #T_5e490_row9_col3, #T_5e490_row9_col4, #T_5e490_row9_col6, #T_5e490_row9_col7, #T_5e490_row10_col0, #T_5e490_row10_col1, #T_5e490_row10_col2, #T_5e490_row10_col3, #T_5e490_row10_col4, #T_5e490_row10_col5, #T_5e490_row10_col6, #T_5e490_row10_col7, #T_5e490_row11_col0, #T_5e490_row11_col1, #T_5e490_row11_col2, #T_5e490_row11_col3, #T_5e490_row11_col4, #T_5e490_row11_col5, #T_5e490_row11_col6, #T_5e490_row11_col7, #T_5e490_row12_col0, #T_5e490_row12_col1, #T_5e490_row12_col2, #T_5e490_row12_col3, #T_5e490_row12_col4, #T_5e490_row12_col5, #T_5e490_row12_col6, #T_5e490_row12_col7, #T_5e490_row13_col0, #T_5e490_row13_col1, #T_5e490_row13_col2, #T_5e490_row13_col3, #T_5e490_row13_col4, #T_5e490_row13_col5, #T_5e490_row13_col6, #T_5e490_row13_col7, #T_5e490_row14_col0, #T_5e490_row14_col1, #T_5e490_row14_col2, #T_5e490_row14_col4, #T_5e490_row14_col5, #T_5e490_row14_col6, #T_5e490_row14_col7 {\n",
              "  text-align: left;\n",
              "}\n",
              "#T_5e490_row0_col1, #T_5e490_row0_col4, #T_5e490_row1_col2, #T_5e490_row2_col6, #T_5e490_row2_col7, #T_5e490_row9_col5, #T_5e490_row14_col3 {\n",
              "  text-align: left;\n",
              "  background-color: yellow;\n",
              "}\n",
              "#T_5e490_row0_col8, #T_5e490_row1_col8, #T_5e490_row2_col8, #T_5e490_row3_col8, #T_5e490_row4_col8, #T_5e490_row5_col8, #T_5e490_row7_col8, #T_5e490_row8_col8, #T_5e490_row9_col8, #T_5e490_row10_col8, #T_5e490_row11_col8, #T_5e490_row12_col8, #T_5e490_row13_col8, #T_5e490_row14_col8 {\n",
              "  text-align: left;\n",
              "  background-color: lightgrey;\n",
              "}\n",
              "#T_5e490_row6_col8 {\n",
              "  text-align: left;\n",
              "  background-color: yellow;\n",
              "  background-color: lightgrey;\n",
              "}\n",
              "</style>\n",
              "<table id=\"T_5e490\" class=\"dataframe\">\n",
              "  <thead>\n",
              "    <tr>\n",
              "      <th class=\"blank level0\" >&nbsp;</th>\n",
              "      <th id=\"T_5e490_level0_col0\" class=\"col_heading level0 col0\" >Model</th>\n",
              "      <th id=\"T_5e490_level0_col1\" class=\"col_heading level0 col1\" >Accuracy</th>\n",
              "      <th id=\"T_5e490_level0_col2\" class=\"col_heading level0 col2\" >AUC</th>\n",
              "      <th id=\"T_5e490_level0_col3\" class=\"col_heading level0 col3\" >Recall</th>\n",
              "      <th id=\"T_5e490_level0_col4\" class=\"col_heading level0 col4\" >Prec.</th>\n",
              "      <th id=\"T_5e490_level0_col5\" class=\"col_heading level0 col5\" >F1</th>\n",
              "      <th id=\"T_5e490_level0_col6\" class=\"col_heading level0 col6\" >Kappa</th>\n",
              "      <th id=\"T_5e490_level0_col7\" class=\"col_heading level0 col7\" >MCC</th>\n",
              "      <th id=\"T_5e490_level0_col8\" class=\"col_heading level0 col8\" >TT (Sec)</th>\n",
              "    </tr>\n",
              "  </thead>\n",
              "  <tbody>\n",
              "    <tr>\n",
              "      <th id=\"T_5e490_level0_row0\" class=\"row_heading level0 row0\" >gbc</th>\n",
              "      <td id=\"T_5e490_row0_col0\" class=\"data row0 col0\" >Gradient Boosting Classifier</td>\n",
              "      <td id=\"T_5e490_row0_col1\" class=\"data row0 col1\" >0.9202</td>\n",
              "      <td id=\"T_5e490_row0_col2\" class=\"data row0 col2\" >0.8105</td>\n",
              "      <td id=\"T_5e490_row0_col3\" class=\"data row0 col3\" >0.1213</td>\n",
              "      <td id=\"T_5e490_row0_col4\" class=\"data row0 col4\" >0.5714</td>\n",
              "      <td id=\"T_5e490_row0_col5\" class=\"data row0 col5\" >0.1896</td>\n",
              "      <td id=\"T_5e490_row0_col6\" class=\"data row0 col6\" >0.1699</td>\n",
              "      <td id=\"T_5e490_row0_col7\" class=\"data row0 col7\" >0.2259</td>\n",
              "      <td id=\"T_5e490_row0_col8\" class=\"data row0 col8\" >61.2100</td>\n",
              "    </tr>\n",
              "    <tr>\n",
              "      <th id=\"T_5e490_level0_row1\" class=\"row_heading level0 row1\" >xgboost</th>\n",
              "      <td id=\"T_5e490_row1_col0\" class=\"data row1 col0\" >Extreme Gradient Boosting</td>\n",
              "      <td id=\"T_5e490_row1_col1\" class=\"data row1 col1\" >0.9192</td>\n",
              "      <td id=\"T_5e490_row1_col2\" class=\"data row1 col2\" >0.8179</td>\n",
              "      <td id=\"T_5e490_row1_col3\" class=\"data row1 col3\" >0.0974</td>\n",
              "      <td id=\"T_5e490_row1_col4\" class=\"data row1 col4\" >0.4350</td>\n",
              "      <td id=\"T_5e490_row1_col5\" class=\"data row1 col5\" >0.1559</td>\n",
              "      <td id=\"T_5e490_row1_col6\" class=\"data row1 col6\" >0.1391</td>\n",
              "      <td id=\"T_5e490_row1_col7\" class=\"data row1 col7\" >0.1828</td>\n",
              "      <td id=\"T_5e490_row1_col8\" class=\"data row1 col8\" >23.0380</td>\n",
              "    </tr>\n",
              "    <tr>\n",
              "      <th id=\"T_5e490_level0_row2\" class=\"row_heading level0 row2\" >knn</th>\n",
              "      <td id=\"T_5e490_row2_col0\" class=\"data row2 col0\" >K Neighbors Classifier</td>\n",
              "      <td id=\"T_5e490_row2_col1\" class=\"data row2 col1\" >0.9166</td>\n",
              "      <td id=\"T_5e490_row2_col2\" class=\"data row2 col2\" >0.7183</td>\n",
              "      <td id=\"T_5e490_row2_col3\" class=\"data row2 col3\" >0.1824</td>\n",
              "      <td id=\"T_5e490_row2_col4\" class=\"data row2 col4\" >0.5063</td>\n",
              "      <td id=\"T_5e490_row2_col5\" class=\"data row2 col5\" >0.2638</td>\n",
              "      <td id=\"T_5e490_row2_col6\" class=\"data row2 col6\" >0.2307</td>\n",
              "      <td id=\"T_5e490_row2_col7\" class=\"data row2 col7\" >0.2664</td>\n",
              "      <td id=\"T_5e490_row2_col8\" class=\"data row2 col8\" >0.3150</td>\n",
              "    </tr>\n",
              "    <tr>\n",
              "      <th id=\"T_5e490_level0_row3\" class=\"row_heading level0 row3\" >rf</th>\n",
              "      <td id=\"T_5e490_row3_col0\" class=\"data row3 col0\" >Random Forest Classifier</td>\n",
              "      <td id=\"T_5e490_row3_col1\" class=\"data row3 col1\" >0.9161</td>\n",
              "      <td id=\"T_5e490_row3_col2\" class=\"data row3 col2\" >0.7521</td>\n",
              "      <td id=\"T_5e490_row3_col3\" class=\"data row3 col3\" >0.0176</td>\n",
              "      <td id=\"T_5e490_row3_col4\" class=\"data row3 col4\" >0.2000</td>\n",
              "      <td id=\"T_5e490_row3_col5\" class=\"data row3 col5\" >0.0322</td>\n",
              "      <td id=\"T_5e490_row3_col6\" class=\"data row3 col6\" >0.0269</td>\n",
              "      <td id=\"T_5e490_row3_col7\" class=\"data row3 col7\" >0.0497</td>\n",
              "      <td id=\"T_5e490_row3_col8\" class=\"data row3 col8\" >4.9590</td>\n",
              "    </tr>\n",
              "    <tr>\n",
              "      <th id=\"T_5e490_level0_row4\" class=\"row_heading level0 row4\" >qda</th>\n",
              "      <td id=\"T_5e490_row4_col0\" class=\"data row4 col0\" >Quadratic Discriminant Analysis</td>\n",
              "      <td id=\"T_5e490_row4_col1\" class=\"data row4 col1\" >0.9161</td>\n",
              "      <td id=\"T_5e490_row4_col2\" class=\"data row4 col2\" >0.5000</td>\n",
              "      <td id=\"T_5e490_row4_col3\" class=\"data row4 col3\" >0.0000</td>\n",
              "      <td id=\"T_5e490_row4_col4\" class=\"data row4 col4\" >0.0000</td>\n",
              "      <td id=\"T_5e490_row4_col5\" class=\"data row4 col5\" >0.0000</td>\n",
              "      <td id=\"T_5e490_row4_col6\" class=\"data row4 col6\" >0.0000</td>\n",
              "      <td id=\"T_5e490_row4_col7\" class=\"data row4 col7\" >0.0000</td>\n",
              "      <td id=\"T_5e490_row4_col8\" class=\"data row4 col8\" >2.2150</td>\n",
              "    </tr>\n",
              "    <tr>\n",
              "      <th id=\"T_5e490_level0_row5\" class=\"row_heading level0 row5\" >et</th>\n",
              "      <td id=\"T_5e490_row5_col0\" class=\"data row5 col0\" >Extra Trees Classifier</td>\n",
              "      <td id=\"T_5e490_row5_col1\" class=\"data row5 col1\" >0.9161</td>\n",
              "      <td id=\"T_5e490_row5_col2\" class=\"data row5 col2\" >0.7945</td>\n",
              "      <td id=\"T_5e490_row5_col3\" class=\"data row5 col3\" >0.0118</td>\n",
              "      <td id=\"T_5e490_row5_col4\" class=\"data row5 col4\" >0.2000</td>\n",
              "      <td id=\"T_5e490_row5_col5\" class=\"data row5 col5\" >0.0222</td>\n",
              "      <td id=\"T_5e490_row5_col6\" class=\"data row5 col6\" >0.0185</td>\n",
              "      <td id=\"T_5e490_row5_col7\" class=\"data row5 col7\" >0.0422</td>\n",
              "      <td id=\"T_5e490_row5_col8\" class=\"data row5 col8\" >1.5380</td>\n",
              "    </tr>\n",
              "    <tr>\n",
              "      <th id=\"T_5e490_level0_row6\" class=\"row_heading level0 row6\" >dummy</th>\n",
              "      <td id=\"T_5e490_row6_col0\" class=\"data row6 col0\" >Dummy Classifier</td>\n",
              "      <td id=\"T_5e490_row6_col1\" class=\"data row6 col1\" >0.9161</td>\n",
              "      <td id=\"T_5e490_row6_col2\" class=\"data row6 col2\" >0.5000</td>\n",
              "      <td id=\"T_5e490_row6_col3\" class=\"data row6 col3\" >0.0000</td>\n",
              "      <td id=\"T_5e490_row6_col4\" class=\"data row6 col4\" >0.0000</td>\n",
              "      <td id=\"T_5e490_row6_col5\" class=\"data row6 col5\" >0.0000</td>\n",
              "      <td id=\"T_5e490_row6_col6\" class=\"data row6 col6\" >0.0000</td>\n",
              "      <td id=\"T_5e490_row6_col7\" class=\"data row6 col7\" >0.0000</td>\n",
              "      <td id=\"T_5e490_row6_col8\" class=\"data row6 col8\" >0.2430</td>\n",
              "    </tr>\n",
              "    <tr>\n",
              "      <th id=\"T_5e490_level0_row7\" class=\"row_heading level0 row7\" >lightgbm</th>\n",
              "      <td id=\"T_5e490_row7_col0\" class=\"data row7 col0\" >Light Gradient Boosting Machine</td>\n",
              "      <td id=\"T_5e490_row7_col1\" class=\"data row7 col1\" >0.9156</td>\n",
              "      <td id=\"T_5e490_row7_col2\" class=\"data row7 col2\" >0.7991</td>\n",
              "      <td id=\"T_5e490_row7_col3\" class=\"data row7 col3\" >0.0485</td>\n",
              "      <td id=\"T_5e490_row7_col4\" class=\"data row7 col4\" >0.3333</td>\n",
              "      <td id=\"T_5e490_row7_col5\" class=\"data row7 col5\" >0.0832</td>\n",
              "      <td id=\"T_5e490_row7_col6\" class=\"data row7 col6\" >0.0700</td>\n",
              "      <td id=\"T_5e490_row7_col7\" class=\"data row7 col7\" >0.1061</td>\n",
              "      <td id=\"T_5e490_row7_col8\" class=\"data row7 col8\" >16.7340</td>\n",
              "    </tr>\n",
              "    <tr>\n",
              "      <th id=\"T_5e490_level0_row8\" class=\"row_heading level0 row8\" >ada</th>\n",
              "      <td id=\"T_5e490_row8_col0\" class=\"data row8 col0\" >Ada Boost Classifier</td>\n",
              "      <td id=\"T_5e490_row8_col1\" class=\"data row8 col1\" >0.9008</td>\n",
              "      <td id=\"T_5e490_row8_col2\" class=\"data row8 col2\" >0.7815</td>\n",
              "      <td id=\"T_5e490_row8_col3\" class=\"data row8 col3\" >0.1695</td>\n",
              "      <td id=\"T_5e490_row8_col4\" class=\"data row8 col4\" >0.2698</td>\n",
              "      <td id=\"T_5e490_row8_col5\" class=\"data row8 col5\" >0.2078</td>\n",
              "      <td id=\"T_5e490_row8_col6\" class=\"data row8 col6\" >0.1638</td>\n",
              "      <td id=\"T_5e490_row8_col7\" class=\"data row8 col7\" >0.1668</td>\n",
              "      <td id=\"T_5e490_row8_col8\" class=\"data row8 col8\" >12.1620</td>\n",
              "    </tr>\n",
              "    <tr>\n",
              "      <th id=\"T_5e490_level0_row9\" class=\"row_heading level0 row9\" >lr</th>\n",
              "      <td id=\"T_5e490_row9_col0\" class=\"data row9 col0\" >Logistic Regression</td>\n",
              "      <td id=\"T_5e490_row9_col1\" class=\"data row9 col1\" >0.8875</td>\n",
              "      <td id=\"T_5e490_row9_col2\" class=\"data row9 col2\" >0.7848</td>\n",
              "      <td id=\"T_5e490_row9_col3\" class=\"data row9 col3\" >0.2732</td>\n",
              "      <td id=\"T_5e490_row9_col4\" class=\"data row9 col4\" >0.3070</td>\n",
              "      <td id=\"T_5e490_row9_col5\" class=\"data row9 col5\" >0.2873</td>\n",
              "      <td id=\"T_5e490_row9_col6\" class=\"data row9 col6\" >0.2268</td>\n",
              "      <td id=\"T_5e490_row9_col7\" class=\"data row9 col7\" >0.2281</td>\n",
              "      <td id=\"T_5e490_row9_col8\" class=\"data row9 col8\" >1.3980</td>\n",
              "    </tr>\n",
              "    <tr>\n",
              "      <th id=\"T_5e490_level0_row10\" class=\"row_heading level0 row10\" >svm</th>\n",
              "      <td id=\"T_5e490_row10_col0\" class=\"data row10 col0\" >SVM - Linear Kernel</td>\n",
              "      <td id=\"T_5e490_row10_col1\" class=\"data row10 col1\" >0.8824</td>\n",
              "      <td id=\"T_5e490_row10_col2\" class=\"data row10 col2\" >0.0000</td>\n",
              "      <td id=\"T_5e490_row10_col3\" class=\"data row10 col3\" >0.2728</td>\n",
              "      <td id=\"T_5e490_row10_col4\" class=\"data row10 col4\" >0.2906</td>\n",
              "      <td id=\"T_5e490_row10_col5\" class=\"data row10 col5\" >0.2778</td>\n",
              "      <td id=\"T_5e490_row10_col6\" class=\"data row10 col6\" >0.2146</td>\n",
              "      <td id=\"T_5e490_row10_col7\" class=\"data row10 col7\" >0.2164</td>\n",
              "      <td id=\"T_5e490_row10_col8\" class=\"data row10 col8\" >0.3310</td>\n",
              "    </tr>\n",
              "    <tr>\n",
              "      <th id=\"T_5e490_level0_row11\" class=\"row_heading level0 row11\" >ridge</th>\n",
              "      <td id=\"T_5e490_row11_col0\" class=\"data row11 col0\" >Ridge Classifier</td>\n",
              "      <td id=\"T_5e490_row11_col1\" class=\"data row11 col1\" >0.8460</td>\n",
              "      <td id=\"T_5e490_row11_col2\" class=\"data row11 col2\" >0.0000</td>\n",
              "      <td id=\"T_5e490_row11_col3\" class=\"data row11 col3\" >0.3099</td>\n",
              "      <td id=\"T_5e490_row11_col4\" class=\"data row11 col4\" >0.2168</td>\n",
              "      <td id=\"T_5e490_row11_col5\" class=\"data row11 col5\" >0.2522</td>\n",
              "      <td id=\"T_5e490_row11_col6\" class=\"data row11 col6\" >0.1709</td>\n",
              "      <td id=\"T_5e490_row11_col7\" class=\"data row11 col7\" >0.1752</td>\n",
              "      <td id=\"T_5e490_row11_col8\" class=\"data row11 col8\" >0.4120</td>\n",
              "    </tr>\n",
              "    <tr>\n",
              "      <th id=\"T_5e490_level0_row12\" class=\"row_heading level0 row12\" >dt</th>\n",
              "      <td id=\"T_5e490_row12_col0\" class=\"data row12 col0\" >Decision Tree Classifier</td>\n",
              "      <td id=\"T_5e490_row12_col1\" class=\"data row12 col1\" >0.8435</td>\n",
              "      <td id=\"T_5e490_row12_col2\" class=\"data row12 col2\" >0.5405</td>\n",
              "      <td id=\"T_5e490_row12_col3\" class=\"data row12 col3\" >0.1765</td>\n",
              "      <td id=\"T_5e490_row12_col4\" class=\"data row12 col4\" >0.1482</td>\n",
              "      <td id=\"T_5e490_row12_col5\" class=\"data row12 col5\" >0.1604</td>\n",
              "      <td id=\"T_5e490_row12_col6\" class=\"data row12 col6\" >0.0756</td>\n",
              "      <td id=\"T_5e490_row12_col7\" class=\"data row12 col7\" >0.0759</td>\n",
              "      <td id=\"T_5e490_row12_col8\" class=\"data row12 col8\" >3.9850</td>\n",
              "    </tr>\n",
              "    <tr>\n",
              "      <th id=\"T_5e490_level0_row13\" class=\"row_heading level0 row13\" >lda</th>\n",
              "      <td id=\"T_5e490_row13_col0\" class=\"data row13 col0\" >Linear Discriminant Analysis</td>\n",
              "      <td id=\"T_5e490_row13_col1\" class=\"data row13 col1\" >0.8071</td>\n",
              "      <td id=\"T_5e490_row13_col2\" class=\"data row13 col2\" >0.6927</td>\n",
              "      <td id=\"T_5e490_row13_col3\" class=\"data row13 col3\" >0.4132</td>\n",
              "      <td id=\"T_5e490_row13_col4\" class=\"data row13 col4\" >0.1979</td>\n",
              "      <td id=\"T_5e490_row13_col5\" class=\"data row13 col5\" >0.2662</td>\n",
              "      <td id=\"T_5e490_row13_col6\" class=\"data row13 col6\" >0.1722</td>\n",
              "      <td id=\"T_5e490_row13_col7\" class=\"data row13 col7\" >0.1878</td>\n",
              "      <td id=\"T_5e490_row13_col8\" class=\"data row13 col8\" >2.6140</td>\n",
              "    </tr>\n",
              "    <tr>\n",
              "      <th id=\"T_5e490_level0_row14\" class=\"row_heading level0 row14\" >nb</th>\n",
              "      <td id=\"T_5e490_row14_col0\" class=\"data row14 col0\" >Naive Bayes</td>\n",
              "      <td id=\"T_5e490_row14_col1\" class=\"data row14 col1\" >0.5770</td>\n",
              "      <td id=\"T_5e490_row14_col2\" class=\"data row14 col2\" >0.6688</td>\n",
              "      <td id=\"T_5e490_row14_col3\" class=\"data row14 col3\" >0.6562</td>\n",
              "      <td id=\"T_5e490_row14_col4\" class=\"data row14 col4\" >0.1221</td>\n",
              "      <td id=\"T_5e490_row14_col5\" class=\"data row14 col5\" >0.2057</td>\n",
              "      <td id=\"T_5e490_row14_col6\" class=\"data row14 col6\" >0.0751</td>\n",
              "      <td id=\"T_5e490_row14_col7\" class=\"data row14 col7\" >0.1264</td>\n",
              "      <td id=\"T_5e490_row14_col8\" class=\"data row14 col8\" >0.4650</td>\n",
              "    </tr>\n",
              "  </tbody>\n",
              "</table>\n"
            ]
          },
          "metadata": {}
        },
        {
          "output_type": "display_data",
          "data": {
            "text/plain": [
              "Processing:   0%|          | 0/65 [00:00<?, ?it/s]"
            ],
            "application/vnd.jupyter.widget-view+json": {
              "version_major": 2,
              "version_minor": 0,
              "model_id": "4c645911a6984653a8c983d28abedd26"
            }
          },
          "metadata": {
            "application/vnd.jupyter.widget-view+json": {
              "colab": {
                "custom_widget_manager": {
                  "url": "https://ssl.gstatic.com/colaboratory-static/widgets/colab-cdn-widget-manager/b3e629b1971e1542/manager.min.js"
                }
              }
            }
          }
        },
        {
          "output_type": "display_data",
          "data": {
            "text/plain": [
              "<IPython.core.display.HTML object>"
            ],
            "text/html": []
          },
          "metadata": {}
        }
      ]
    },
    {
      "cell_type": "code",
      "source": [
        "baseline_model_results = pull()"
      ],
      "metadata": {
        "id": "Lg7o39OWSIPN"
      },
      "execution_count": 11,
      "outputs": []
    },
    {
      "cell_type": "code",
      "source": [
        "# plot \n",
        "plot_model(best, plot = 'class_report')"
      ],
      "metadata": {
        "colab": {
          "base_uri": "https://localhost:8080/",
          "height": 551
        },
        "id": "4lckvffpZuWr",
        "outputId": "555138e3-0ae3-458c-aa3a-0b1fcecab546"
      },
      "execution_count": 12,
      "outputs": [
        {
          "output_type": "display_data",
          "data": {
            "text/plain": [
              "<IPython.core.display.HTML object>"
            ],
            "text/html": []
          },
          "metadata": {}
        },
        {
          "output_type": "display_data",
          "data": {
            "text/plain": [
              "<Figure size 800x550 with 2 Axes>"
            ],
            "image/png": "[encoded data removed]"
          },
          "metadata": {}
        }
      ]
    },
    {
      "cell_type": "code",
      "source": [
        "# Plotting the confusion matrix\n",
        "plot_model(best,plot='confusion_matrix')"
      ],
      "metadata": {
        "colab": {
          "base_uri": "https://localhost:8080/",
          "height": 551
        },
        "id": "NIOfFeBVd2kO",
        "outputId": "86455dc7-11bc-468f-e106-7cc5ade7dec6"
      },
      "execution_count": 13,
      "outputs": [
        {
          "output_type": "display_data",
          "data": {
            "text/plain": [
              "<IPython.core.display.HTML object>"
            ],
            "text/html": []
          },
          "metadata": {}
        },
        {
          "output_type": "display_data",
          "data": {
            "text/plain": [
              "<Figure size 800x550 with 1 Axes>"
            ],
            "image/png": "[encoded data removed]"
          },
          "metadata": {}
        }
      ]
    },
    {
      "cell_type": "code",
      "source": [
        "# plot AUC\n",
        "plot_model(best, plot = 'auc')"
      ],
      "metadata": {
        "colab": {
          "base_uri": "https://localhost:8080/",
          "height": 524
        },
        "id": "GpZJAi_4eWKd",
        "outputId": "73c74523-7a4d-4285-d135-3e23573de715"
      },
      "execution_count": 14,
      "outputs": [
        {
          "output_type": "display_data",
          "data": {
            "text/plain": [
              "<IPython.core.display.HTML object>"
            ],
            "text/html": []
          },
          "metadata": {}
        },
        {
          "output_type": "display_data",
          "data": {
            "text/plain": [
              "<Figure size 800x550 with 1 Axes>"
            ],
            "image/png": "[encoded data removed]"
          },
          "metadata": {}
        }
      ]
    },
    {
      "cell_type": "code",
      "source": [
        "plot_model(best, plot = 'pr')"
      ],
      "metadata": {
        "colab": {
          "base_uri": "https://localhost:8080/",
          "height": 524
        },
        "id": "82T3Dof-fXUX",
        "outputId": "d046bbc3-7044-4065-9b61-aa3982319497"
      },
      "execution_count": 15,
      "outputs": [
        {
          "output_type": "display_data",
          "data": {
            "text/plain": [
              "<IPython.core.display.HTML object>"
            ],
            "text/html": []
          },
          "metadata": {}
        },
        {
          "output_type": "display_data",
          "data": {
            "text/plain": [
              "<Figure size 800x550 with 1 Axes>"
            ],
            "image/png": "[encoded data removed]"
          },
          "metadata": {}
        }
      ]
    },
    {
      "cell_type": "markdown",
      "source": [
        "### Test on Balanced Dataset"
      ],
      "metadata": {
        "id": "r0f2ceQpJVvh"
      }
    },
    {
      "cell_type": "code",
      "source": [
        "#fix_imbalance will automaticaaly fix the imbalanced dataset by oversampling using the SMOTE method."
      ],
      "metadata": {
        "id": "Kxz5CFtwaNov"
      },
      "execution_count": null,
      "outputs": []
    },
    {
      "cell_type": "code",
      "source": [
        "s2 = setup(data, target = '1152', fix_imbalance=True, session_id = random_seed)"
      ],
      "metadata": {
        "colab": {
          "base_uri": "https://localhost:8080/",
          "height": 708
        },
        "id": "gyJhrLqsdYVl",
        "outputId": "1d2bc34d-a8ca-42f2-d263-764836a98103"
      },
      "execution_count": 16,
      "outputs": [
        {
          "output_type": "display_data",
          "data": {
            "text/plain": [
              "<pandas.io.formats.style.Styler at 0x7fbd0424e070>"
            ],
            "text/html": [
              "<style type=\"text/css\">\n",
              "#T_6663c_row8_col1, #T_6663c_row12_col1 {\n",
              "  background-color: lightgreen;\n",
              "}\n",
              "</style>\n",
              "<table id=\"T_6663c\" class=\"dataframe\">\n",
              "  <thead>\n",
              "    <tr>\n",
              "      <th class=\"blank level0\" >&nbsp;</th>\n",
              "      <th id=\"T_6663c_level0_col0\" class=\"col_heading level0 col0\" >Description</th>\n",
              "      <th id=\"T_6663c_level0_col1\" class=\"col_heading level0 col1\" >Value</th>\n",
              "    </tr>\n",
              "  </thead>\n",
              "  <tbody>\n",
              "    <tr>\n",
              "      <th id=\"T_6663c_level0_row0\" class=\"row_heading level0 row0\" >0</th>\n",
              "      <td id=\"T_6663c_row0_col0\" class=\"data row0 col0\" >Session id</td>\n",
              "      <td id=\"T_6663c_row0_col1\" class=\"data row0 col1\" >42</td>\n",
              "    </tr>\n",
              "    <tr>\n",
              "      <th id=\"T_6663c_level0_row1\" class=\"row_heading level0 row1\" >1</th>\n",
              "      <td id=\"T_6663c_row1_col0\" class=\"data row1 col0\" >Target</td>\n",
              "      <td id=\"T_6663c_row1_col1\" class=\"data row1 col1\" >1152</td>\n",
              "    </tr>\n",
              "    <tr>\n",
              "      <th id=\"T_6663c_level0_row2\" class=\"row_heading level0 row2\" >2</th>\n",
              "      <td id=\"T_6663c_row2_col0\" class=\"data row2 col0\" >Target type</td>\n",
              "      <td id=\"T_6663c_row2_col1\" class=\"data row2 col1\" >Binary</td>\n",
              "    </tr>\n",
              "    <tr>\n",
              "      <th id=\"T_6663c_level0_row3\" class=\"row_heading level0 row3\" >3</th>\n",
              "      <td id=\"T_6663c_row3_col0\" class=\"data row3 col0\" >Original data shape</td>\n",
              "      <td id=\"T_6663c_row3_col1\" class=\"data row3 col1\" >(2794, 1153)</td>\n",
              "    </tr>\n",
              "    <tr>\n",
              "      <th id=\"T_6663c_level0_row4\" class=\"row_heading level0 row4\" >4</th>\n",
              "      <td id=\"T_6663c_row4_col0\" class=\"data row4 col0\" >Transformed data shape</td>\n",
              "      <td id=\"T_6663c_row4_col1\" class=\"data row4 col1\" >(4421, 1153)</td>\n",
              "    </tr>\n",
              "    <tr>\n",
              "      <th id=\"T_6663c_level0_row5\" class=\"row_heading level0 row5\" >5</th>\n",
              "      <td id=\"T_6663c_row5_col0\" class=\"data row5 col0\" >Transformed train set shape</td>\n",
              "      <td id=\"T_6663c_row5_col1\" class=\"data row5 col1\" >(3582, 1153)</td>\n",
              "    </tr>\n",
              "    <tr>\n",
              "      <th id=\"T_6663c_level0_row6\" class=\"row_heading level0 row6\" >6</th>\n",
              "      <td id=\"T_6663c_row6_col0\" class=\"data row6 col0\" >Transformed test set shape</td>\n",
              "      <td id=\"T_6663c_row6_col1\" class=\"data row6 col1\" >(839, 1153)</td>\n",
              "    </tr>\n",
              "    <tr>\n",
              "      <th id=\"T_6663c_level0_row7\" class=\"row_heading level0 row7\" >7</th>\n",
              "      <td id=\"T_6663c_row7_col0\" class=\"data row7 col0\" >Numeric features</td>\n",
              "      <td id=\"T_6663c_row7_col1\" class=\"data row7 col1\" >1152</td>\n",
              "    </tr>\n",
              "    <tr>\n",
              "      <th id=\"T_6663c_level0_row8\" class=\"row_heading level0 row8\" >8</th>\n",
              "      <td id=\"T_6663c_row8_col0\" class=\"data row8 col0\" >Preprocess</td>\n",
              "      <td id=\"T_6663c_row8_col1\" class=\"data row8 col1\" >True</td>\n",
              "    </tr>\n",
              "    <tr>\n",
              "      <th id=\"T_6663c_level0_row9\" class=\"row_heading level0 row9\" >9</th>\n",
              "      <td id=\"T_6663c_row9_col0\" class=\"data row9 col0\" >Imputation type</td>\n",
              "      <td id=\"T_6663c_row9_col1\" class=\"data row9 col1\" >simple</td>\n",
              "    </tr>\n",
              "    <tr>\n",
              "      <th id=\"T_6663c_level0_row10\" class=\"row_heading level0 row10\" >10</th>\n",
              "      <td id=\"T_6663c_row10_col0\" class=\"data row10 col0\" >Numeric imputation</td>\n",
              "      <td id=\"T_6663c_row10_col1\" class=\"data row10 col1\" >mean</td>\n",
              "    </tr>\n",
              "    <tr>\n",
              "      <th id=\"T_6663c_level0_row11\" class=\"row_heading level0 row11\" >11</th>\n",
              "      <td id=\"T_6663c_row11_col0\" class=\"data row11 col0\" >Categorical imputation</td>\n",
              "      <td id=\"T_6663c_row11_col1\" class=\"data row11 col1\" >mode</td>\n",
              "    </tr>\n",
              "    <tr>\n",
              "      <th id=\"T_6663c_level0_row12\" class=\"row_heading level0 row12\" >12</th>\n",
              "      <td id=\"T_6663c_row12_col0\" class=\"data row12 col0\" >Fix imbalance</td>\n",
              "      <td id=\"T_6663c_row12_col1\" class=\"data row12 col1\" >True</td>\n",
              "    </tr>\n",
              "    <tr>\n",
              "      <th id=\"T_6663c_level0_row13\" class=\"row_heading level0 row13\" >13</th>\n",
              "      <td id=\"T_6663c_row13_col0\" class=\"data row13 col0\" >Fix imbalance method</td>\n",
              "      <td id=\"T_6663c_row13_col1\" class=\"data row13 col1\" >SMOTE</td>\n",
              "    </tr>\n",
              "    <tr>\n",
              "      <th id=\"T_6663c_level0_row14\" class=\"row_heading level0 row14\" >14</th>\n",
              "      <td id=\"T_6663c_row14_col0\" class=\"data row14 col0\" >Fold Generator</td>\n",
              "      <td id=\"T_6663c_row14_col1\" class=\"data row14 col1\" >StratifiedKFold</td>\n",
              "    </tr>\n",
              "    <tr>\n",
              "      <th id=\"T_6663c_level0_row15\" class=\"row_heading level0 row15\" >15</th>\n",
              "      <td id=\"T_6663c_row15_col0\" class=\"data row15 col0\" >Fold Number</td>\n",
              "      <td id=\"T_6663c_row15_col1\" class=\"data row15 col1\" >10</td>\n",
              "    </tr>\n",
              "    <tr>\n",
              "      <th id=\"T_6663c_level0_row16\" class=\"row_heading level0 row16\" >16</th>\n",
              "      <td id=\"T_6663c_row16_col0\" class=\"data row16 col0\" >CPU Jobs</td>\n",
              "      <td id=\"T_6663c_row16_col1\" class=\"data row16 col1\" >-1</td>\n",
              "    </tr>\n",
              "    <tr>\n",
              "      <th id=\"T_6663c_level0_row17\" class=\"row_heading level0 row17\" >17</th>\n",
              "      <td id=\"T_6663c_row17_col0\" class=\"data row17 col0\" >Use GPU</td>\n",
              "      <td id=\"T_6663c_row17_col1\" class=\"data row17 col1\" >False</td>\n",
              "    </tr>\n",
              "    <tr>\n",
              "      <th id=\"T_6663c_level0_row18\" class=\"row_heading level0 row18\" >18</th>\n",
              "      <td id=\"T_6663c_row18_col0\" class=\"data row18 col0\" >Log Experiment</td>\n",
              "      <td id=\"T_6663c_row18_col1\" class=\"data row18 col1\" >False</td>\n",
              "    </tr>\n",
              "    <tr>\n",
              "      <th id=\"T_6663c_level0_row19\" class=\"row_heading level0 row19\" >19</th>\n",
              "      <td id=\"T_6663c_row19_col0\" class=\"data row19 col0\" >Experiment Name</td>\n",
              "      <td id=\"T_6663c_row19_col1\" class=\"data row19 col1\" >clf-default-name</td>\n",
              "    </tr>\n",
              "    <tr>\n",
              "      <th id=\"T_6663c_level0_row20\" class=\"row_heading level0 row20\" >20</th>\n",
              "      <td id=\"T_6663c_row20_col0\" class=\"data row20 col0\" >USI</td>\n",
              "      <td id=\"T_6663c_row20_col1\" class=\"data row20 col1\" >cd68</td>\n",
              "    </tr>\n",
              "  </tbody>\n",
              "</table>\n"
            ]
          },
          "metadata": {}
        }
      ]
    },
    {
      "cell_type": "code",
      "source": [
        "best_SMOTE = compare_models()"
      ],
      "metadata": {
        "colab": {
          "base_uri": "https://localhost:8080/",
          "height": 520,
          "referenced_widgets": [
            "456709e58faa4542aac9a7f78033013e",
            "65d19e0d946d4ad7916555b6bce84727",
            "e555aa641cae4c08b9e6e95178d44831",
            "77147687fb9d43a1b293772ecc6596ba",
            "b7f28033679f444a93c57740a6a310b8",
            "f0fef3e7b0564ecc80bfa288165dfd9d",
            "84413940897142059b3d09e60878bdec",
            "4a8392e4647642e599ed1f431d4cd1a5",
            "b3ebc59e0c644193857fd08e942f2f63",
            "100a93be60754c77b5a23335e6bbea7d",
            "e9bd7779096a42be88e122c456a5bef6"
          ]
        },
        "id": "DtO5kVz0dZpG",
        "outputId": "eabf1742-e622-49f0-9541-07baee36b654"
      },
      "execution_count": 17,
      "outputs": [
        {
          "output_type": "display_data",
          "data": {
            "text/plain": [
              "<IPython.core.display.HTML object>"
            ],
            "text/html": []
          },
          "metadata": {}
        },
        {
          "output_type": "display_data",
          "data": {
            "text/plain": [
              "<pandas.io.formats.style.Styler at 0x7fbd1786bf40>"
            ],
            "text/html": [
              "<style type=\"text/css\">\n",
              "#T_fda88 th {\n",
              "  text-align: left;\n",
              "}\n",
              "#T_fda88_row0_col0, #T_fda88_row0_col2, #T_fda88_row0_col3, #T_fda88_row0_col5, #T_fda88_row0_col6, #T_fda88_row0_col7, #T_fda88_row1_col0, #T_fda88_row1_col1, #T_fda88_row1_col3, #T_fda88_row1_col4, #T_fda88_row1_col5, #T_fda88_row1_col6, #T_fda88_row1_col7, #T_fda88_row2_col0, #T_fda88_row2_col1, #T_fda88_row2_col2, #T_fda88_row2_col3, #T_fda88_row2_col4, #T_fda88_row2_col5, #T_fda88_row2_col6, #T_fda88_row2_col7, #T_fda88_row3_col0, #T_fda88_row3_col1, #T_fda88_row3_col2, #T_fda88_row3_col3, #T_fda88_row3_col4, #T_fda88_row3_col5, #T_fda88_row3_col6, #T_fda88_row3_col7, #T_fda88_row4_col0, #T_fda88_row4_col1, #T_fda88_row4_col2, #T_fda88_row4_col3, #T_fda88_row4_col4, #T_fda88_row4_col5, #T_fda88_row4_col6, #T_fda88_row4_col7, #T_fda88_row5_col0, #T_fda88_row5_col1, #T_fda88_row5_col2, #T_fda88_row5_col3, #T_fda88_row5_col4, #T_fda88_row5_col5, #T_fda88_row5_col6, #T_fda88_row5_col7, #T_fda88_row6_col0, #T_fda88_row6_col1, #T_fda88_row6_col2, #T_fda88_row6_col3, #T_fda88_row6_col4, #T_fda88_row7_col0, #T_fda88_row7_col1, #T_fda88_row7_col2, #T_fda88_row7_col3, #T_fda88_row7_col4, #T_fda88_row7_col5, #T_fda88_row7_col6, #T_fda88_row7_col7, #T_fda88_row8_col0, #T_fda88_row8_col1, #T_fda88_row8_col2, #T_fda88_row8_col3, #T_fda88_row8_col4, #T_fda88_row8_col5, #T_fda88_row8_col6, #T_fda88_row8_col7, #T_fda88_row9_col0, #T_fda88_row9_col1, #T_fda88_row9_col2, #T_fda88_row9_col3, #T_fda88_row9_col4, #T_fda88_row9_col5, #T_fda88_row9_col6, #T_fda88_row9_col7, #T_fda88_row10_col0, #T_fda88_row10_col1, #T_fda88_row10_col2, #T_fda88_row10_col3, #T_fda88_row10_col4, #T_fda88_row10_col5, #T_fda88_row10_col6, #T_fda88_row10_col7, #T_fda88_row11_col0, #T_fda88_row11_col1, #T_fda88_row11_col2, #T_fda88_row11_col3, #T_fda88_row11_col4, #T_fda88_row11_col5, #T_fda88_row11_col6, #T_fda88_row11_col7, #T_fda88_row12_col0, #T_fda88_row12_col1, #T_fda88_row12_col2, #T_fda88_row12_col3, #T_fda88_row12_col4, #T_fda88_row12_col5, #T_fda88_row12_col6, #T_fda88_row12_col7, #T_fda88_row13_col0, #T_fda88_row13_col1, #T_fda88_row13_col2, #T_fda88_row13_col3, #T_fda88_row13_col4, #T_fda88_row13_col5, #T_fda88_row13_col6, #T_fda88_row13_col7, #T_fda88_row14_col0, #T_fda88_row14_col1, #T_fda88_row14_col2, #T_fda88_row14_col4, #T_fda88_row14_col5, #T_fda88_row14_col6, #T_fda88_row14_col7 {\n",
              "  text-align: left;\n",
              "}\n",
              "#T_fda88_row0_col1, #T_fda88_row0_col4, #T_fda88_row1_col2, #T_fda88_row6_col5, #T_fda88_row6_col6, #T_fda88_row6_col7, #T_fda88_row14_col3 {\n",
              "  text-align: left;\n",
              "  background-color: yellow;\n",
              "}\n",
              "#T_fda88_row0_col8, #T_fda88_row1_col8, #T_fda88_row2_col8, #T_fda88_row3_col8, #T_fda88_row5_col8, #T_fda88_row6_col8, #T_fda88_row7_col8, #T_fda88_row8_col8, #T_fda88_row9_col8, #T_fda88_row10_col8, #T_fda88_row11_col8, #T_fda88_row12_col8, #T_fda88_row13_col8, #T_fda88_row14_col8 {\n",
              "  text-align: left;\n",
              "  background-color: lightgrey;\n",
              "}\n",
              "#T_fda88_row4_col8 {\n",
              "  text-align: left;\n",
              "  background-color: yellow;\n",
              "  background-color: lightgrey;\n",
              "}\n",
              "</style>\n",
              "<table id=\"T_fda88\" class=\"dataframe\">\n",
              "  <thead>\n",
              "    <tr>\n",
              "      <th class=\"blank level0\" >&nbsp;</th>\n",
              "      <th id=\"T_fda88_level0_col0\" class=\"col_heading level0 col0\" >Model</th>\n",
              "      <th id=\"T_fda88_level0_col1\" class=\"col_heading level0 col1\" >Accuracy</th>\n",
              "      <th id=\"T_fda88_level0_col2\" class=\"col_heading level0 col2\" >AUC</th>\n",
              "      <th id=\"T_fda88_level0_col3\" class=\"col_heading level0 col3\" >Recall</th>\n",
              "      <th id=\"T_fda88_level0_col4\" class=\"col_heading level0 col4\" >Prec.</th>\n",
              "      <th id=\"T_fda88_level0_col5\" class=\"col_heading level0 col5\" >F1</th>\n",
              "      <th id=\"T_fda88_level0_col6\" class=\"col_heading level0 col6\" >Kappa</th>\n",
              "      <th id=\"T_fda88_level0_col7\" class=\"col_heading level0 col7\" >MCC</th>\n",
              "      <th id=\"T_fda88_level0_col8\" class=\"col_heading level0 col8\" >TT (Sec)</th>\n",
              "    </tr>\n",
              "  </thead>\n",
              "  <tbody>\n",
              "    <tr>\n",
              "      <th id=\"T_fda88_level0_row0\" class=\"row_heading level0 row0\" >et</th>\n",
              "      <td id=\"T_fda88_row0_col0\" class=\"data row0 col0\" >Extra Trees Classifier</td>\n",
              "      <td id=\"T_fda88_row0_col1\" class=\"data row0 col1\" >0.9192</td>\n",
              "      <td id=\"T_fda88_row0_col2\" class=\"data row0 col2\" >0.7877</td>\n",
              "      <td id=\"T_fda88_row0_col3\" class=\"data row0 col3\" >0.1393</td>\n",
              "      <td id=\"T_fda88_row0_col4\" class=\"data row0 col4\" >0.5414</td>\n",
              "      <td id=\"T_fda88_row0_col5\" class=\"data row0 col5\" >0.2166</td>\n",
              "      <td id=\"T_fda88_row0_col6\" class=\"data row0 col6\" >0.1918</td>\n",
              "      <td id=\"T_fda88_row0_col7\" class=\"data row0 col7\" >0.2427</td>\n",
              "      <td id=\"T_fda88_row0_col8\" class=\"data row0 col8\" >2.9210</td>\n",
              "    </tr>\n",
              "    <tr>\n",
              "      <th id=\"T_fda88_level0_row1\" class=\"row_heading level0 row1\" >rf</th>\n",
              "      <td id=\"T_fda88_row1_col0\" class=\"data row1 col0\" >Random Forest Classifier</td>\n",
              "      <td id=\"T_fda88_row1_col1\" class=\"data row1 col1\" >0.9177</td>\n",
              "      <td id=\"T_fda88_row1_col2\" class=\"data row1 col2\" >0.8196</td>\n",
              "      <td id=\"T_fda88_row1_col3\" class=\"data row1 col3\" >0.1640</td>\n",
              "      <td id=\"T_fda88_row1_col4\" class=\"data row1 col4\" >0.4854</td>\n",
              "      <td id=\"T_fda88_row1_col5\" class=\"data row1 col5\" >0.2368</td>\n",
              "      <td id=\"T_fda88_row1_col6\" class=\"data row1 col6\" >0.2082</td>\n",
              "      <td id=\"T_fda88_row1_col7\" class=\"data row1 col7\" >0.2442</td>\n",
              "      <td id=\"T_fda88_row1_col8\" class=\"data row1 col8\" >10.3910</td>\n",
              "    </tr>\n",
              "    <tr>\n",
              "      <th id=\"T_fda88_level0_row2\" class=\"row_heading level0 row2\" >xgboost</th>\n",
              "      <td id=\"T_fda88_row2_col0\" class=\"data row2 col0\" >Extreme Gradient Boosting</td>\n",
              "      <td id=\"T_fda88_row2_col1\" class=\"data row2 col1\" >0.9171</td>\n",
              "      <td id=\"T_fda88_row2_col2\" class=\"data row2 col2\" >0.8112</td>\n",
              "      <td id=\"T_fda88_row2_col3\" class=\"data row2 col3\" >0.2904</td>\n",
              "      <td id=\"T_fda88_row2_col4\" class=\"data row2 col4\" >0.5080</td>\n",
              "      <td id=\"T_fda88_row2_col5\" class=\"data row2 col5\" >0.3580</td>\n",
              "      <td id=\"T_fda88_row2_col6\" class=\"data row2 col6\" >0.3192</td>\n",
              "      <td id=\"T_fda88_row2_col7\" class=\"data row2 col7\" >0.3371</td>\n",
              "      <td id=\"T_fda88_row2_col8\" class=\"data row2 col8\" >52.8050</td>\n",
              "    </tr>\n",
              "    <tr>\n",
              "      <th id=\"T_fda88_level0_row3\" class=\"row_heading level0 row3\" >qda</th>\n",
              "      <td id=\"T_fda88_row3_col0\" class=\"data row3 col0\" >Quadratic Discriminant Analysis</td>\n",
              "      <td id=\"T_fda88_row3_col1\" class=\"data row3 col1\" >0.9161</td>\n",
              "      <td id=\"T_fda88_row3_col2\" class=\"data row3 col2\" >0.5000</td>\n",
              "      <td id=\"T_fda88_row3_col3\" class=\"data row3 col3\" >0.0000</td>\n",
              "      <td id=\"T_fda88_row3_col4\" class=\"data row3 col4\" >0.0000</td>\n",
              "      <td id=\"T_fda88_row3_col5\" class=\"data row3 col5\" >0.0000</td>\n",
              "      <td id=\"T_fda88_row3_col6\" class=\"data row3 col6\" >0.0000</td>\n",
              "      <td id=\"T_fda88_row3_col7\" class=\"data row3 col7\" >0.0000</td>\n",
              "      <td id=\"T_fda88_row3_col8\" class=\"data row3 col8\" >4.1990</td>\n",
              "    </tr>\n",
              "    <tr>\n",
              "      <th id=\"T_fda88_level0_row4\" class=\"row_heading level0 row4\" >dummy</th>\n",
              "      <td id=\"T_fda88_row4_col0\" class=\"data row4 col0\" >Dummy Classifier</td>\n",
              "      <td id=\"T_fda88_row4_col1\" class=\"data row4 col1\" >0.9161</td>\n",
              "      <td id=\"T_fda88_row4_col2\" class=\"data row4 col2\" >0.5000</td>\n",
              "      <td id=\"T_fda88_row4_col3\" class=\"data row4 col3\" >0.0000</td>\n",
              "      <td id=\"T_fda88_row4_col4\" class=\"data row4 col4\" >0.0000</td>\n",
              "      <td id=\"T_fda88_row4_col5\" class=\"data row4 col5\" >0.0000</td>\n",
              "      <td id=\"T_fda88_row4_col6\" class=\"data row4 col6\" >0.0000</td>\n",
              "      <td id=\"T_fda88_row4_col7\" class=\"data row4 col7\" >0.0000</td>\n",
              "      <td id=\"T_fda88_row4_col8\" class=\"data row4 col8\" >0.5810</td>\n",
              "    </tr>\n",
              "    <tr>\n",
              "      <th id=\"T_fda88_level0_row5\" class=\"row_heading level0 row5\" >lightgbm</th>\n",
              "      <td id=\"T_fda88_row5_col0\" class=\"data row5 col0\" >Light Gradient Boosting Machine</td>\n",
              "      <td id=\"T_fda88_row5_col1\" class=\"data row5 col1\" >0.9151</td>\n",
              "      <td id=\"T_fda88_row5_col2\" class=\"data row5 col2\" >0.8050</td>\n",
              "      <td id=\"T_fda88_row5_col3\" class=\"data row5 col3\" >0.2287</td>\n",
              "      <td id=\"T_fda88_row5_col4\" class=\"data row5 col4\" >0.4498</td>\n",
              "      <td id=\"T_fda88_row5_col5\" class=\"data row5 col5\" >0.2933</td>\n",
              "      <td id=\"T_fda88_row5_col6\" class=\"data row5 col6\" >0.2574</td>\n",
              "      <td id=\"T_fda88_row5_col7\" class=\"data row5 col7\" >0.2773</td>\n",
              "      <td id=\"T_fda88_row5_col8\" class=\"data row5 col8\" >21.0720</td>\n",
              "    </tr>\n",
              "    <tr>\n",
              "      <th id=\"T_fda88_level0_row6\" class=\"row_heading level0 row6\" >gbc</th>\n",
              "      <td id=\"T_fda88_row6_col0\" class=\"data row6 col0\" >Gradient Boosting Classifier</td>\n",
              "      <td id=\"T_fda88_row6_col1\" class=\"data row6 col1\" >0.9028</td>\n",
              "      <td id=\"T_fda88_row6_col2\" class=\"data row6 col2\" >0.8116</td>\n",
              "      <td id=\"T_fda88_row6_col3\" class=\"data row6 col3\" >0.3934</td>\n",
              "      <td id=\"T_fda88_row6_col4\" class=\"data row6 col4\" >0.4214</td>\n",
              "      <td id=\"T_fda88_row6_col5\" class=\"data row6 col5\" >0.3944</td>\n",
              "      <td id=\"T_fda88_row6_col6\" class=\"data row6 col6\" >0.3431</td>\n",
              "      <td id=\"T_fda88_row6_col7\" class=\"data row6 col7\" >0.3496</td>\n",
              "      <td id=\"T_fda88_row6_col8\" class=\"data row6 col8\" >114.2220</td>\n",
              "    </tr>\n",
              "    <tr>\n",
              "      <th id=\"T_fda88_level0_row7\" class=\"row_heading level0 row7\" >svm</th>\n",
              "      <td id=\"T_fda88_row7_col0\" class=\"data row7 col0\" >SVM - Linear Kernel</td>\n",
              "      <td id=\"T_fda88_row7_col1\" class=\"data row7 col1\" >0.8803</td>\n",
              "      <td id=\"T_fda88_row7_col2\" class=\"data row7 col2\" >0.0000</td>\n",
              "      <td id=\"T_fda88_row7_col3\" class=\"data row7 col3\" >0.3287</td>\n",
              "      <td id=\"T_fda88_row7_col4\" class=\"data row7 col4\" >0.3238</td>\n",
              "      <td id=\"T_fda88_row7_col5\" class=\"data row7 col5\" >0.3173</td>\n",
              "      <td id=\"T_fda88_row7_col6\" class=\"data row7 col6\" >0.2536</td>\n",
              "      <td id=\"T_fda88_row7_col7\" class=\"data row7 col7\" >0.2577</td>\n",
              "      <td id=\"T_fda88_row7_col8\" class=\"data row7 col8\" >0.9640</td>\n",
              "    </tr>\n",
              "    <tr>\n",
              "      <th id=\"T_fda88_level0_row8\" class=\"row_heading level0 row8\" >lr</th>\n",
              "      <td id=\"T_fda88_row8_col0\" class=\"data row8 col0\" >Logistic Regression</td>\n",
              "      <td id=\"T_fda88_row8_col1\" class=\"data row8 col1\" >0.8706</td>\n",
              "      <td id=\"T_fda88_row8_col2\" class=\"data row8 col2\" >0.7751</td>\n",
              "      <td id=\"T_fda88_row8_col3\" class=\"data row8 col3\" >0.3835</td>\n",
              "      <td id=\"T_fda88_row8_col4\" class=\"data row8 col4\" >0.2950</td>\n",
              "      <td id=\"T_fda88_row8_col5\" class=\"data row8 col5\" >0.3304</td>\n",
              "      <td id=\"T_fda88_row8_col6\" class=\"data row8 col6\" >0.2608</td>\n",
              "      <td id=\"T_fda88_row8_col7\" class=\"data row8 col7\" >0.2651</td>\n",
              "      <td id=\"T_fda88_row8_col8\" class=\"data row8 col8\" >2.3490</td>\n",
              "    </tr>\n",
              "    <tr>\n",
              "      <th id=\"T_fda88_level0_row9\" class=\"row_heading level0 row9\" >ada</th>\n",
              "      <td id=\"T_fda88_row9_col0\" class=\"data row9 col0\" >Ada Boost Classifier</td>\n",
              "      <td id=\"T_fda88_row9_col1\" class=\"data row9 col1\" >0.8578</td>\n",
              "      <td id=\"T_fda88_row9_col2\" class=\"data row9 col2\" >0.7539</td>\n",
              "      <td id=\"T_fda88_row9_col3\" class=\"data row9 col3\" >0.4438</td>\n",
              "      <td id=\"T_fda88_row9_col4\" class=\"data row9 col4\" >0.2713</td>\n",
              "      <td id=\"T_fda88_row9_col5\" class=\"data row9 col5\" >0.3330</td>\n",
              "      <td id=\"T_fda88_row9_col6\" class=\"data row9 col6\" >0.2586</td>\n",
              "      <td id=\"T_fda88_row9_col7\" class=\"data row9 col7\" >0.2711</td>\n",
              "      <td id=\"T_fda88_row9_col8\" class=\"data row9 col8\" >23.1910</td>\n",
              "    </tr>\n",
              "    <tr>\n",
              "      <th id=\"T_fda88_level0_row10\" class=\"row_heading level0 row10\" >dt</th>\n",
              "      <td id=\"T_fda88_row10_col0\" class=\"data row10 col0\" >Decision Tree Classifier</td>\n",
              "      <td id=\"T_fda88_row10_col1\" class=\"data row10 col1\" >0.8056</td>\n",
              "      <td id=\"T_fda88_row10_col2\" class=\"data row10 col2\" >0.5753</td>\n",
              "      <td id=\"T_fda88_row10_col3\" class=\"data row10 col3\" >0.2985</td>\n",
              "      <td id=\"T_fda88_row10_col4\" class=\"data row10 col4\" >0.1538</td>\n",
              "      <td id=\"T_fda88_row10_col5\" class=\"data row10 col5\" >0.2025</td>\n",
              "      <td id=\"T_fda88_row10_col6\" class=\"data row10 col6\" >0.1041</td>\n",
              "      <td id=\"T_fda88_row10_col7\" class=\"data row10 col7\" >0.1122</td>\n",
              "      <td id=\"T_fda88_row10_col8\" class=\"data row10 col8\" >7.3940</td>\n",
              "    </tr>\n",
              "    <tr>\n",
              "      <th id=\"T_fda88_level0_row11\" class=\"row_heading level0 row11\" >ridge</th>\n",
              "      <td id=\"T_fda88_row11_col0\" class=\"data row11 col0\" >Ridge Classifier</td>\n",
              "      <td id=\"T_fda88_row11_col1\" class=\"data row11 col1\" >0.7785</td>\n",
              "      <td id=\"T_fda88_row11_col2\" class=\"data row11 col2\" >0.0000</td>\n",
              "      <td id=\"T_fda88_row11_col3\" class=\"data row11 col3\" >0.4379</td>\n",
              "      <td id=\"T_fda88_row11_col4\" class=\"data row11 col4\" >0.1774</td>\n",
              "      <td id=\"T_fda88_row11_col5\" class=\"data row11 col5\" >0.2515</td>\n",
              "      <td id=\"T_fda88_row11_col6\" class=\"data row11 col6\" >0.1498</td>\n",
              "      <td id=\"T_fda88_row11_col7\" class=\"data row11 col7\" >0.1704</td>\n",
              "      <td id=\"T_fda88_row11_col8\" class=\"data row11 col8\" >0.7810</td>\n",
              "    </tr>\n",
              "    <tr>\n",
              "      <th id=\"T_fda88_level0_row12\" class=\"row_heading level0 row12\" >lda</th>\n",
              "      <td id=\"T_fda88_row12_col0\" class=\"data row12 col0\" >Linear Discriminant Analysis</td>\n",
              "      <td id=\"T_fda88_row12_col1\" class=\"data row12 col1\" >0.7672</td>\n",
              "      <td id=\"T_fda88_row12_col2\" class=\"data row12 col2\" >0.6818</td>\n",
              "      <td id=\"T_fda88_row12_col3\" class=\"data row12 col3\" >0.4566</td>\n",
              "      <td id=\"T_fda88_row12_col4\" class=\"data row12 col4\" >0.1719</td>\n",
              "      <td id=\"T_fda88_row12_col5\" class=\"data row12 col5\" >0.2490</td>\n",
              "      <td id=\"T_fda88_row12_col6\" class=\"data row12 col6\" >0.1447</td>\n",
              "      <td id=\"T_fda88_row12_col7\" class=\"data row12 col7\" >0.1687</td>\n",
              "      <td id=\"T_fda88_row12_col8\" class=\"data row12 col8\" >3.4880</td>\n",
              "    </tr>\n",
              "    <tr>\n",
              "      <th id=\"T_fda88_level0_row13\" class=\"row_heading level0 row13\" >nb</th>\n",
              "      <td id=\"T_fda88_row13_col0\" class=\"data row13 col0\" >Naive Bayes</td>\n",
              "      <td id=\"T_fda88_row13_col1\" class=\"data row13 col1\" >0.6067</td>\n",
              "      <td id=\"T_fda88_row13_col2\" class=\"data row13 col2\" >0.5805</td>\n",
              "      <td id=\"T_fda88_row13_col3\" class=\"data row13 col3\" >0.5404</td>\n",
              "      <td id=\"T_fda88_row13_col4\" class=\"data row13 col4\" >0.1127</td>\n",
              "      <td id=\"T_fda88_row13_col5\" class=\"data row13 col5\" >0.1863</td>\n",
              "      <td id=\"T_fda88_row13_col6\" class=\"data row13 col6\" >0.0555</td>\n",
              "      <td id=\"T_fda88_row13_col7\" class=\"data row13 col7\" >0.0867</td>\n",
              "      <td id=\"T_fda88_row13_col8\" class=\"data row13 col8\" >0.8530</td>\n",
              "    </tr>\n",
              "    <tr>\n",
              "      <th id=\"T_fda88_level0_row14\" class=\"row_heading level0 row14\" >knn</th>\n",
              "      <td id=\"T_fda88_row14_col0\" class=\"data row14 col0\" >K Neighbors Classifier</td>\n",
              "      <td id=\"T_fda88_row14_col1\" class=\"data row14 col1\" >0.4394</td>\n",
              "      <td id=\"T_fda88_row14_col2\" class=\"data row14 col2\" >0.7172</td>\n",
              "      <td id=\"T_fda88_row14_col3\" class=\"data row14 col3\" >0.8522</td>\n",
              "      <td id=\"T_fda88_row14_col4\" class=\"data row14 col4\" >0.1157</td>\n",
              "      <td id=\"T_fda88_row14_col5\" class=\"data row14 col5\" >0.2037</td>\n",
              "      <td id=\"T_fda88_row14_col6\" class=\"data row14 col6\" >0.0657</td>\n",
              "      <td id=\"T_fda88_row14_col7\" class=\"data row14 col7\" >0.1452</td>\n",
              "      <td id=\"T_fda88_row14_col8\" class=\"data row14 col8\" >0.8240</td>\n",
              "    </tr>\n",
              "  </tbody>\n",
              "</table>\n"
            ]
          },
          "metadata": {}
        },
        {
          "output_type": "display_data",
          "data": {
            "text/plain": [
              "Processing:   0%|          | 0/65 [00:00<?, ?it/s]"
            ],
            "application/vnd.jupyter.widget-view+json": {
              "version_major": 2,
              "version_minor": 0,
              "model_id": "456709e58faa4542aac9a7f78033013e"
            }
          },
          "metadata": {
            "application/vnd.jupyter.widget-view+json": {
              "colab": {
                "custom_widget_manager": {
                  "url": "https://ssl.gstatic.com/colaboratory-static/widgets/colab-cdn-widget-manager/b3e629b1971e1542/manager.min.js"
                }
              }
            }
          }
        },
        {
          "output_type": "display_data",
          "data": {
            "text/plain": [
              "<IPython.core.display.HTML object>"
            ],
            "text/html": []
          },
          "metadata": {}
        }
      ]
    },
    {
      "cell_type": "code",
      "source": [
        "SMOTE_results = pull()"
      ],
      "metadata": {
        "id": "3aX9kyGjlEAy"
      },
      "execution_count": 18,
      "outputs": []
    },
    {
      "cell_type": "markdown",
      "source": [
        "### XGBoost"
      ],
      "metadata": {
        "id": "egFuFCp8Jc4c"
      }
    },
    {
      "cell_type": "code",
      "source": [
        "# create an Extreme Gradient Boosting model\n",
        "xgboost = create_model('xgboost')\n",
        "tuned_xgboost = tune_model(xgboost)"
      ],
      "metadata": {
        "colab": {
          "base_uri": "https://localhost:8080/",
          "height": 932,
          "referenced_widgets": [
            "73dd5304a5264fd0aff1902b02f40021",
            "5425a6ed18284ba2aa4cb98e31a6c5f2",
            "56d014001eb6449783dbcc6e1598460a",
            "5e0908fcbd2647c1aa02edb00db0e39c",
            "9374b662e4eb4e42b7b24e488f154e3d",
            "2749a49b98254cac8b3c7800e17cef6a",
            "f261a3f266fa4a99a09fbab924814338",
            "49307e647206461e9e5aa3ec3845e36a",
            "5dd61d08f32047e9ad4c7d4813902438",
            "cfc35ebc738a453aa74a4d211523bc32",
            "f648686b7ca346b7aaf9e4a1ef76ce04",
            "0f1c12da84d64c97b7f15edacbb8493f",
            "48a40c137ef643e1a3dfd96aab2a07ed",
            "fe39913bcc264c96953393ad20672700",
            "d9dc6264ff2c4730826b1aa33a889610",
            "da71b8dde62d4f1b80a9b86836ae558a",
            "5cadba3bc3364dca86cfb2f3ecf9fe9b",
            "dbbf31101c554f8096b8ea6da2b1ba49",
            "5e1d65a7e8e44752bb84272fe480790e",
            "14214e2585774d13bb92ec03be7950fe",
            "e5b91ffb7f044b478a0aad066c4c5d5b",
            "52c37b84641e4df3a55c842d95a9e54c"
          ]
        },
        "id": "51ytJsk8BmEZ",
        "outputId": "2600f4f5-abb5-4a8c-ffe9-517847f226cf"
      },
      "execution_count": 19,
      "outputs": [
        {
          "output_type": "display_data",
          "data": {
            "text/plain": [
              "<IPython.core.display.HTML object>"
            ],
            "text/html": []
          },
          "metadata": {}
        },
        {
          "output_type": "display_data",
          "data": {
            "text/plain": [
              "<pandas.io.formats.style.Styler at 0x7fbd5c14fa00>"
            ],
            "text/html": [
              "<style type=\"text/css\">\n",
              "#T_c23ce_row10_col0, #T_c23ce_row10_col1, #T_c23ce_row10_col2, #T_c23ce_row10_col3, #T_c23ce_row10_col4, #T_c23ce_row10_col5, #T_c23ce_row10_col6 {\n",
              "  background: yellow;\n",
              "}\n",
              "</style>\n",
              "<table id=\"T_c23ce\" class=\"dataframe\">\n",
              "  <thead>\n",
              "    <tr>\n",
              "      <th class=\"blank level0\" >&nbsp;</th>\n",
              "      <th id=\"T_c23ce_level0_col0\" class=\"col_heading level0 col0\" >Accuracy</th>\n",
              "      <th id=\"T_c23ce_level0_col1\" class=\"col_heading level0 col1\" >AUC</th>\n",
              "      <th id=\"T_c23ce_level0_col2\" class=\"col_heading level0 col2\" >Recall</th>\n",
              "      <th id=\"T_c23ce_level0_col3\" class=\"col_heading level0 col3\" >Prec.</th>\n",
              "      <th id=\"T_c23ce_level0_col4\" class=\"col_heading level0 col4\" >F1</th>\n",
              "      <th id=\"T_c23ce_level0_col5\" class=\"col_heading level0 col5\" >Kappa</th>\n",
              "      <th id=\"T_c23ce_level0_col6\" class=\"col_heading level0 col6\" >MCC</th>\n",
              "    </tr>\n",
              "    <tr>\n",
              "      <th class=\"index_name level0\" >Fold</th>\n",
              "      <th class=\"blank col0\" >&nbsp;</th>\n",
              "      <th class=\"blank col1\" >&nbsp;</th>\n",
              "      <th class=\"blank col2\" >&nbsp;</th>\n",
              "      <th class=\"blank col3\" >&nbsp;</th>\n",
              "      <th class=\"blank col4\" >&nbsp;</th>\n",
              "      <th class=\"blank col5\" >&nbsp;</th>\n",
              "      <th class=\"blank col6\" >&nbsp;</th>\n",
              "    </tr>\n",
              "  </thead>\n",
              "  <tbody>\n",
              "    <tr>\n",
              "      <th id=\"T_c23ce_level0_row0\" class=\"row_heading level0 row0\" >0</th>\n",
              "      <td id=\"T_c23ce_row0_col0\" class=\"data row0 col0\" >0.9184</td>\n",
              "      <td id=\"T_c23ce_row0_col1\" class=\"data row0 col1\" >0.7267</td>\n",
              "      <td id=\"T_c23ce_row0_col2\" class=\"data row0 col2\" >0.0625</td>\n",
              "      <td id=\"T_c23ce_row0_col3\" class=\"data row0 col3\" >0.5000</td>\n",
              "      <td id=\"T_c23ce_row0_col4\" class=\"data row0 col4\" >0.1111</td>\n",
              "      <td id=\"T_c23ce_row0_col5\" class=\"data row0 col5\" >0.0947</td>\n",
              "      <td id=\"T_c23ce_row0_col6\" class=\"data row0 col6\" >0.1551</td>\n",
              "    </tr>\n",
              "    <tr>\n",
              "      <th id=\"T_c23ce_level0_row1\" class=\"row_heading level0 row1\" >1</th>\n",
              "      <td id=\"T_c23ce_row1_col0\" class=\"data row1 col0\" >0.9031</td>\n",
              "      <td id=\"T_c23ce_row1_col1\" class=\"data row1 col1\" >0.8120</td>\n",
              "      <td id=\"T_c23ce_row1_col2\" class=\"data row1 col2\" >0.2941</td>\n",
              "      <td id=\"T_c23ce_row1_col3\" class=\"data row1 col3\" >0.4167</td>\n",
              "      <td id=\"T_c23ce_row1_col4\" class=\"data row1 col4\" >0.3448</td>\n",
              "      <td id=\"T_c23ce_row1_col5\" class=\"data row1 col5\" >0.2942</td>\n",
              "      <td id=\"T_c23ce_row1_col6\" class=\"data row1 col6\" >0.2994</td>\n",
              "    </tr>\n",
              "    <tr>\n",
              "      <th id=\"T_c23ce_level0_row2\" class=\"row_heading level0 row2\" >2</th>\n",
              "      <td id=\"T_c23ce_row2_col0\" class=\"data row2 col0\" >0.9286</td>\n",
              "      <td id=\"T_c23ce_row2_col1\" class=\"data row2 col1\" >0.8968</td>\n",
              "      <td id=\"T_c23ce_row2_col2\" class=\"data row2 col2\" >0.4706</td>\n",
              "      <td id=\"T_c23ce_row2_col3\" class=\"data row2 col3\" >0.6154</td>\n",
              "      <td id=\"T_c23ce_row2_col4\" class=\"data row2 col4\" >0.5333</td>\n",
              "      <td id=\"T_c23ce_row2_col5\" class=\"data row2 col5\" >0.4954</td>\n",
              "      <td id=\"T_c23ce_row2_col6\" class=\"data row2 col6\" >0.5006</td>\n",
              "    </tr>\n",
              "    <tr>\n",
              "      <th id=\"T_c23ce_level0_row3\" class=\"row_heading level0 row3\" >3</th>\n",
              "      <td id=\"T_c23ce_row3_col0\" class=\"data row3 col0\" >0.9286</td>\n",
              "      <td id=\"T_c23ce_row3_col1\" class=\"data row3 col1\" >0.8051</td>\n",
              "      <td id=\"T_c23ce_row3_col2\" class=\"data row3 col2\" >0.2941</td>\n",
              "      <td id=\"T_c23ce_row3_col3\" class=\"data row3 col3\" >0.7143</td>\n",
              "      <td id=\"T_c23ce_row3_col4\" class=\"data row3 col4\" >0.4167</td>\n",
              "      <td id=\"T_c23ce_row3_col5\" class=\"data row3 col5\" >0.3856</td>\n",
              "      <td id=\"T_c23ce_row3_col6\" class=\"data row3 col6\" >0.4291</td>\n",
              "    </tr>\n",
              "    <tr>\n",
              "      <th id=\"T_c23ce_level0_row4\" class=\"row_heading level0 row4\" >4</th>\n",
              "      <td id=\"T_c23ce_row4_col0\" class=\"data row4 col0\" >0.9286</td>\n",
              "      <td id=\"T_c23ce_row4_col1\" class=\"data row4 col1\" >0.8265</td>\n",
              "      <td id=\"T_c23ce_row4_col2\" class=\"data row4 col2\" >0.4706</td>\n",
              "      <td id=\"T_c23ce_row4_col3\" class=\"data row4 col3\" >0.6154</td>\n",
              "      <td id=\"T_c23ce_row4_col4\" class=\"data row4 col4\" >0.5333</td>\n",
              "      <td id=\"T_c23ce_row4_col5\" class=\"data row4 col5\" >0.4954</td>\n",
              "      <td id=\"T_c23ce_row4_col6\" class=\"data row4 col6\" >0.5006</td>\n",
              "    </tr>\n",
              "    <tr>\n",
              "      <th id=\"T_c23ce_level0_row5\" class=\"row_heading level0 row5\" >5</th>\n",
              "      <td id=\"T_c23ce_row5_col0\" class=\"data row5 col0\" >0.8872</td>\n",
              "      <td id=\"T_c23ce_row5_col1\" class=\"data row5 col1\" >0.8115</td>\n",
              "      <td id=\"T_c23ce_row5_col2\" class=\"data row5 col2\" >0.1875</td>\n",
              "      <td id=\"T_c23ce_row5_col3\" class=\"data row5 col3\" >0.2500</td>\n",
              "      <td id=\"T_c23ce_row5_col4\" class=\"data row5 col4\" >0.2143</td>\n",
              "      <td id=\"T_c23ce_row5_col5\" class=\"data row5 col5\" >0.1548</td>\n",
              "      <td id=\"T_c23ce_row5_col6\" class=\"data row5 col6\" >0.1567</td>\n",
              "    </tr>\n",
              "    <tr>\n",
              "      <th id=\"T_c23ce_level0_row6\" class=\"row_heading level0 row6\" >6</th>\n",
              "      <td id=\"T_c23ce_row6_col0\" class=\"data row6 col0\" >0.9282</td>\n",
              "      <td id=\"T_c23ce_row6_col1\" class=\"data row6 col1\" >0.8747</td>\n",
              "      <td id=\"T_c23ce_row6_col2\" class=\"data row6 col2\" >0.3750</td>\n",
              "      <td id=\"T_c23ce_row6_col3\" class=\"data row6 col3\" >0.6000</td>\n",
              "      <td id=\"T_c23ce_row6_col4\" class=\"data row6 col4\" >0.4615</td>\n",
              "      <td id=\"T_c23ce_row6_col5\" class=\"data row6 col5\" >0.4253</td>\n",
              "      <td id=\"T_c23ce_row6_col6\" class=\"data row6 col6\" >0.4388</td>\n",
              "    </tr>\n",
              "    <tr>\n",
              "      <th id=\"T_c23ce_level0_row7\" class=\"row_heading level0 row7\" >7</th>\n",
              "      <td id=\"T_c23ce_row7_col0\" class=\"data row7 col0\" >0.9282</td>\n",
              "      <td id=\"T_c23ce_row7_col1\" class=\"data row7 col1\" >0.7922</td>\n",
              "      <td id=\"T_c23ce_row7_col2\" class=\"data row7 col2\" >0.3125</td>\n",
              "      <td id=\"T_c23ce_row7_col3\" class=\"data row7 col3\" >0.6250</td>\n",
              "      <td id=\"T_c23ce_row7_col4\" class=\"data row7 col4\" >0.4167</td>\n",
              "      <td id=\"T_c23ce_row7_col5\" class=\"data row7 col5\" >0.3829</td>\n",
              "      <td id=\"T_c23ce_row7_col6\" class=\"data row7 col6\" >0.4092</td>\n",
              "    </tr>\n",
              "    <tr>\n",
              "      <th id=\"T_c23ce_level0_row8\" class=\"row_heading level0 row8\" >8</th>\n",
              "      <td id=\"T_c23ce_row8_col0\" class=\"data row8 col0\" >0.8923</td>\n",
              "      <td id=\"T_c23ce_row8_col1\" class=\"data row8 col1\" >0.7147</td>\n",
              "      <td id=\"T_c23ce_row8_col2\" class=\"data row8 col2\" >0.0625</td>\n",
              "      <td id=\"T_c23ce_row8_col3\" class=\"data row8 col3\" >0.1429</td>\n",
              "      <td id=\"T_c23ce_row8_col4\" class=\"data row8 col4\" >0.0870</td>\n",
              "      <td id=\"T_c23ce_row8_col5\" class=\"data row8 col5\" >0.0390</td>\n",
              "      <td id=\"T_c23ce_row8_col6\" class=\"data row8 col6\" >0.0428</td>\n",
              "    </tr>\n",
              "    <tr>\n",
              "      <th id=\"T_c23ce_level0_row9\" class=\"row_heading level0 row9\" >9</th>\n",
              "      <td id=\"T_c23ce_row9_col0\" class=\"data row9 col0\" >0.9282</td>\n",
              "      <td id=\"T_c23ce_row9_col1\" class=\"data row9 col1\" >0.8513</td>\n",
              "      <td id=\"T_c23ce_row9_col2\" class=\"data row9 col2\" >0.3750</td>\n",
              "      <td id=\"T_c23ce_row9_col3\" class=\"data row9 col3\" >0.6000</td>\n",
              "      <td id=\"T_c23ce_row9_col4\" class=\"data row9 col4\" >0.4615</td>\n",
              "      <td id=\"T_c23ce_row9_col5\" class=\"data row9 col5\" >0.4253</td>\n",
              "      <td id=\"T_c23ce_row9_col6\" class=\"data row9 col6\" >0.4388</td>\n",
              "    </tr>\n",
              "    <tr>\n",
              "      <th id=\"T_c23ce_level0_row10\" class=\"row_heading level0 row10\" >Mean</th>\n",
              "      <td id=\"T_c23ce_row10_col0\" class=\"data row10 col0\" >0.9171</td>\n",
              "      <td id=\"T_c23ce_row10_col1\" class=\"data row10 col1\" >0.8112</td>\n",
              "      <td id=\"T_c23ce_row10_col2\" class=\"data row10 col2\" >0.2904</td>\n",
              "      <td id=\"T_c23ce_row10_col3\" class=\"data row10 col3\" >0.5080</td>\n",
              "      <td id=\"T_c23ce_row10_col4\" class=\"data row10 col4\" >0.3580</td>\n",
              "      <td id=\"T_c23ce_row10_col5\" class=\"data row10 col5\" >0.3192</td>\n",
              "      <td id=\"T_c23ce_row10_col6\" class=\"data row10 col6\" >0.3371</td>\n",
              "    </tr>\n",
              "    <tr>\n",
              "      <th id=\"T_c23ce_level0_row11\" class=\"row_heading level0 row11\" >Std</th>\n",
              "      <td id=\"T_c23ce_row11_col0\" class=\"data row11 col0\" >0.0157</td>\n",
              "      <td id=\"T_c23ce_row11_col1\" class=\"data row11 col1\" >0.0548</td>\n",
              "      <td id=\"T_c23ce_row11_col2\" class=\"data row11 col2\" >0.1394</td>\n",
              "      <td id=\"T_c23ce_row11_col3\" class=\"data row11 col3\" >0.1745</td>\n",
              "      <td id=\"T_c23ce_row11_col4\" class=\"data row11 col4\" >0.1565</td>\n",
              "      <td id=\"T_c23ce_row11_col5\" class=\"data row11 col5\" >0.1580</td>\n",
              "      <td id=\"T_c23ce_row11_col6\" class=\"data row11 col6\" >0.1554</td>\n",
              "    </tr>\n",
              "  </tbody>\n",
              "</table>\n"
            ]
          },
          "metadata": {}
        },
        {
          "output_type": "display_data",
          "data": {
            "text/plain": [
              "Processing:   0%|          | 0/4 [00:00<?, ?it/s]"
            ],
            "application/vnd.jupyter.widget-view+json": {
              "version_major": 2,
              "version_minor": 0,
              "model_id": "73dd5304a5264fd0aff1902b02f40021"
            }
          },
          "metadata": {
            "application/vnd.jupyter.widget-view+json": {
              "colab": {
                "custom_widget_manager": {
                  "url": "https://ssl.gstatic.com/colaboratory-static/widgets/colab-cdn-widget-manager/b3e629b1971e1542/manager.min.js"
                }
              }
            }
          }
        },
        {
          "output_type": "display_data",
          "data": {
            "text/plain": [
              "<IPython.core.display.HTML object>"
            ],
            "text/html": []
          },
          "metadata": {}
        },
        {
          "output_type": "display_data",
          "data": {
            "text/plain": [
              "<IPython.core.display.HTML object>"
            ],
            "text/html": []
          },
          "metadata": {}
        },
        {
          "output_type": "display_data",
          "data": {
            "text/plain": [
              "<pandas.io.formats.style.Styler at 0x7fbd170fb4f0>"
            ],
            "text/html": [
              "<style type=\"text/css\">\n",
              "#T_98546_row10_col0, #T_98546_row10_col1, #T_98546_row10_col2, #T_98546_row10_col3, #T_98546_row10_col4, #T_98546_row10_col5, #T_98546_row10_col6 {\n",
              "  background: yellow;\n",
              "}\n",
              "</style>\n",
              "<table id=\"T_98546\" class=\"dataframe\">\n",
              "  <thead>\n",
              "    <tr>\n",
              "      <th class=\"blank level0\" >&nbsp;</th>\n",
              "      <th id=\"T_98546_level0_col0\" class=\"col_heading level0 col0\" >Accuracy</th>\n",
              "      <th id=\"T_98546_level0_col1\" class=\"col_heading level0 col1\" >AUC</th>\n",
              "      <th id=\"T_98546_level0_col2\" class=\"col_heading level0 col2\" >Recall</th>\n",
              "      <th id=\"T_98546_level0_col3\" class=\"col_heading level0 col3\" >Prec.</th>\n",
              "      <th id=\"T_98546_level0_col4\" class=\"col_heading level0 col4\" >F1</th>\n",
              "      <th id=\"T_98546_level0_col5\" class=\"col_heading level0 col5\" >Kappa</th>\n",
              "      <th id=\"T_98546_level0_col6\" class=\"col_heading level0 col6\" >MCC</th>\n",
              "    </tr>\n",
              "    <tr>\n",
              "      <th class=\"index_name level0\" >Fold</th>\n",
              "      <th class=\"blank col0\" >&nbsp;</th>\n",
              "      <th class=\"blank col1\" >&nbsp;</th>\n",
              "      <th class=\"blank col2\" >&nbsp;</th>\n",
              "      <th class=\"blank col3\" >&nbsp;</th>\n",
              "      <th class=\"blank col4\" >&nbsp;</th>\n",
              "      <th class=\"blank col5\" >&nbsp;</th>\n",
              "      <th class=\"blank col6\" >&nbsp;</th>\n",
              "    </tr>\n",
              "  </thead>\n",
              "  <tbody>\n",
              "    <tr>\n",
              "      <th id=\"T_98546_level0_row0\" class=\"row_heading level0 row0\" >0</th>\n",
              "      <td id=\"T_98546_row0_col0\" class=\"data row0 col0\" >0.8724</td>\n",
              "      <td id=\"T_98546_row0_col1\" class=\"data row0 col1\" >0.6750</td>\n",
              "      <td id=\"T_98546_row0_col2\" class=\"data row0 col2\" >0.3750</td>\n",
              "      <td id=\"T_98546_row0_col3\" class=\"data row0 col3\" >0.2857</td>\n",
              "      <td id=\"T_98546_row0_col4\" class=\"data row0 col4\" >0.3243</td>\n",
              "      <td id=\"T_98546_row0_col5\" class=\"data row0 col5\" >0.2553</td>\n",
              "      <td id=\"T_98546_row0_col6\" class=\"data row0 col6\" >0.2582</td>\n",
              "    </tr>\n",
              "    <tr>\n",
              "      <th id=\"T_98546_level0_row1\" class=\"row_heading level0 row1\" >1</th>\n",
              "      <td id=\"T_98546_row1_col0\" class=\"data row1 col0\" >0.8418</td>\n",
              "      <td id=\"T_98546_row1_col1\" class=\"data row1 col1\" >0.7703</td>\n",
              "      <td id=\"T_98546_row1_col2\" class=\"data row1 col2\" >0.4706</td>\n",
              "      <td id=\"T_98546_row1_col3\" class=\"data row1 col3\" >0.2667</td>\n",
              "      <td id=\"T_98546_row1_col4\" class=\"data row1 col4\" >0.3404</td>\n",
              "      <td id=\"T_98546_row1_col5\" class=\"data row1 col5\" >0.2583</td>\n",
              "      <td id=\"T_98546_row1_col6\" class=\"data row1 col6\" >0.2718</td>\n",
              "    </tr>\n",
              "    <tr>\n",
              "      <th id=\"T_98546_level0_row2\" class=\"row_heading level0 row2\" >2</th>\n",
              "      <td id=\"T_98546_row2_col0\" class=\"data row2 col0\" >0.8571</td>\n",
              "      <td id=\"T_98546_row2_col1\" class=\"data row2 col1\" >0.9113</td>\n",
              "      <td id=\"T_98546_row2_col2\" class=\"data row2 col2\" >0.5882</td>\n",
              "      <td id=\"T_98546_row2_col3\" class=\"data row2 col3\" >0.3226</td>\n",
              "      <td id=\"T_98546_row2_col4\" class=\"data row2 col4\" >0.4167</td>\n",
              "      <td id=\"T_98546_row2_col5\" class=\"data row2 col5\" >0.3431</td>\n",
              "      <td id=\"T_98546_row2_col6\" class=\"data row2 col6\" >0.3632</td>\n",
              "    </tr>\n",
              "    <tr>\n",
              "      <th id=\"T_98546_level0_row3\" class=\"row_heading level0 row3\" >3</th>\n",
              "      <td id=\"T_98546_row3_col0\" class=\"data row3 col0\" >0.8929</td>\n",
              "      <td id=\"T_98546_row3_col1\" class=\"data row3 col1\" >0.8186</td>\n",
              "      <td id=\"T_98546_row3_col2\" class=\"data row3 col2\" >0.4706</td>\n",
              "      <td id=\"T_98546_row3_col3\" class=\"data row3 col3\" >0.4000</td>\n",
              "      <td id=\"T_98546_row3_col4\" class=\"data row3 col4\" >0.4324</td>\n",
              "      <td id=\"T_98546_row3_col5\" class=\"data row3 col5\" >0.3737</td>\n",
              "      <td id=\"T_98546_row3_col6\" class=\"data row3 col6\" >0.3752</td>\n",
              "    </tr>\n",
              "    <tr>\n",
              "      <th id=\"T_98546_level0_row4\" class=\"row_heading level0 row4\" >4</th>\n",
              "      <td id=\"T_98546_row4_col0\" class=\"data row4 col0\" >0.8827</td>\n",
              "      <td id=\"T_98546_row4_col1\" class=\"data row4 col1\" >0.8682</td>\n",
              "      <td id=\"T_98546_row4_col2\" class=\"data row4 col2\" >0.7647</td>\n",
              "      <td id=\"T_98546_row4_col3\" class=\"data row4 col3\" >0.4062</td>\n",
              "      <td id=\"T_98546_row4_col4\" class=\"data row4 col4\" >0.5306</td>\n",
              "      <td id=\"T_98546_row4_col5\" class=\"data row4 col5\" >0.4706</td>\n",
              "      <td id=\"T_98546_row4_col6\" class=\"data row4 col6\" >0.5015</td>\n",
              "    </tr>\n",
              "    <tr>\n",
              "      <th id=\"T_98546_level0_row5\" class=\"row_heading level0 row5\" >5</th>\n",
              "      <td id=\"T_98546_row5_col0\" class=\"data row5 col0\" >0.8872</td>\n",
              "      <td id=\"T_98546_row5_col1\" class=\"data row5 col1\" >0.7898</td>\n",
              "      <td id=\"T_98546_row5_col2\" class=\"data row5 col2\" >0.5000</td>\n",
              "      <td id=\"T_98546_row5_col3\" class=\"data row5 col3\" >0.3636</td>\n",
              "      <td id=\"T_98546_row5_col4\" class=\"data row5 col4\" >0.4211</td>\n",
              "      <td id=\"T_98546_row5_col5\" class=\"data row5 col5\" >0.3603</td>\n",
              "      <td id=\"T_98546_row5_col6\" class=\"data row5 col6\" >0.3659</td>\n",
              "    </tr>\n",
              "    <tr>\n",
              "      <th id=\"T_98546_level0_row6\" class=\"row_heading level0 row6\" >6</th>\n",
              "      <td id=\"T_98546_row6_col0\" class=\"data row6 col0\" >0.8821</td>\n",
              "      <td id=\"T_98546_row6_col1\" class=\"data row6 col1\" >0.7978</td>\n",
              "      <td id=\"T_98546_row6_col2\" class=\"data row6 col2\" >0.5000</td>\n",
              "      <td id=\"T_98546_row6_col3\" class=\"data row6 col3\" >0.3478</td>\n",
              "      <td id=\"T_98546_row6_col4\" class=\"data row6 col4\" >0.4103</td>\n",
              "      <td id=\"T_98546_row6_col5\" class=\"data row6 col5\" >0.3471</td>\n",
              "      <td id=\"T_98546_row6_col6\" class=\"data row6 col6\" >0.3541</td>\n",
              "    </tr>\n",
              "    <tr>\n",
              "      <th id=\"T_98546_level0_row7\" class=\"row_heading level0 row7\" >7</th>\n",
              "      <td id=\"T_98546_row7_col0\" class=\"data row7 col0\" >0.9026</td>\n",
              "      <td id=\"T_98546_row7_col1\" class=\"data row7 col1\" >0.8195</td>\n",
              "      <td id=\"T_98546_row7_col2\" class=\"data row7 col2\" >0.4375</td>\n",
              "      <td id=\"T_98546_row7_col3\" class=\"data row7 col3\" >0.4118</td>\n",
              "      <td id=\"T_98546_row7_col4\" class=\"data row7 col4\" >0.4242</td>\n",
              "      <td id=\"T_98546_row7_col5\" class=\"data row7 col5\" >0.3711</td>\n",
              "      <td id=\"T_98546_row7_col6\" class=\"data row7 col6\" >0.3713</td>\n",
              "    </tr>\n",
              "    <tr>\n",
              "      <th id=\"T_98546_level0_row8\" class=\"row_heading level0 row8\" >8</th>\n",
              "      <td id=\"T_98546_row8_col0\" class=\"data row8 col0\" >0.8667</td>\n",
              "      <td id=\"T_98546_row8_col1\" class=\"data row8 col1\" >0.6969</td>\n",
              "      <td id=\"T_98546_row8_col2\" class=\"data row8 col2\" >0.1250</td>\n",
              "      <td id=\"T_98546_row8_col3\" class=\"data row8 col3\" >0.1429</td>\n",
              "      <td id=\"T_98546_row8_col4\" class=\"data row8 col4\" >0.1333</td>\n",
              "      <td id=\"T_98546_row8_col5\" class=\"data row8 col5\" >0.0615</td>\n",
              "      <td id=\"T_98546_row8_col6\" class=\"data row8 col6\" >0.0616</td>\n",
              "    </tr>\n",
              "    <tr>\n",
              "      <th id=\"T_98546_level0_row9\" class=\"row_heading level0 row9\" >9</th>\n",
              "      <td id=\"T_98546_row9_col0\" class=\"data row9 col0\" >0.8974</td>\n",
              "      <td id=\"T_98546_row9_col1\" class=\"data row9 col1\" >0.8006</td>\n",
              "      <td id=\"T_98546_row9_col2\" class=\"data row9 col2\" >0.5625</td>\n",
              "      <td id=\"T_98546_row9_col3\" class=\"data row9 col3\" >0.4091</td>\n",
              "      <td id=\"T_98546_row9_col4\" class=\"data row9 col4\" >0.4737</td>\n",
              "      <td id=\"T_98546_row9_col5\" class=\"data row9 col5\" >0.4184</td>\n",
              "      <td id=\"T_98546_row9_col6\" class=\"data row9 col6\" >0.4249</td>\n",
              "    </tr>\n",
              "    <tr>\n",
              "      <th id=\"T_98546_level0_row10\" class=\"row_heading level0 row10\" >Mean</th>\n",
              "      <td id=\"T_98546_row10_col0\" class=\"data row10 col0\" >0.8783</td>\n",
              "      <td id=\"T_98546_row10_col1\" class=\"data row10 col1\" >0.7948</td>\n",
              "      <td id=\"T_98546_row10_col2\" class=\"data row10 col2\" >0.4794</td>\n",
              "      <td id=\"T_98546_row10_col3\" class=\"data row10 col3\" >0.3356</td>\n",
              "      <td id=\"T_98546_row10_col4\" class=\"data row10 col4\" >0.3907</td>\n",
              "      <td id=\"T_98546_row10_col5\" class=\"data row10 col5\" >0.3259</td>\n",
              "      <td id=\"T_98546_row10_col6\" class=\"data row10 col6\" >0.3348</td>\n",
              "    </tr>\n",
              "    <tr>\n",
              "      <th id=\"T_98546_level0_row11\" class=\"row_heading level0 row11\" >Std</th>\n",
              "      <td id=\"T_98546_row11_col0\" class=\"data row11 col0\" >0.0180</td>\n",
              "      <td id=\"T_98546_row11_col1\" class=\"data row11 col1\" >0.0669</td>\n",
              "      <td id=\"T_98546_row11_col2\" class=\"data row11 col2\" >0.1547</td>\n",
              "      <td id=\"T_98546_row11_col3\" class=\"data row11 col3\" >0.0811</td>\n",
              "      <td id=\"T_98546_row11_col4\" class=\"data row11 col4\" >0.1022</td>\n",
              "      <td id=\"T_98546_row11_col5\" class=\"data row11 col5\" >0.1074</td>\n",
              "      <td id=\"T_98546_row11_col6\" class=\"data row11 col6\" >0.1120</td>\n",
              "    </tr>\n",
              "  </tbody>\n",
              "</table>\n"
            ]
          },
          "metadata": {}
        },
        {
          "output_type": "display_data",
          "data": {
            "text/plain": [
              "Processing:   0%|          | 0/7 [00:00<?, ?it/s]"
            ],
            "application/vnd.jupyter.widget-view+json": {
              "version_major": 2,
              "version_minor": 0,
              "model_id": "52c37b84641e4df3a55c842d95a9e54c"
            }
          },
          "metadata": {
            "application/vnd.jupyter.widget-view+json": {
              "colab": {
                "custom_widget_manager": {
                  "url": "https://ssl.gstatic.com/colaboratory-static/widgets/colab-cdn-widget-manager/b3e629b1971e1542/manager.min.js"
                }
              }
            }
          }
        },
        {
          "output_type": "stream",
          "name": "stdout",
          "text": [
            "Fitting 10 folds for each of 10 candidates, totalling 100 fits\n"
          ]
        },
        {
          "output_type": "display_data",
          "data": {
            "text/plain": [
              "<IPython.core.display.HTML object>"
            ],
            "text/html": []
          },
          "metadata": {}
        },
        {
          "output_type": "stream",
          "name": "stdout",
          "text": [
            "Original model was better than the tuned model, hence it will be returned. NOTE: The display metrics are for the tuned model (not the original one).\n"
          ]
        }
      ]
    },
    {
      "cell_type": "code",
      "source": [
        "def ploting(model, train=False):\n",
        "  plot_model(model, plot='confusion_matrix', use_train_data=train)\n",
        "  plot_model(model, plot = 'class_report', use_train_data=train)\n",
        "  plot_model(model, plot='confusion_matrix', use_train_data=train)\n",
        "  plot_model(model, plot = 'auc', use_train_data=train)\n",
        "  plot_model(model, plot = 'pr', use_train_data=train)"
      ],
      "metadata": {
        "id": "828UCro68SXT"
      },
      "execution_count": 20,
      "outputs": []
    },
    {
      "cell_type": "code",
      "source": [
        "plot_model(best_SMOTE, plot = 'class_report')\n",
        "plot_model(best_SMOTE, plot='confusion_matrix')\n",
        "plot_model(best_SMOTE, plot = 'auc')\n",
        "plot_model(best_SMOTE, plot = 'pr')"
      ],
      "metadata": {
        "colab": {
          "base_uri": "https://localhost:8080/",
          "height": 1000
        },
        "id": "HyfLCkYr6h60",
        "outputId": "215103a6-2a21-4805-93fe-480dba3c1534"
      },
      "execution_count": 21,
      "outputs": [
        {
          "output_type": "display_data",
          "data": {
            "text/plain": [
              "<IPython.core.display.HTML object>"
            ],
            "text/html": []
          },
          "metadata": {}
        },
        {
          "output_type": "display_data",
          "data": {
            "text/plain": [
              "<Figure size 800x550 with 2 Axes>"
            ],
            "image/png": "[encoded data removed]"
          },
          "metadata": {}
        },
        {
          "output_type": "display_data",
          "data": {
            "text/plain": [
              "<IPython.core.display.HTML object>"
            ],
            "text/html": []
          },
          "metadata": {}
        },
        {
          "output_type": "display_data",
          "data": {
            "text/plain": [
              "<Figure size 800x550 with 1 Axes>"
            ],
            "image/png": "[encoded data removed]"
          },
          "metadata": {}
        },
        {
          "output_type": "display_data",
          "data": {
            "text/plain": [
              "<IPython.core.display.HTML object>"
            ],
            "text/html": []
          },
          "metadata": {}
        },
        {
          "output_type": "display_data",
          "data": {
            "text/plain": [
              "<Figure size 800x550 with 1 Axes>"
            ],
            "image/png": "[encoded data removed]"
          },
          "metadata": {}
        },
        {
          "output_type": "display_data",
          "data": {
            "text/plain": [
              "<IPython.core.display.HTML object>"
            ],
            "text/html": []
          },
          "metadata": {}
        },
        {
          "output_type": "display_data",
          "data": {
            "text/plain": [
              "<Figure size 800x550 with 1 Axes>"
            ],
            "image/png": "[encoded data removed]"
          },
          "metadata": {}
        }
      ]
    },
    {
      "cell_type": "code",
      "source": [
        "# run the same metrics as the other classifier on untuned model\n",
        "# uncomment if you didn't run the previous version to save time\n",
        "# xgboost = create_model('xgboost')"
      ],
      "metadata": {
        "id": "MPYkKqkTZ8L5"
      },
      "execution_count": 22,
      "outputs": []
    },
    {
      "cell_type": "code",
      "source": [
        "preds = xgboost.predict(test.iloc[:, :-1])\n",
        "y_test = test.iloc[:, -1]"
      ],
      "metadata": {
        "id": "IwjlJNNo6sXC"
      },
      "execution_count": 23,
      "outputs": []
    },
    {
      "cell_type": "code",
      "source": [
        "from sklearn.metrics import accuracy_score\n",
        "from sklearn.metrics import confusion_matrix\n",
        "from sklearn.metrics import precision_recall_fscore_support\n",
        "from sklearn.metrics import roc_auc_score"
      ],
      "metadata": {
        "id": "d0PbMxH_crVq"
      },
      "execution_count": 24,
      "outputs": []
    },
    {
      "cell_type": "code",
      "source": [
        "# note, this isn't a completely fair comparison as we did the training on both the train and validation\n",
        "# data just to see if it would do better. The answer is yes, but still not great. "
      ],
      "metadata": {
        "id": "uU6MK_9ooSwv"
      },
      "execution_count": null,
      "outputs": []
    },
    {
      "cell_type": "code",
      "source": [
        "precision, recall, fscore, support = precision_recall_fscore_support(y_test, preds)\n",
        "xgboost_score = xgboost.score(test.iloc[:, :-1], y_test)\n",
        "roc_auc = roc_auc_score(y_test, preds)\n",
        "\n",
        "print(\"Classifier: XGBoost\")\n",
        "print(\"Class 0 Precision:  {}  |  Class 1 Precision: {}\".format(precision[0], precision[1]))\n",
        "print(\"Class 0 Recall:     {}  |  Class 1 Recall:    {}\".format(recall[0], recall[1]))\n",
        "print(\"Class 0 FScore:     {}  |  Class 1 FScore:    {}\".format(fscore[0], fscore[1]))\n",
        "print(\"Class 0 Support:    {}  |  Class 1 Support:   {}\".format(support[0], support[1]))\n",
        "print(\"XGBoost Accuracy Score: {}\".format(xgboost_score))\n",
        "print(\"XGBoost ROC/AUC Score:  {}\".format(roc_auc))\n",
        "print(confusion_matrix(y_test,preds))"
      ],
      "metadata": {
        "colab": {
          "base_uri": "https://localhost:8080/"
        },
        "id": "JRxcd6-Oc4lK",
        "outputId": "6e95b31e-2ab8-407d-c23f-fe1f8a63d064"
      },
      "execution_count": 25,
      "outputs": [
        {
          "output_type": "stream",
          "name": "stdout",
          "text": [
            "Classifier: XGBoost\n",
            "Class 0 Precision:  0.9453551912568307  |  Class 1 Precision: 0.59375\n",
            "Class 0 Recall:     0.9755639097744361  |  Class 1 Recall:    0.3877551020408163\n",
            "Class 0 FScore:     0.960222016651249  |  Class 1 FScore:    0.46913580246913583\n",
            "Class 0 Support:    532  |  Class 1 Support:   49\n",
            "XGBoost Accuracy Score: 0.9259896729776248\n",
            "XGBoost ROC/AUC Score:  0.6816595059076263\n",
            "[[519  13]\n",
            " [ 30  19]]\n"
          ]
        }
      ]
    }
  ]
}