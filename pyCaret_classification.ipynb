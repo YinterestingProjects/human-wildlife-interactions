{
  "nbformat": 4,
  "nbformat_minor": 0,
  "metadata": {
    "colab": {
      "provenance": [],
      "include_colab_link": true
    },
    "kernelspec": {
      "name": "python3",
      "display_name": "Python 3"
    },
    "language_info": {
      "name": "python"
    },
    "widgets": {
      "application/vnd.jupyter.widget-state+json": {
        "dae90a37931e4a75af1f5aa95bfe977a": {
          "model_module": "@jupyter-widgets/controls",
          "model_name": "HBoxModel",
          "model_module_version": "1.5.0",
          "state": {
            "_dom_classes": [],
            "_model_module": "@jupyter-widgets/controls",
            "_model_module_version": "1.5.0",
            "_model_name": "HBoxModel",
            "_view_count": null,
            "_view_module": "@jupyter-widgets/controls",
            "_view_module_version": "1.5.0",
            "_view_name": "HBoxView",
            "box_style": "",
            "children": [
              "IPY_MODEL_e92c4551976149508461e867cc32c532",
              "IPY_MODEL_a80e4139fb6541c894f7b20e972b13b1",
              "IPY_MODEL_8a82b1e577854170984a03dd6f811d55"
            ],
            "layout": "IPY_MODEL_2f9c76fe07b9448bbd9220c9684823fc"
          }
        },
        "e92c4551976149508461e867cc32c532": {
          "model_module": "@jupyter-widgets/controls",
          "model_name": "HTMLModel",
          "model_module_version": "1.5.0",
          "state": {
            "_dom_classes": [],
            "_model_module": "@jupyter-widgets/controls",
            "_model_module_version": "1.5.0",
            "_model_name": "HTMLModel",
            "_view_count": null,
            "_view_module": "@jupyter-widgets/controls",
            "_view_module_version": "1.5.0",
            "_view_name": "HTMLView",
            "description": "",
            "description_tooltip": null,
            "layout": "IPY_MODEL_27aa1270ca2645bba59ecc1341e6a3c5",
            "placeholder": "​",
            "style": "IPY_MODEL_afc08f239ce34296adf8cf8466229acf",
            "value": "Processing: 100%"
          }
        },
        "a80e4139fb6541c894f7b20e972b13b1": {
          "model_module": "@jupyter-widgets/controls",
          "model_name": "FloatProgressModel",
          "model_module_version": "1.5.0",
          "state": {
            "_dom_classes": [],
            "_model_module": "@jupyter-widgets/controls",
            "_model_module_version": "1.5.0",
            "_model_name": "FloatProgressModel",
            "_view_count": null,
            "_view_module": "@jupyter-widgets/controls",
            "_view_module_version": "1.5.0",
            "_view_name": "ProgressView",
            "bar_style": "",
            "description": "",
            "description_tooltip": null,
            "layout": "IPY_MODEL_77d336b598604cc1a22944f847011348",
            "max": 65,
            "min": 0,
            "orientation": "horizontal",
            "style": "IPY_MODEL_90959c91af574a399b100d3f5c773759",
            "value": 65
          }
        },
        "8a82b1e577854170984a03dd6f811d55": {
          "model_module": "@jupyter-widgets/controls",
          "model_name": "HTMLModel",
          "model_module_version": "1.5.0",
          "state": {
            "_dom_classes": [],
            "_model_module": "@jupyter-widgets/controls",
            "_model_module_version": "1.5.0",
            "_model_name": "HTMLModel",
            "_view_count": null,
            "_view_module": "@jupyter-widgets/controls",
            "_view_module_version": "1.5.0",
            "_view_name": "HTMLView",
            "description": "",
            "description_tooltip": null,
            "layout": "IPY_MODEL_74fc74a2f45846fa8678c9f323fa280c",
            "placeholder": "​",
            "style": "IPY_MODEL_b6157b42d1db4a77a1bb2e7eb4bec813",
            "value": " 65/65 [02:09&lt;00:00,  1.05s/it]"
          }
        },
        "2f9c76fe07b9448bbd9220c9684823fc": {
          "model_module": "@jupyter-widgets/base",
          "model_name": "LayoutModel",
          "model_module_version": "1.2.0",
          "state": {
            "_model_module": "@jupyter-widgets/base",
            "_model_module_version": "1.2.0",
            "_model_name": "LayoutModel",
            "_view_count": null,
            "_view_module": "@jupyter-widgets/base",
            "_view_module_version": "1.2.0",
            "_view_name": "LayoutView",
            "align_content": null,
            "align_items": null,
            "align_self": null,
            "border": null,
            "bottom": null,
            "display": null,
            "flex": null,
            "flex_flow": null,
            "grid_area": null,
            "grid_auto_columns": null,
            "grid_auto_flow": null,
            "grid_auto_rows": null,
            "grid_column": null,
            "grid_gap": null,
            "grid_row": null,
            "grid_template_areas": null,
            "grid_template_columns": null,
            "grid_template_rows": null,
            "height": null,
            "justify_content": null,
            "justify_items": null,
            "left": null,
            "margin": null,
            "max_height": null,
            "max_width": null,
            "min_height": null,
            "min_width": null,
            "object_fit": null,
            "object_position": null,
            "order": null,
            "overflow": null,
            "overflow_x": null,
            "overflow_y": null,
            "padding": null,
            "right": null,
            "top": null,
            "visibility": "hidden",
            "width": null
          }
        },
        "27aa1270ca2645bba59ecc1341e6a3c5": {
          "model_module": "@jupyter-widgets/base",
          "model_name": "LayoutModel",
          "model_module_version": "1.2.0",
          "state": {
            "_model_module": "@jupyter-widgets/base",
            "_model_module_version": "1.2.0",
            "_model_name": "LayoutModel",
            "_view_count": null,
            "_view_module": "@jupyter-widgets/base",
            "_view_module_version": "1.2.0",
            "_view_name": "LayoutView",
            "align_content": null,
            "align_items": null,
            "align_self": null,
            "border": null,
            "bottom": null,
            "display": null,
            "flex": null,
            "flex_flow": null,
            "grid_area": null,
            "grid_auto_columns": null,
            "grid_auto_flow": null,
            "grid_auto_rows": null,
            "grid_column": null,
            "grid_gap": null,
            "grid_row": null,
            "grid_template_areas": null,
            "grid_template_columns": null,
            "grid_template_rows": null,
            "height": null,
            "justify_content": null,
            "justify_items": null,
            "left": null,
            "margin": null,
            "max_height": null,
            "max_width": null,
            "min_height": null,
            "min_width": null,
            "object_fit": null,
            "object_position": null,
            "order": null,
            "overflow": null,
            "overflow_x": null,
            "overflow_y": null,
            "padding": null,
            "right": null,
            "top": null,
            "visibility": null,
            "width": null
          }
        },
        "afc08f239ce34296adf8cf8466229acf": {
          "model_module": "@jupyter-widgets/controls",
          "model_name": "DescriptionStyleModel",
          "model_module_version": "1.5.0",
          "state": {
            "_model_module": "@jupyter-widgets/controls",
            "_model_module_version": "1.5.0",
            "_model_name": "DescriptionStyleModel",
            "_view_count": null,
            "_view_module": "@jupyter-widgets/base",
            "_view_module_version": "1.2.0",
            "_view_name": "StyleView",
            "description_width": ""
          }
        },
        "77d336b598604cc1a22944f847011348": {
          "model_module": "@jupyter-widgets/base",
          "model_name": "LayoutModel",
          "model_module_version": "1.2.0",
          "state": {
            "_model_module": "@jupyter-widgets/base",
            "_model_module_version": "1.2.0",
            "_model_name": "LayoutModel",
            "_view_count": null,
            "_view_module": "@jupyter-widgets/base",
            "_view_module_version": "1.2.0",
            "_view_name": "LayoutView",
            "align_content": null,
            "align_items": null,
            "align_self": null,
            "border": null,
            "bottom": null,
            "display": null,
            "flex": null,
            "flex_flow": null,
            "grid_area": null,
            "grid_auto_columns": null,
            "grid_auto_flow": null,
            "grid_auto_rows": null,
            "grid_column": null,
            "grid_gap": null,
            "grid_row": null,
            "grid_template_areas": null,
            "grid_template_columns": null,
            "grid_template_rows": null,
            "height": null,
            "justify_content": null,
            "justify_items": null,
            "left": null,
            "margin": null,
            "max_height": null,
            "max_width": null,
            "min_height": null,
            "min_width": null,
            "object_fit": null,
            "object_position": null,
            "order": null,
            "overflow": null,
            "overflow_x": null,
            "overflow_y": null,
            "padding": null,
            "right": null,
            "top": null,
            "visibility": null,
            "width": null
          }
        },
        "90959c91af574a399b100d3f5c773759": {
          "model_module": "@jupyter-widgets/controls",
          "model_name": "ProgressStyleModel",
          "model_module_version": "1.5.0",
          "state": {
            "_model_module": "@jupyter-widgets/controls",
            "_model_module_version": "1.5.0",
            "_model_name": "ProgressStyleModel",
            "_view_count": null,
            "_view_module": "@jupyter-widgets/base",
            "_view_module_version": "1.2.0",
            "_view_name": "StyleView",
            "bar_color": null,
            "description_width": ""
          }
        },
        "74fc74a2f45846fa8678c9f323fa280c": {
          "model_module": "@jupyter-widgets/base",
          "model_name": "LayoutModel",
          "model_module_version": "1.2.0",
          "state": {
            "_model_module": "@jupyter-widgets/base",
            "_model_module_version": "1.2.0",
            "_model_name": "LayoutModel",
            "_view_count": null,
            "_view_module": "@jupyter-widgets/base",
            "_view_module_version": "1.2.0",
            "_view_name": "LayoutView",
            "align_content": null,
            "align_items": null,
            "align_self": null,
            "border": null,
            "bottom": null,
            "display": null,
            "flex": null,
            "flex_flow": null,
            "grid_area": null,
            "grid_auto_columns": null,
            "grid_auto_flow": null,
            "grid_auto_rows": null,
            "grid_column": null,
            "grid_gap": null,
            "grid_row": null,
            "grid_template_areas": null,
            "grid_template_columns": null,
            "grid_template_rows": null,
            "height": null,
            "justify_content": null,
            "justify_items": null,
            "left": null,
            "margin": null,
            "max_height": null,
            "max_width": null,
            "min_height": null,
            "min_width": null,
            "object_fit": null,
            "object_position": null,
            "order": null,
            "overflow": null,
            "overflow_x": null,
            "overflow_y": null,
            "padding": null,
            "right": null,
            "top": null,
            "visibility": null,
            "width": null
          }
        },
        "b6157b42d1db4a77a1bb2e7eb4bec813": {
          "model_module": "@jupyter-widgets/controls",
          "model_name": "DescriptionStyleModel",
          "model_module_version": "1.5.0",
          "state": {
            "_model_module": "@jupyter-widgets/controls",
            "_model_module_version": "1.5.0",
            "_model_name": "DescriptionStyleModel",
            "_view_count": null,
            "_view_module": "@jupyter-widgets/base",
            "_view_module_version": "1.2.0",
            "_view_name": "StyleView",
            "description_width": ""
          }
        },
        "ad76fe93a26341319cecff50e70cf7e2": {
          "model_module": "@jupyter-widgets/controls",
          "model_name": "HBoxModel",
          "model_module_version": "1.5.0",
          "state": {
            "_dom_classes": [],
            "_model_module": "@jupyter-widgets/controls",
            "_model_module_version": "1.5.0",
            "_model_name": "HBoxModel",
            "_view_count": null,
            "_view_module": "@jupyter-widgets/controls",
            "_view_module_version": "1.5.0",
            "_view_name": "HBoxView",
            "box_style": "",
            "children": [
              "IPY_MODEL_853d557fe8544641b415f5d4352ed385",
              "IPY_MODEL_61502b75234246cca6095cce034f7e22",
              "IPY_MODEL_1720066798da4f078bc5258510c83a92"
            ],
            "layout": "IPY_MODEL_8dc08b3440e946869cd8236b69b32b03"
          }
        },
        "853d557fe8544641b415f5d4352ed385": {
          "model_module": "@jupyter-widgets/controls",
          "model_name": "HTMLModel",
          "model_module_version": "1.5.0",
          "state": {
            "_dom_classes": [],
            "_model_module": "@jupyter-widgets/controls",
            "_model_module_version": "1.5.0",
            "_model_name": "HTMLModel",
            "_view_count": null,
            "_view_module": "@jupyter-widgets/controls",
            "_view_module_version": "1.5.0",
            "_view_name": "HTMLView",
            "description": "",
            "description_tooltip": null,
            "layout": "IPY_MODEL_be8e6c269f5149a88c22cd154c2a3be3",
            "placeholder": "​",
            "style": "IPY_MODEL_7f5465c9a6294f6e9cf9e6d398dc0137",
            "value": "Processing: 100%"
          }
        },
        "61502b75234246cca6095cce034f7e22": {
          "model_module": "@jupyter-widgets/controls",
          "model_name": "FloatProgressModel",
          "model_module_version": "1.5.0",
          "state": {
            "_dom_classes": [],
            "_model_module": "@jupyter-widgets/controls",
            "_model_module_version": "1.5.0",
            "_model_name": "FloatProgressModel",
            "_view_count": null,
            "_view_module": "@jupyter-widgets/controls",
            "_view_module_version": "1.5.0",
            "_view_name": "ProgressView",
            "bar_style": "",
            "description": "",
            "description_tooltip": null,
            "layout": "IPY_MODEL_c778e665290b46da9260bd331f5431d3",
            "max": 4,
            "min": 0,
            "orientation": "horizontal",
            "style": "IPY_MODEL_ae38bd122f644a058c081aa9c50d146f",
            "value": 4
          }
        },
        "1720066798da4f078bc5258510c83a92": {
          "model_module": "@jupyter-widgets/controls",
          "model_name": "HTMLModel",
          "model_module_version": "1.5.0",
          "state": {
            "_dom_classes": [],
            "_model_module": "@jupyter-widgets/controls",
            "_model_module_version": "1.5.0",
            "_model_name": "HTMLModel",
            "_view_count": null,
            "_view_module": "@jupyter-widgets/controls",
            "_view_module_version": "1.5.0",
            "_view_name": "HTMLView",
            "description": "",
            "description_tooltip": null,
            "layout": "IPY_MODEL_ee4ea5375ee74a0eb90a3de2b4d4f0c1",
            "placeholder": "​",
            "style": "IPY_MODEL_f88bf1b66d314f9a996af1906e194b84",
            "value": " 4/4 [01:49&lt;00:00, 33.98s/it]"
          }
        },
        "8dc08b3440e946869cd8236b69b32b03": {
          "model_module": "@jupyter-widgets/base",
          "model_name": "LayoutModel",
          "model_module_version": "1.2.0",
          "state": {
            "_model_module": "@jupyter-widgets/base",
            "_model_module_version": "1.2.0",
            "_model_name": "LayoutModel",
            "_view_count": null,
            "_view_module": "@jupyter-widgets/base",
            "_view_module_version": "1.2.0",
            "_view_name": "LayoutView",
            "align_content": null,
            "align_items": null,
            "align_self": null,
            "border": null,
            "bottom": null,
            "display": null,
            "flex": null,
            "flex_flow": null,
            "grid_area": null,
            "grid_auto_columns": null,
            "grid_auto_flow": null,
            "grid_auto_rows": null,
            "grid_column": null,
            "grid_gap": null,
            "grid_row": null,
            "grid_template_areas": null,
            "grid_template_columns": null,
            "grid_template_rows": null,
            "height": null,
            "justify_content": null,
            "justify_items": null,
            "left": null,
            "margin": null,
            "max_height": null,
            "max_width": null,
            "min_height": null,
            "min_width": null,
            "object_fit": null,
            "object_position": null,
            "order": null,
            "overflow": null,
            "overflow_x": null,
            "overflow_y": null,
            "padding": null,
            "right": null,
            "top": null,
            "visibility": "hidden",
            "width": null
          }
        },
        "be8e6c269f5149a88c22cd154c2a3be3": {
          "model_module": "@jupyter-widgets/base",
          "model_name": "LayoutModel",
          "model_module_version": "1.2.0",
          "state": {
            "_model_module": "@jupyter-widgets/base",
            "_model_module_version": "1.2.0",
            "_model_name": "LayoutModel",
            "_view_count": null,
            "_view_module": "@jupyter-widgets/base",
            "_view_module_version": "1.2.0",
            "_view_name": "LayoutView",
            "align_content": null,
            "align_items": null,
            "align_self": null,
            "border": null,
            "bottom": null,
            "display": null,
            "flex": null,
            "flex_flow": null,
            "grid_area": null,
            "grid_auto_columns": null,
            "grid_auto_flow": null,
            "grid_auto_rows": null,
            "grid_column": null,
            "grid_gap": null,
            "grid_row": null,
            "grid_template_areas": null,
            "grid_template_columns": null,
            "grid_template_rows": null,
            "height": null,
            "justify_content": null,
            "justify_items": null,
            "left": null,
            "margin": null,
            "max_height": null,
            "max_width": null,
            "min_height": null,
            "min_width": null,
            "object_fit": null,
            "object_position": null,
            "order": null,
            "overflow": null,
            "overflow_x": null,
            "overflow_y": null,
            "padding": null,
            "right": null,
            "top": null,
            "visibility": null,
            "width": null
          }
        },
        "7f5465c9a6294f6e9cf9e6d398dc0137": {
          "model_module": "@jupyter-widgets/controls",
          "model_name": "DescriptionStyleModel",
          "model_module_version": "1.5.0",
          "state": {
            "_model_module": "@jupyter-widgets/controls",
            "_model_module_version": "1.5.0",
            "_model_name": "DescriptionStyleModel",
            "_view_count": null,
            "_view_module": "@jupyter-widgets/base",
            "_view_module_version": "1.2.0",
            "_view_name": "StyleView",
            "description_width": ""
          }
        },
        "c778e665290b46da9260bd331f5431d3": {
          "model_module": "@jupyter-widgets/base",
          "model_name": "LayoutModel",
          "model_module_version": "1.2.0",
          "state": {
            "_model_module": "@jupyter-widgets/base",
            "_model_module_version": "1.2.0",
            "_model_name": "LayoutModel",
            "_view_count": null,
            "_view_module": "@jupyter-widgets/base",
            "_view_module_version": "1.2.0",
            "_view_name": "LayoutView",
            "align_content": null,
            "align_items": null,
            "align_self": null,
            "border": null,
            "bottom": null,
            "display": null,
            "flex": null,
            "flex_flow": null,
            "grid_area": null,
            "grid_auto_columns": null,
            "grid_auto_flow": null,
            "grid_auto_rows": null,
            "grid_column": null,
            "grid_gap": null,
            "grid_row": null,
            "grid_template_areas": null,
            "grid_template_columns": null,
            "grid_template_rows": null,
            "height": null,
            "justify_content": null,
            "justify_items": null,
            "left": null,
            "margin": null,
            "max_height": null,
            "max_width": null,
            "min_height": null,
            "min_width": null,
            "object_fit": null,
            "object_position": null,
            "order": null,
            "overflow": null,
            "overflow_x": null,
            "overflow_y": null,
            "padding": null,
            "right": null,
            "top": null,
            "visibility": null,
            "width": null
          }
        },
        "ae38bd122f644a058c081aa9c50d146f": {
          "model_module": "@jupyter-widgets/controls",
          "model_name": "ProgressStyleModel",
          "model_module_version": "1.5.0",
          "state": {
            "_model_module": "@jupyter-widgets/controls",
            "_model_module_version": "1.5.0",
            "_model_name": "ProgressStyleModel",
            "_view_count": null,
            "_view_module": "@jupyter-widgets/base",
            "_view_module_version": "1.2.0",
            "_view_name": "StyleView",
            "bar_color": null,
            "description_width": ""
          }
        },
        "ee4ea5375ee74a0eb90a3de2b4d4f0c1": {
          "model_module": "@jupyter-widgets/base",
          "model_name": "LayoutModel",
          "model_module_version": "1.2.0",
          "state": {
            "_model_module": "@jupyter-widgets/base",
            "_model_module_version": "1.2.0",
            "_model_name": "LayoutModel",
            "_view_count": null,
            "_view_module": "@jupyter-widgets/base",
            "_view_module_version": "1.2.0",
            "_view_name": "LayoutView",
            "align_content": null,
            "align_items": null,
            "align_self": null,
            "border": null,
            "bottom": null,
            "display": null,
            "flex": null,
            "flex_flow": null,
            "grid_area": null,
            "grid_auto_columns": null,
            "grid_auto_flow": null,
            "grid_auto_rows": null,
            "grid_column": null,
            "grid_gap": null,
            "grid_row": null,
            "grid_template_areas": null,
            "grid_template_columns": null,
            "grid_template_rows": null,
            "height": null,
            "justify_content": null,
            "justify_items": null,
            "left": null,
            "margin": null,
            "max_height": null,
            "max_width": null,
            "min_height": null,
            "min_width": null,
            "object_fit": null,
            "object_position": null,
            "order": null,
            "overflow": null,
            "overflow_x": null,
            "overflow_y": null,
            "padding": null,
            "right": null,
            "top": null,
            "visibility": null,
            "width": null
          }
        },
        "f88bf1b66d314f9a996af1906e194b84": {
          "model_module": "@jupyter-widgets/controls",
          "model_name": "DescriptionStyleModel",
          "model_module_version": "1.5.0",
          "state": {
            "_model_module": "@jupyter-widgets/controls",
            "_model_module_version": "1.5.0",
            "_model_name": "DescriptionStyleModel",
            "_view_count": null,
            "_view_module": "@jupyter-widgets/base",
            "_view_module_version": "1.2.0",
            "_view_name": "StyleView",
            "description_width": ""
          }
        },
        "ab61b2df2cd945f3ad6d32246834d229": {
          "model_module": "@jupyter-widgets/base",
          "model_name": "LayoutModel",
          "model_module_version": "1.2.0",
          "state": {
            "_model_module": "@jupyter-widgets/base",
            "_model_module_version": "1.2.0",
            "_model_name": "LayoutModel",
            "_view_count": null,
            "_view_module": "@jupyter-widgets/base",
            "_view_module_version": "1.2.0",
            "_view_name": "LayoutView",
            "align_content": null,
            "align_items": null,
            "align_self": null,
            "border": null,
            "bottom": null,
            "display": null,
            "flex": null,
            "flex_flow": null,
            "grid_area": null,
            "grid_auto_columns": null,
            "grid_auto_flow": null,
            "grid_auto_rows": null,
            "grid_column": null,
            "grid_gap": null,
            "grid_row": null,
            "grid_template_areas": null,
            "grid_template_columns": null,
            "grid_template_rows": null,
            "height": null,
            "justify_content": null,
            "justify_items": null,
            "left": null,
            "margin": null,
            "max_height": null,
            "max_width": null,
            "min_height": null,
            "min_width": null,
            "object_fit": null,
            "object_position": null,
            "order": null,
            "overflow": null,
            "overflow_x": null,
            "overflow_y": null,
            "padding": null,
            "right": null,
            "top": null,
            "visibility": null,
            "width": null
          }
        },
        "3ee022dbe71f437fafcb4769b908f10b": {
          "model_module": "@jupyter-widgets/controls",
          "model_name": "ProgressStyleModel",
          "model_module_version": "1.5.0",
          "state": {
            "_model_module": "@jupyter-widgets/controls",
            "_model_module_version": "1.5.0",
            "_model_name": "ProgressStyleModel",
            "_view_count": null,
            "_view_module": "@jupyter-widgets/base",
            "_view_module_version": "1.2.0",
            "_view_name": "StyleView",
            "bar_color": null,
            "description_width": ""
          }
        },
        "1fe5af88e08047299f190b3e9ef49b2e": {
          "model_module": "@jupyter-widgets/base",
          "model_name": "LayoutModel",
          "model_module_version": "1.2.0",
          "state": {
            "_model_module": "@jupyter-widgets/base",
            "_model_module_version": "1.2.0",
            "_model_name": "LayoutModel",
            "_view_count": null,
            "_view_module": "@jupyter-widgets/base",
            "_view_module_version": "1.2.0",
            "_view_name": "LayoutView",
            "align_content": null,
            "align_items": null,
            "align_self": null,
            "border": null,
            "bottom": null,
            "display": null,
            "flex": null,
            "flex_flow": null,
            "grid_area": null,
            "grid_auto_columns": null,
            "grid_auto_flow": null,
            "grid_auto_rows": null,
            "grid_column": null,
            "grid_gap": null,
            "grid_row": null,
            "grid_template_areas": null,
            "grid_template_columns": null,
            "grid_template_rows": null,
            "height": null,
            "justify_content": null,
            "justify_items": null,
            "left": null,
            "margin": null,
            "max_height": null,
            "max_width": null,
            "min_height": null,
            "min_width": null,
            "object_fit": null,
            "object_position": null,
            "order": null,
            "overflow": null,
            "overflow_x": null,
            "overflow_y": null,
            "padding": null,
            "right": null,
            "top": null,
            "visibility": null,
            "width": null
          }
        },
        "5522c767896e46bdb80d76d0cbb63c7c": {
          "model_module": "@jupyter-widgets/controls",
          "model_name": "DescriptionStyleModel",
          "model_module_version": "1.5.0",
          "state": {
            "_model_module": "@jupyter-widgets/controls",
            "_model_module_version": "1.5.0",
            "_model_name": "DescriptionStyleModel",
            "_view_count": null,
            "_view_module": "@jupyter-widgets/base",
            "_view_module_version": "1.2.0",
            "_view_name": "StyleView",
            "description_width": ""
          }
        },
        "68c926b349494f19a18c04fbe8836f86": {
          "model_module": "@jupyter-widgets/base",
          "model_name": "LayoutModel",
          "model_module_version": "1.2.0",
          "state": {
            "_model_module": "@jupyter-widgets/base",
            "_model_module_version": "1.2.0",
            "_model_name": "LayoutModel",
            "_view_count": null,
            "_view_module": "@jupyter-widgets/base",
            "_view_module_version": "1.2.0",
            "_view_name": "LayoutView",
            "align_content": null,
            "align_items": null,
            "align_self": null,
            "border": null,
            "bottom": null,
            "display": null,
            "flex": null,
            "flex_flow": null,
            "grid_area": null,
            "grid_auto_columns": null,
            "grid_auto_flow": null,
            "grid_auto_rows": null,
            "grid_column": null,
            "grid_gap": null,
            "grid_row": null,
            "grid_template_areas": null,
            "grid_template_columns": null,
            "grid_template_rows": null,
            "height": null,
            "justify_content": null,
            "justify_items": null,
            "left": null,
            "margin": null,
            "max_height": null,
            "max_width": null,
            "min_height": null,
            "min_width": null,
            "object_fit": null,
            "object_position": null,
            "order": null,
            "overflow": null,
            "overflow_x": null,
            "overflow_y": null,
            "padding": null,
            "right": null,
            "top": null,
            "visibility": null,
            "width": null
          }
        },
        "4cfe773eb9ca467e86e2b5c502cf6ef5": {
          "model_module": "@jupyter-widgets/controls",
          "model_name": "DescriptionStyleModel",
          "model_module_version": "1.5.0",
          "state": {
            "_model_module": "@jupyter-widgets/controls",
            "_model_module_version": "1.5.0",
            "_model_name": "DescriptionStyleModel",
            "_view_count": null,
            "_view_module": "@jupyter-widgets/base",
            "_view_module_version": "1.2.0",
            "_view_name": "StyleView",
            "description_width": ""
          }
        },
        "db30c7bd139c4a29b373a71d9043dae6": {
          "model_module": "@jupyter-widgets/controls",
          "model_name": "HTMLModel",
          "model_module_version": "1.5.0",
          "state": {
            "_dom_classes": [],
            "_model_module": "@jupyter-widgets/controls",
            "_model_module_version": "1.5.0",
            "_model_name": "HTMLModel",
            "_view_count": null,
            "_view_module": "@jupyter-widgets/controls",
            "_view_module_version": "1.5.0",
            "_view_name": "HTMLView",
            "description": "",
            "description_tooltip": null,
            "layout": "IPY_MODEL_1fe5af88e08047299f190b3e9ef49b2e",
            "placeholder": "​",
            "style": "IPY_MODEL_5522c767896e46bdb80d76d0cbb63c7c",
            "value": "Processing: 100%"
          }
        },
        "b1d5758174e2467498dfabd470aaf45b": {
          "model_module": "@jupyter-widgets/controls",
          "model_name": "FloatProgressModel",
          "model_module_version": "1.5.0",
          "state": {
            "_dom_classes": [],
            "_model_module": "@jupyter-widgets/controls",
            "_model_module_version": "1.5.0",
            "_model_name": "FloatProgressModel",
            "_view_count": null,
            "_view_module": "@jupyter-widgets/controls",
            "_view_module_version": "1.5.0",
            "_view_name": "ProgressView",
            "bar_style": "",
            "description": "",
            "description_tooltip": null,
            "layout": "IPY_MODEL_ab61b2df2cd945f3ad6d32246834d229",
            "max": 7,
            "min": 0,
            "orientation": "horizontal",
            "style": "IPY_MODEL_3ee022dbe71f437fafcb4769b908f10b",
            "value": 7
          }
        },
        "9cae9c7aaf404afdb1f9bf349ae56338": {
          "model_module": "@jupyter-widgets/controls",
          "model_name": "HTMLModel",
          "model_module_version": "1.5.0",
          "state": {
            "_dom_classes": [],
            "_model_module": "@jupyter-widgets/controls",
            "_model_module_version": "1.5.0",
            "_model_name": "HTMLModel",
            "_view_count": null,
            "_view_module": "@jupyter-widgets/controls",
            "_view_module_version": "1.5.0",
            "_view_name": "HTMLView",
            "description": "",
            "description_tooltip": null,
            "layout": "IPY_MODEL_68c926b349494f19a18c04fbe8836f86",
            "placeholder": "​",
            "style": "IPY_MODEL_4cfe773eb9ca467e86e2b5c502cf6ef5",
            "value": " 7/7 [1:39:12&lt;00:00, 528.43s/it]"
          }
        },
        "c5ca2ad55451400b9cbb8db0491fc125": {
          "model_module": "@jupyter-widgets/base",
          "model_name": "LayoutModel",
          "model_module_version": "1.2.0",
          "state": {
            "_model_module": "@jupyter-widgets/base",
            "_model_module_version": "1.2.0",
            "_model_name": "LayoutModel",
            "_view_count": null,
            "_view_module": "@jupyter-widgets/base",
            "_view_module_version": "1.2.0",
            "_view_name": "LayoutView",
            "align_content": null,
            "align_items": null,
            "align_self": null,
            "border": null,
            "bottom": null,
            "display": null,
            "flex": null,
            "flex_flow": null,
            "grid_area": null,
            "grid_auto_columns": null,
            "grid_auto_flow": null,
            "grid_auto_rows": null,
            "grid_column": null,
            "grid_gap": null,
            "grid_row": null,
            "grid_template_areas": null,
            "grid_template_columns": null,
            "grid_template_rows": null,
            "height": null,
            "justify_content": null,
            "justify_items": null,
            "left": null,
            "margin": null,
            "max_height": null,
            "max_width": null,
            "min_height": null,
            "min_width": null,
            "object_fit": null,
            "object_position": null,
            "order": null,
            "overflow": null,
            "overflow_x": null,
            "overflow_y": null,
            "padding": null,
            "right": null,
            "top": null,
            "visibility": "hidden",
            "width": null
          }
        },
        "0ec94c4cb74e49538aa41bbe29dad371": {
          "model_module": "@jupyter-widgets/controls",
          "model_name": "HBoxModel",
          "model_module_version": "1.5.0",
          "state": {
            "_dom_classes": [],
            "_model_module": "@jupyter-widgets/controls",
            "_model_module_version": "1.5.0",
            "_model_name": "HBoxModel",
            "_view_count": null,
            "_view_module": "@jupyter-widgets/controls",
            "_view_module_version": "1.5.0",
            "_view_name": "HBoxView",
            "box_style": "",
            "children": [
              "IPY_MODEL_db30c7bd139c4a29b373a71d9043dae6",
              "IPY_MODEL_b1d5758174e2467498dfabd470aaf45b",
              "IPY_MODEL_9cae9c7aaf404afdb1f9bf349ae56338"
            ],
            "layout": "IPY_MODEL_c5ca2ad55451400b9cbb8db0491fc125"
          }
        },
        "60103adc8e45462fbd1fbab80f767b47": {
          "model_module": "@jupyter-widgets/controls",
          "model_name": "HBoxModel",
          "model_module_version": "1.5.0",
          "state": {
            "_dom_classes": [],
            "_model_module": "@jupyter-widgets/controls",
            "_model_module_version": "1.5.0",
            "_model_name": "HBoxModel",
            "_view_count": null,
            "_view_module": "@jupyter-widgets/controls",
            "_view_module_version": "1.5.0",
            "_view_name": "HBoxView",
            "box_style": "",
            "children": [
              "IPY_MODEL_7ad8e227789f4dfeb34de3bb957835d8",
              "IPY_MODEL_90ea87f7ef1d4c449fdc1dbde51fcb47",
              "IPY_MODEL_a53ad06bb84d4137952dbce4a43efa6e"
            ],
            "layout": "IPY_MODEL_758be06993e447e0802f4a7a249d14de"
          }
        },
        "7ad8e227789f4dfeb34de3bb957835d8": {
          "model_module": "@jupyter-widgets/controls",
          "model_name": "HTMLModel",
          "model_module_version": "1.5.0",
          "state": {
            "_dom_classes": [],
            "_model_module": "@jupyter-widgets/controls",
            "_model_module_version": "1.5.0",
            "_model_name": "HTMLModel",
            "_view_count": null,
            "_view_module": "@jupyter-widgets/controls",
            "_view_module_version": "1.5.0",
            "_view_name": "HTMLView",
            "description": "",
            "description_tooltip": null,
            "layout": "IPY_MODEL_3934bf3c17a14139a39f0acb20612de7",
            "placeholder": "​",
            "style": "IPY_MODEL_57f06f6d1d3443f3b690e954b1d3ae23",
            "value": "Processing: 100%"
          }
        },
        "90ea87f7ef1d4c449fdc1dbde51fcb47": {
          "model_module": "@jupyter-widgets/controls",
          "model_name": "FloatProgressModel",
          "model_module_version": "1.5.0",
          "state": {
            "_dom_classes": [],
            "_model_module": "@jupyter-widgets/controls",
            "_model_module_version": "1.5.0",
            "_model_name": "FloatProgressModel",
            "_view_count": null,
            "_view_module": "@jupyter-widgets/controls",
            "_view_module_version": "1.5.0",
            "_view_name": "ProgressView",
            "bar_style": "",
            "description": "",
            "description_tooltip": null,
            "layout": "IPY_MODEL_f0facf3cb9814d9d8c1a15f35de07e45",
            "max": 4,
            "min": 0,
            "orientation": "horizontal",
            "style": "IPY_MODEL_711ee1fb529543d5a9b303a0ff92f88b",
            "value": 4
          }
        },
        "a53ad06bb84d4137952dbce4a43efa6e": {
          "model_module": "@jupyter-widgets/controls",
          "model_name": "HTMLModel",
          "model_module_version": "1.5.0",
          "state": {
            "_dom_classes": [],
            "_model_module": "@jupyter-widgets/controls",
            "_model_module_version": "1.5.0",
            "_model_name": "HTMLModel",
            "_view_count": null,
            "_view_module": "@jupyter-widgets/controls",
            "_view_module_version": "1.5.0",
            "_view_name": "HTMLView",
            "description": "",
            "description_tooltip": null,
            "layout": "IPY_MODEL_92bc4562f0364112a4d9661c635c65bd",
            "placeholder": "​",
            "style": "IPY_MODEL_c4e2ddd2f4224a07b11012e073c47d90",
            "value": " 4/4 [04:25&lt;00:00, 62.55s/it]"
          }
        },
        "758be06993e447e0802f4a7a249d14de": {
          "model_module": "@jupyter-widgets/base",
          "model_name": "LayoutModel",
          "model_module_version": "1.2.0",
          "state": {
            "_model_module": "@jupyter-widgets/base",
            "_model_module_version": "1.2.0",
            "_model_name": "LayoutModel",
            "_view_count": null,
            "_view_module": "@jupyter-widgets/base",
            "_view_module_version": "1.2.0",
            "_view_name": "LayoutView",
            "align_content": null,
            "align_items": null,
            "align_self": null,
            "border": null,
            "bottom": null,
            "display": null,
            "flex": null,
            "flex_flow": null,
            "grid_area": null,
            "grid_auto_columns": null,
            "grid_auto_flow": null,
            "grid_auto_rows": null,
            "grid_column": null,
            "grid_gap": null,
            "grid_row": null,
            "grid_template_areas": null,
            "grid_template_columns": null,
            "grid_template_rows": null,
            "height": null,
            "justify_content": null,
            "justify_items": null,
            "left": null,
            "margin": null,
            "max_height": null,
            "max_width": null,
            "min_height": null,
            "min_width": null,
            "object_fit": null,
            "object_position": null,
            "order": null,
            "overflow": null,
            "overflow_x": null,
            "overflow_y": null,
            "padding": null,
            "right": null,
            "top": null,
            "visibility": "hidden",
            "width": null
          }
        },
        "3934bf3c17a14139a39f0acb20612de7": {
          "model_module": "@jupyter-widgets/base",
          "model_name": "LayoutModel",
          "model_module_version": "1.2.0",
          "state": {
            "_model_module": "@jupyter-widgets/base",
            "_model_module_version": "1.2.0",
            "_model_name": "LayoutModel",
            "_view_count": null,
            "_view_module": "@jupyter-widgets/base",
            "_view_module_version": "1.2.0",
            "_view_name": "LayoutView",
            "align_content": null,
            "align_items": null,
            "align_self": null,
            "border": null,
            "bottom": null,
            "display": null,
            "flex": null,
            "flex_flow": null,
            "grid_area": null,
            "grid_auto_columns": null,
            "grid_auto_flow": null,
            "grid_auto_rows": null,
            "grid_column": null,
            "grid_gap": null,
            "grid_row": null,
            "grid_template_areas": null,
            "grid_template_columns": null,
            "grid_template_rows": null,
            "height": null,
            "justify_content": null,
            "justify_items": null,
            "left": null,
            "margin": null,
            "max_height": null,
            "max_width": null,
            "min_height": null,
            "min_width": null,
            "object_fit": null,
            "object_position": null,
            "order": null,
            "overflow": null,
            "overflow_x": null,
            "overflow_y": null,
            "padding": null,
            "right": null,
            "top": null,
            "visibility": null,
            "width": null
          }
        },
        "57f06f6d1d3443f3b690e954b1d3ae23": {
          "model_module": "@jupyter-widgets/controls",
          "model_name": "DescriptionStyleModel",
          "model_module_version": "1.5.0",
          "state": {
            "_model_module": "@jupyter-widgets/controls",
            "_model_module_version": "1.5.0",
            "_model_name": "DescriptionStyleModel",
            "_view_count": null,
            "_view_module": "@jupyter-widgets/base",
            "_view_module_version": "1.2.0",
            "_view_name": "StyleView",
            "description_width": ""
          }
        },
        "f0facf3cb9814d9d8c1a15f35de07e45": {
          "model_module": "@jupyter-widgets/base",
          "model_name": "LayoutModel",
          "model_module_version": "1.2.0",
          "state": {
            "_model_module": "@jupyter-widgets/base",
            "_model_module_version": "1.2.0",
            "_model_name": "LayoutModel",
            "_view_count": null,
            "_view_module": "@jupyter-widgets/base",
            "_view_module_version": "1.2.0",
            "_view_name": "LayoutView",
            "align_content": null,
            "align_items": null,
            "align_self": null,
            "border": null,
            "bottom": null,
            "display": null,
            "flex": null,
            "flex_flow": null,
            "grid_area": null,
            "grid_auto_columns": null,
            "grid_auto_flow": null,
            "grid_auto_rows": null,
            "grid_column": null,
            "grid_gap": null,
            "grid_row": null,
            "grid_template_areas": null,
            "grid_template_columns": null,
            "grid_template_rows": null,
            "height": null,
            "justify_content": null,
            "justify_items": null,
            "left": null,
            "margin": null,
            "max_height": null,
            "max_width": null,
            "min_height": null,
            "min_width": null,
            "object_fit": null,
            "object_position": null,
            "order": null,
            "overflow": null,
            "overflow_x": null,
            "overflow_y": null,
            "padding": null,
            "right": null,
            "top": null,
            "visibility": null,
            "width": null
          }
        },
        "711ee1fb529543d5a9b303a0ff92f88b": {
          "model_module": "@jupyter-widgets/controls",
          "model_name": "ProgressStyleModel",
          "model_module_version": "1.5.0",
          "state": {
            "_model_module": "@jupyter-widgets/controls",
            "_model_module_version": "1.5.0",
            "_model_name": "ProgressStyleModel",
            "_view_count": null,
            "_view_module": "@jupyter-widgets/base",
            "_view_module_version": "1.2.0",
            "_view_name": "StyleView",
            "bar_color": null,
            "description_width": ""
          }
        },
        "92bc4562f0364112a4d9661c635c65bd": {
          "model_module": "@jupyter-widgets/base",
          "model_name": "LayoutModel",
          "model_module_version": "1.2.0",
          "state": {
            "_model_module": "@jupyter-widgets/base",
            "_model_module_version": "1.2.0",
            "_model_name": "LayoutModel",
            "_view_count": null,
            "_view_module": "@jupyter-widgets/base",
            "_view_module_version": "1.2.0",
            "_view_name": "LayoutView",
            "align_content": null,
            "align_items": null,
            "align_self": null,
            "border": null,
            "bottom": null,
            "display": null,
            "flex": null,
            "flex_flow": null,
            "grid_area": null,
            "grid_auto_columns": null,
            "grid_auto_flow": null,
            "grid_auto_rows": null,
            "grid_column": null,
            "grid_gap": null,
            "grid_row": null,
            "grid_template_areas": null,
            "grid_template_columns": null,
            "grid_template_rows": null,
            "height": null,
            "justify_content": null,
            "justify_items": null,
            "left": null,
            "margin": null,
            "max_height": null,
            "max_width": null,
            "min_height": null,
            "min_width": null,
            "object_fit": null,
            "object_position": null,
            "order": null,
            "overflow": null,
            "overflow_x": null,
            "overflow_y": null,
            "padding": null,
            "right": null,
            "top": null,
            "visibility": null,
            "width": null
          }
        },
        "c4e2ddd2f4224a07b11012e073c47d90": {
          "model_module": "@jupyter-widgets/controls",
          "model_name": "DescriptionStyleModel",
          "model_module_version": "1.5.0",
          "state": {
            "_model_module": "@jupyter-widgets/controls",
            "_model_module_version": "1.5.0",
            "_model_name": "DescriptionStyleModel",
            "_view_count": null,
            "_view_module": "@jupyter-widgets/base",
            "_view_module_version": "1.2.0",
            "_view_name": "StyleView",
            "description_width": ""
          }
        }
      }
    }
  },
  "cells": [
    {
      "cell_type": "markdown",
      "metadata": {
        "id": "view-in-github",
        "colab_type": "text"
      },
      "source": [
        "<a href=\"https://colab.research.google.com/github/YinterestingProjects/human-wildlife-interactions/blob/main/pyCaret_classification.ipynb\" target=\"_parent\"><img src=\"https://colab.research.google.com/assets/colab-badge.svg\" alt=\"Open In Colab\"/></a>"
      ]
    },
    {
      "cell_type": "markdown",
      "source": [
        "# This notebook creates and automatically compares a bunch of different default classifiers"
      ],
      "metadata": {
        "id": "oDqgiCVvtKUS"
      }
    },
    {
      "cell_type": "markdown",
      "source": [
        "### Imports / Installs / Data Read Ins"
      ],
      "metadata": {
        "id": "4JK0PMy-tVvg"
      }
    },
    {
      "cell_type": "code",
      "source": [
        "# uncomment and run if not installed already\n",
        "# !pip install pycaret"
      ],
      "metadata": {
        "id": "yjXliTMHOZ-R"
      },
      "execution_count": null,
      "outputs": []
    },
    {
      "cell_type": "code",
      "execution_count": null,
      "metadata": {
        "colab": {
          "base_uri": "https://localhost:8080/",
          "height": 35
        },
        "id": "RgRLIL_QOIuN",
        "outputId": "123be473-507f-4bce-e3fb-ed881945ecbc"
      },
      "outputs": [
        {
          "output_type": "execute_result",
          "data": {
            "text/plain": [
              "'3.0.0'"
            ],
            "application/vnd.google.colaboratory.intrinsic+json": {
              "type": "string"
            }
          },
          "metadata": {},
          "execution_count": 2
        }
      ],
      "source": [
        "import pycaret\n",
        "pycaret.__version__"
      ]
    },
    {
      "cell_type": "code",
      "source": [
        "import pandas as pd\n",
        "pd.__version__"
      ],
      "metadata": {
        "colab": {
          "base_uri": "https://localhost:8080/",
          "height": 35
        },
        "id": "veWKB1sVP0Hi",
        "outputId": "4102faf2-c84c-48f8-862c-5f0fc2363d7d"
      },
      "execution_count": null,
      "outputs": [
        {
          "output_type": "execute_result",
          "data": {
            "text/plain": [
              "'1.5.3'"
            ],
            "application/vnd.google.colaboratory.intrinsic+json": {
              "type": "string"
            }
          },
          "metadata": {},
          "execution_count": 3
        }
      ]
    },
    {
      "cell_type": "code",
      "source": [
        "from google.colab import drive\n",
        "drive.mount('/content/drive')"
      ],
      "metadata": {
        "colab": {
          "base_uri": "https://localhost:8080/"
        },
        "id": "avI5L9PBOwA9",
        "outputId": "fee50ea2-edf8-4731-dd29-3ff2881eabb5"
      },
      "execution_count": null,
      "outputs": [
        {
          "output_type": "stream",
          "name": "stdout",
          "text": [
            "Mounted at /content/drive\n"
          ]
        }
      ]
    },
    {
      "cell_type": "code",
      "source": [
        "# please edit this path to where you are storing the relevant data\n",
        "path = '/content/drive/MyDrive/MADS_Capstone/data/classifier_video_data'\n",
        "\n",
        "train = pd.read_csv(f'{path}/train_mat.csv').drop('Unnamed: 0', axis=1)\n",
        "test = pd.read_csv(f'{path}/test_mat.csv').drop('Unnamed: 0', axis=1)\n",
        "val = pd.read_csv(f'{path}/val_mat.csv').drop('Unnamed: 0', axis=1)\n",
        "\n",
        "\n",
        "data = pd.concat([train, val], ignore_index=True)\n",
        "data = train"
      ],
      "metadata": {
        "id": "FzGbJ--MPeMD"
      },
      "execution_count": null,
      "outputs": []
    },
    {
      "cell_type": "markdown",
      "source": [
        "### Default Classifiers on imbalanced data"
      ],
      "metadata": {
        "id": "PS5n8FBKtmUq"
      }
    },
    {
      "cell_type": "code",
      "source": [
        "# import pycaret classification and init setup\n",
        "random_seed = 42\n",
        "\n",
        "from pycaret.classification import *\n",
        "s = setup(data, target = '1152', session_id = random_seed)"
      ],
      "metadata": {
        "colab": {
          "base_uri": "https://localhost:8080/",
          "height": 645
        },
        "id": "WqE3BGk4Oa3e",
        "outputId": "0ee5bb45-91a3-4cef-f2e0-ebec66c0de33"
      },
      "execution_count": null,
      "outputs": [
        {
          "output_type": "display_data",
          "data": {
            "text/plain": [
              "<pandas.io.formats.style.Styler at 0x7efcc9b11bb0>"
            ],
            "text/html": [
              "<style type=\"text/css\">\n",
              "#T_2fe54_row8_col1 {\n",
              "  background-color: lightgreen;\n",
              "}\n",
              "</style>\n",
              "<table id=\"T_2fe54\" class=\"dataframe\">\n",
              "  <thead>\n",
              "    <tr>\n",
              "      <th class=\"blank level0\" >&nbsp;</th>\n",
              "      <th id=\"T_2fe54_level0_col0\" class=\"col_heading level0 col0\" >Description</th>\n",
              "      <th id=\"T_2fe54_level0_col1\" class=\"col_heading level0 col1\" >Value</th>\n",
              "    </tr>\n",
              "  </thead>\n",
              "  <tbody>\n",
              "    <tr>\n",
              "      <th id=\"T_2fe54_level0_row0\" class=\"row_heading level0 row0\" >0</th>\n",
              "      <td id=\"T_2fe54_row0_col0\" class=\"data row0 col0\" >Session id</td>\n",
              "      <td id=\"T_2fe54_row0_col1\" class=\"data row0 col1\" >42</td>\n",
              "    </tr>\n",
              "    <tr>\n",
              "      <th id=\"T_2fe54_level0_row1\" class=\"row_heading level0 row1\" >1</th>\n",
              "      <td id=\"T_2fe54_row1_col0\" class=\"data row1 col0\" >Target</td>\n",
              "      <td id=\"T_2fe54_row1_col1\" class=\"data row1 col1\" >1152</td>\n",
              "    </tr>\n",
              "    <tr>\n",
              "      <th id=\"T_2fe54_level0_row2\" class=\"row_heading level0 row2\" >2</th>\n",
              "      <td id=\"T_2fe54_row2_col0\" class=\"data row2 col0\" >Target type</td>\n",
              "      <td id=\"T_2fe54_row2_col1\" class=\"data row2 col1\" >Binary</td>\n",
              "    </tr>\n",
              "    <tr>\n",
              "      <th id=\"T_2fe54_level0_row3\" class=\"row_heading level0 row3\" >3</th>\n",
              "      <td id=\"T_2fe54_row3_col0\" class=\"data row3 col0\" >Original data shape</td>\n",
              "      <td id=\"T_2fe54_row3_col1\" class=\"data row3 col1\" >(2794, 1153)</td>\n",
              "    </tr>\n",
              "    <tr>\n",
              "      <th id=\"T_2fe54_level0_row4\" class=\"row_heading level0 row4\" >4</th>\n",
              "      <td id=\"T_2fe54_row4_col0\" class=\"data row4 col0\" >Transformed data shape</td>\n",
              "      <td id=\"T_2fe54_row4_col1\" class=\"data row4 col1\" >(2794, 1153)</td>\n",
              "    </tr>\n",
              "    <tr>\n",
              "      <th id=\"T_2fe54_level0_row5\" class=\"row_heading level0 row5\" >5</th>\n",
              "      <td id=\"T_2fe54_row5_col0\" class=\"data row5 col0\" >Transformed train set shape</td>\n",
              "      <td id=\"T_2fe54_row5_col1\" class=\"data row5 col1\" >(1955, 1153)</td>\n",
              "    </tr>\n",
              "    <tr>\n",
              "      <th id=\"T_2fe54_level0_row6\" class=\"row_heading level0 row6\" >6</th>\n",
              "      <td id=\"T_2fe54_row6_col0\" class=\"data row6 col0\" >Transformed test set shape</td>\n",
              "      <td id=\"T_2fe54_row6_col1\" class=\"data row6 col1\" >(839, 1153)</td>\n",
              "    </tr>\n",
              "    <tr>\n",
              "      <th id=\"T_2fe54_level0_row7\" class=\"row_heading level0 row7\" >7</th>\n",
              "      <td id=\"T_2fe54_row7_col0\" class=\"data row7 col0\" >Numeric features</td>\n",
              "      <td id=\"T_2fe54_row7_col1\" class=\"data row7 col1\" >1152</td>\n",
              "    </tr>\n",
              "    <tr>\n",
              "      <th id=\"T_2fe54_level0_row8\" class=\"row_heading level0 row8\" >8</th>\n",
              "      <td id=\"T_2fe54_row8_col0\" class=\"data row8 col0\" >Preprocess</td>\n",
              "      <td id=\"T_2fe54_row8_col1\" class=\"data row8 col1\" >True</td>\n",
              "    </tr>\n",
              "    <tr>\n",
              "      <th id=\"T_2fe54_level0_row9\" class=\"row_heading level0 row9\" >9</th>\n",
              "      <td id=\"T_2fe54_row9_col0\" class=\"data row9 col0\" >Imputation type</td>\n",
              "      <td id=\"T_2fe54_row9_col1\" class=\"data row9 col1\" >simple</td>\n",
              "    </tr>\n",
              "    <tr>\n",
              "      <th id=\"T_2fe54_level0_row10\" class=\"row_heading level0 row10\" >10</th>\n",
              "      <td id=\"T_2fe54_row10_col0\" class=\"data row10 col0\" >Numeric imputation</td>\n",
              "      <td id=\"T_2fe54_row10_col1\" class=\"data row10 col1\" >mean</td>\n",
              "    </tr>\n",
              "    <tr>\n",
              "      <th id=\"T_2fe54_level0_row11\" class=\"row_heading level0 row11\" >11</th>\n",
              "      <td id=\"T_2fe54_row11_col0\" class=\"data row11 col0\" >Categorical imputation</td>\n",
              "      <td id=\"T_2fe54_row11_col1\" class=\"data row11 col1\" >mode</td>\n",
              "    </tr>\n",
              "    <tr>\n",
              "      <th id=\"T_2fe54_level0_row12\" class=\"row_heading level0 row12\" >12</th>\n",
              "      <td id=\"T_2fe54_row12_col0\" class=\"data row12 col0\" >Fold Generator</td>\n",
              "      <td id=\"T_2fe54_row12_col1\" class=\"data row12 col1\" >StratifiedKFold</td>\n",
              "    </tr>\n",
              "    <tr>\n",
              "      <th id=\"T_2fe54_level0_row13\" class=\"row_heading level0 row13\" >13</th>\n",
              "      <td id=\"T_2fe54_row13_col0\" class=\"data row13 col0\" >Fold Number</td>\n",
              "      <td id=\"T_2fe54_row13_col1\" class=\"data row13 col1\" >10</td>\n",
              "    </tr>\n",
              "    <tr>\n",
              "      <th id=\"T_2fe54_level0_row14\" class=\"row_heading level0 row14\" >14</th>\n",
              "      <td id=\"T_2fe54_row14_col0\" class=\"data row14 col0\" >CPU Jobs</td>\n",
              "      <td id=\"T_2fe54_row14_col1\" class=\"data row14 col1\" >-1</td>\n",
              "    </tr>\n",
              "    <tr>\n",
              "      <th id=\"T_2fe54_level0_row15\" class=\"row_heading level0 row15\" >15</th>\n",
              "      <td id=\"T_2fe54_row15_col0\" class=\"data row15 col0\" >Use GPU</td>\n",
              "      <td id=\"T_2fe54_row15_col1\" class=\"data row15 col1\" >False</td>\n",
              "    </tr>\n",
              "    <tr>\n",
              "      <th id=\"T_2fe54_level0_row16\" class=\"row_heading level0 row16\" >16</th>\n",
              "      <td id=\"T_2fe54_row16_col0\" class=\"data row16 col0\" >Log Experiment</td>\n",
              "      <td id=\"T_2fe54_row16_col1\" class=\"data row16 col1\" >False</td>\n",
              "    </tr>\n",
              "    <tr>\n",
              "      <th id=\"T_2fe54_level0_row17\" class=\"row_heading level0 row17\" >17</th>\n",
              "      <td id=\"T_2fe54_row17_col0\" class=\"data row17 col0\" >Experiment Name</td>\n",
              "      <td id=\"T_2fe54_row17_col1\" class=\"data row17 col1\" >clf-default-name</td>\n",
              "    </tr>\n",
              "    <tr>\n",
              "      <th id=\"T_2fe54_level0_row18\" class=\"row_heading level0 row18\" >18</th>\n",
              "      <td id=\"T_2fe54_row18_col0\" class=\"data row18 col0\" >USI</td>\n",
              "      <td id=\"T_2fe54_row18_col1\" class=\"data row18 col1\" >213a</td>\n",
              "    </tr>\n",
              "  </tbody>\n",
              "</table>\n"
            ]
          },
          "metadata": {}
        }
      ]
    },
    {
      "cell_type": "code",
      "source": [],
      "metadata": {
        "id": "gevyHhg4aBiI"
      },
      "execution_count": null,
      "outputs": []
    },
    {
      "cell_type": "code",
      "source": [
        "best = compare_models()"
      ],
      "metadata": {
        "id": "9AbZL8QMR4vQ"
      },
      "execution_count": null,
      "outputs": []
    },
    {
      "cell_type": "code",
      "source": [
        "baseline_model_results = pull()"
      ],
      "metadata": {
        "id": "Lg7o39OWSIPN"
      },
      "execution_count": null,
      "outputs": []
    },
    {
      "cell_type": "code",
      "source": [
        "# plot \n",
        "plot_model(best, plot = 'class_report')"
      ],
      "metadata": {
        "colab": {
          "base_uri": "https://localhost:8080/",
          "height": 551
        },
        "id": "4lckvffpZuWr",
        "outputId": "ec8caa51-d199-42d4-c42d-418b813ebaf5"
      },
      "execution_count": null,
      "outputs": [
        {
          "output_type": "display_data",
          "data": {
            "text/plain": [
              "<IPython.core.display.HTML object>"
            ],
            "text/html": []
          },
          "metadata": {}
        },
        {
          "output_type": "display_data",
          "data": {
            "text/plain": [
              "<Figure size 800x550 with 2 Axes>"
            ],
            "image/png": "[encoded data removed]"
          },
          "metadata": {}
        }
      ]
    },
    {
      "cell_type": "code",
      "source": [
        "# Plotting the confusion matrix\n",
        "plot_model(best,plot='confusion_matrix')"
      ],
      "metadata": {
        "colab": {
          "base_uri": "https://localhost:8080/",
          "height": 551
        },
        "id": "NIOfFeBVd2kO",
        "outputId": "77a69b68-ca22-4e63-8126-ff06c9eb518c"
      },
      "execution_count": null,
      "outputs": [
        {
          "output_type": "display_data",
          "data": {
            "text/plain": [
              "<IPython.core.display.HTML object>"
            ],
            "text/html": []
          },
          "metadata": {}
        },
        {
          "output_type": "display_data",
          "data": {
            "text/plain": [
              "<Figure size 800x550 with 1 Axes>"
            ],
            "image/png": "[encoded data removed]"
          },
          "metadata": {}
        }
      ]
    },
    {
      "cell_type": "code",
      "source": [
        "# plot AUC\n",
        "plot_model(best, plot = 'auc')"
      ],
      "metadata": {
        "colab": {
          "base_uri": "https://localhost:8080/",
          "height": 524
        },
        "id": "GpZJAi_4eWKd",
        "outputId": "22074903-3a03-4f5e-ae59-47f85435e988"
      },
      "execution_count": null,
      "outputs": [
        {
          "output_type": "display_data",
          "data": {
            "text/plain": [
              "<IPython.core.display.HTML object>"
            ],
            "text/html": []
          },
          "metadata": {}
        },
        {
          "output_type": "display_data",
          "data": {
            "text/plain": [
              "<Figure size 800x550 with 1 Axes>"
            ],
            "image/png": "[encoded data removed]"
          },
          "metadata": {}
        }
      ]
    },
    {
      "cell_type": "code",
      "source": [
        "plot_model(best, plot = 'pr')"
      ],
      "metadata": {
        "colab": {
          "base_uri": "https://localhost:8080/",
          "height": 524
        },
        "id": "82T3Dof-fXUX",
        "outputId": "66254220-548b-4b61-aed1-5e8126bbc340"
      },
      "execution_count": null,
      "outputs": [
        {
          "output_type": "display_data",
          "data": {
            "text/plain": [
              "<IPython.core.display.HTML object>"
            ],
            "text/html": []
          },
          "metadata": {}
        },
        {
          "output_type": "display_data",
          "data": {
            "text/plain": [
              "<Figure size 800x550 with 1 Axes>"
            ],
            "image/png": "[encoded data removed]"
          },
          "metadata": {}
        }
      ]
    },
    {
      "cell_type": "markdown",
      "source": [
        "### Default classifiers on SMOTE balanced data"
      ],
      "metadata": {
        "id": "R1VGXH5_trxj"
      }
    },
    {
      "cell_type": "code",
      "source": [
        "#fix_imbalance will automaticaaly fix the imbalanced dataset by oversampling using the SMOTE method."
      ],
      "metadata": {
        "id": "Kxz5CFtwaNov"
      },
      "execution_count": null,
      "outputs": []
    },
    {
      "cell_type": "code",
      "source": [
        "s2 = setup(data, target = '1152', fix_imbalance=True, session_id = random_seed)"
      ],
      "metadata": {
        "colab": {
          "base_uri": "https://localhost:8080/",
          "height": 700
        },
        "id": "gyJhrLqsdYVl",
        "outputId": "a9d6063a-8607-43a1-b033-56005f8b9282"
      },
      "execution_count": null,
      "outputs": [
        {
          "output_type": "display_data",
          "data": {
            "text/plain": [
              "<pandas.io.formats.style.Styler at 0x7f5ff033cd60>"
            ],
            "text/html": [
              "<style type=\"text/css\">\n",
              "#T_86466_row8_col1, #T_86466_row12_col1 {\n",
              "  background-color: lightgreen;\n",
              "}\n",
              "</style>\n",
              "<table id=\"T_86466\" class=\"dataframe\">\n",
              "  <thead>\n",
              "    <tr>\n",
              "      <th class=\"blank level0\" >&nbsp;</th>\n",
              "      <th id=\"T_86466_level0_col0\" class=\"col_heading level0 col0\" >Description</th>\n",
              "      <th id=\"T_86466_level0_col1\" class=\"col_heading level0 col1\" >Value</th>\n",
              "    </tr>\n",
              "  </thead>\n",
              "  <tbody>\n",
              "    <tr>\n",
              "      <th id=\"T_86466_level0_row0\" class=\"row_heading level0 row0\" >0</th>\n",
              "      <td id=\"T_86466_row0_col0\" class=\"data row0 col0\" >Session id</td>\n",
              "      <td id=\"T_86466_row0_col1\" class=\"data row0 col1\" >42</td>\n",
              "    </tr>\n",
              "    <tr>\n",
              "      <th id=\"T_86466_level0_row1\" class=\"row_heading level0 row1\" >1</th>\n",
              "      <td id=\"T_86466_row1_col0\" class=\"data row1 col0\" >Target</td>\n",
              "      <td id=\"T_86466_row1_col1\" class=\"data row1 col1\" >1152</td>\n",
              "    </tr>\n",
              "    <tr>\n",
              "      <th id=\"T_86466_level0_row2\" class=\"row_heading level0 row2\" >2</th>\n",
              "      <td id=\"T_86466_row2_col0\" class=\"data row2 col0\" >Target type</td>\n",
              "      <td id=\"T_86466_row2_col1\" class=\"data row2 col1\" >Binary</td>\n",
              "    </tr>\n",
              "    <tr>\n",
              "      <th id=\"T_86466_level0_row3\" class=\"row_heading level0 row3\" >3</th>\n",
              "      <td id=\"T_86466_row3_col0\" class=\"data row3 col0\" >Original data shape</td>\n",
              "      <td id=\"T_86466_row3_col1\" class=\"data row3 col1\" >(3869, 1153)</td>\n",
              "    </tr>\n",
              "    <tr>\n",
              "      <th id=\"T_86466_level0_row4\" class=\"row_heading level0 row4\" >4</th>\n",
              "      <td id=\"T_86466_row4_col0\" class=\"data row4 col0\" >Transformed data shape</td>\n",
              "      <td id=\"T_86466_row4_col1\" class=\"data row4 col1\" >(6121, 1153)</td>\n",
              "    </tr>\n",
              "    <tr>\n",
              "      <th id=\"T_86466_level0_row5\" class=\"row_heading level0 row5\" >5</th>\n",
              "      <td id=\"T_86466_row5_col0\" class=\"data row5 col0\" >Transformed train set shape</td>\n",
              "      <td id=\"T_86466_row5_col1\" class=\"data row5 col1\" >(4960, 1153)</td>\n",
              "    </tr>\n",
              "    <tr>\n",
              "      <th id=\"T_86466_level0_row6\" class=\"row_heading level0 row6\" >6</th>\n",
              "      <td id=\"T_86466_row6_col0\" class=\"data row6 col0\" >Transformed test set shape</td>\n",
              "      <td id=\"T_86466_row6_col1\" class=\"data row6 col1\" >(1161, 1153)</td>\n",
              "    </tr>\n",
              "    <tr>\n",
              "      <th id=\"T_86466_level0_row7\" class=\"row_heading level0 row7\" >7</th>\n",
              "      <td id=\"T_86466_row7_col0\" class=\"data row7 col0\" >Numeric features</td>\n",
              "      <td id=\"T_86466_row7_col1\" class=\"data row7 col1\" >1152</td>\n",
              "    </tr>\n",
              "    <tr>\n",
              "      <th id=\"T_86466_level0_row8\" class=\"row_heading level0 row8\" >8</th>\n",
              "      <td id=\"T_86466_row8_col0\" class=\"data row8 col0\" >Preprocess</td>\n",
              "      <td id=\"T_86466_row8_col1\" class=\"data row8 col1\" >True</td>\n",
              "    </tr>\n",
              "    <tr>\n",
              "      <th id=\"T_86466_level0_row9\" class=\"row_heading level0 row9\" >9</th>\n",
              "      <td id=\"T_86466_row9_col0\" class=\"data row9 col0\" >Imputation type</td>\n",
              "      <td id=\"T_86466_row9_col1\" class=\"data row9 col1\" >simple</td>\n",
              "    </tr>\n",
              "    <tr>\n",
              "      <th id=\"T_86466_level0_row10\" class=\"row_heading level0 row10\" >10</th>\n",
              "      <td id=\"T_86466_row10_col0\" class=\"data row10 col0\" >Numeric imputation</td>\n",
              "      <td id=\"T_86466_row10_col1\" class=\"data row10 col1\" >mean</td>\n",
              "    </tr>\n",
              "    <tr>\n",
              "      <th id=\"T_86466_level0_row11\" class=\"row_heading level0 row11\" >11</th>\n",
              "      <td id=\"T_86466_row11_col0\" class=\"data row11 col0\" >Categorical imputation</td>\n",
              "      <td id=\"T_86466_row11_col1\" class=\"data row11 col1\" >mode</td>\n",
              "    </tr>\n",
              "    <tr>\n",
              "      <th id=\"T_86466_level0_row12\" class=\"row_heading level0 row12\" >12</th>\n",
              "      <td id=\"T_86466_row12_col0\" class=\"data row12 col0\" >Fix imbalance</td>\n",
              "      <td id=\"T_86466_row12_col1\" class=\"data row12 col1\" >True</td>\n",
              "    </tr>\n",
              "    <tr>\n",
              "      <th id=\"T_86466_level0_row13\" class=\"row_heading level0 row13\" >13</th>\n",
              "      <td id=\"T_86466_row13_col0\" class=\"data row13 col0\" >Fix imbalance method</td>\n",
              "      <td id=\"T_86466_row13_col1\" class=\"data row13 col1\" >SMOTE</td>\n",
              "    </tr>\n",
              "    <tr>\n",
              "      <th id=\"T_86466_level0_row14\" class=\"row_heading level0 row14\" >14</th>\n",
              "      <td id=\"T_86466_row14_col0\" class=\"data row14 col0\" >Fold Generator</td>\n",
              "      <td id=\"T_86466_row14_col1\" class=\"data row14 col1\" >StratifiedKFold</td>\n",
              "    </tr>\n",
              "    <tr>\n",
              "      <th id=\"T_86466_level0_row15\" class=\"row_heading level0 row15\" >15</th>\n",
              "      <td id=\"T_86466_row15_col0\" class=\"data row15 col0\" >Fold Number</td>\n",
              "      <td id=\"T_86466_row15_col1\" class=\"data row15 col1\" >10</td>\n",
              "    </tr>\n",
              "    <tr>\n",
              "      <th id=\"T_86466_level0_row16\" class=\"row_heading level0 row16\" >16</th>\n",
              "      <td id=\"T_86466_row16_col0\" class=\"data row16 col0\" >CPU Jobs</td>\n",
              "      <td id=\"T_86466_row16_col1\" class=\"data row16 col1\" >-1</td>\n",
              "    </tr>\n",
              "    <tr>\n",
              "      <th id=\"T_86466_level0_row17\" class=\"row_heading level0 row17\" >17</th>\n",
              "      <td id=\"T_86466_row17_col0\" class=\"data row17 col0\" >Use GPU</td>\n",
              "      <td id=\"T_86466_row17_col1\" class=\"data row17 col1\" >False</td>\n",
              "    </tr>\n",
              "    <tr>\n",
              "      <th id=\"T_86466_level0_row18\" class=\"row_heading level0 row18\" >18</th>\n",
              "      <td id=\"T_86466_row18_col0\" class=\"data row18 col0\" >Log Experiment</td>\n",
              "      <td id=\"T_86466_row18_col1\" class=\"data row18 col1\" >False</td>\n",
              "    </tr>\n",
              "    <tr>\n",
              "      <th id=\"T_86466_level0_row19\" class=\"row_heading level0 row19\" >19</th>\n",
              "      <td id=\"T_86466_row19_col0\" class=\"data row19 col0\" >Experiment Name</td>\n",
              "      <td id=\"T_86466_row19_col1\" class=\"data row19 col1\" >clf-default-name</td>\n",
              "    </tr>\n",
              "    <tr>\n",
              "      <th id=\"T_86466_level0_row20\" class=\"row_heading level0 row20\" >20</th>\n",
              "      <td id=\"T_86466_row20_col0\" class=\"data row20 col0\" >USI</td>\n",
              "      <td id=\"T_86466_row20_col1\" class=\"data row20 col1\" >4294</td>\n",
              "    </tr>\n",
              "  </tbody>\n",
              "</table>\n"
            ]
          },
          "metadata": {}
        }
      ]
    },
    {
      "cell_type": "code",
      "source": [
        "best_SMOTE = compare_models()"
      ],
      "metadata": {
        "colab": {
          "base_uri": "https://localhost:8080/",
          "height": 514,
          "referenced_widgets": [
            "dae90a37931e4a75af1f5aa95bfe977a",
            "e92c4551976149508461e867cc32c532",
            "a80e4139fb6541c894f7b20e972b13b1",
            "8a82b1e577854170984a03dd6f811d55",
            "2f9c76fe07b9448bbd9220c9684823fc",
            "27aa1270ca2645bba59ecc1341e6a3c5",
            "afc08f239ce34296adf8cf8466229acf",
            "77d336b598604cc1a22944f847011348",
            "90959c91af574a399b100d3f5c773759",
            "74fc74a2f45846fa8678c9f323fa280c",
            "b6157b42d1db4a77a1bb2e7eb4bec813"
          ]
        },
        "id": "DtO5kVz0dZpG",
        "outputId": "cb2cffd6-d86d-4404-e192-588e96ffa5ac"
      },
      "execution_count": null,
      "outputs": [
        {
          "output_type": "display_data",
          "data": {
            "text/plain": [
              "<IPython.core.display.HTML object>"
            ],
            "text/html": []
          },
          "metadata": {}
        },
        {
          "output_type": "display_data",
          "data": {
            "text/plain": [
              "<pandas.io.formats.style.Styler at 0x7f5ff09ed2b0>"
            ],
            "text/html": [
              "<style type=\"text/css\">\n",
              "#T_555fe th {\n",
              "  text-align: left;\n",
              "}\n",
              "#T_555fe_row0_col0, #T_555fe_row0_col2, #T_555fe_row0_col3, #T_555fe_row0_col5, #T_555fe_row0_col6, #T_555fe_row0_col7, #T_555fe_row1_col0, #T_555fe_row1_col1, #T_555fe_row1_col2, #T_555fe_row1_col3, #T_555fe_row1_col4, #T_555fe_row1_col5, #T_555fe_row2_col0, #T_555fe_row2_col1, #T_555fe_row2_col3, #T_555fe_row2_col4, #T_555fe_row2_col5, #T_555fe_row2_col6, #T_555fe_row2_col7, #T_555fe_row3_col0, #T_555fe_row3_col1, #T_555fe_row3_col2, #T_555fe_row3_col3, #T_555fe_row3_col4, #T_555fe_row3_col5, #T_555fe_row3_col6, #T_555fe_row3_col7, #T_555fe_row4_col0, #T_555fe_row4_col1, #T_555fe_row4_col2, #T_555fe_row4_col3, #T_555fe_row4_col4, #T_555fe_row4_col5, #T_555fe_row4_col6, #T_555fe_row4_col7, #T_555fe_row5_col0, #T_555fe_row5_col1, #T_555fe_row5_col2, #T_555fe_row5_col3, #T_555fe_row5_col4, #T_555fe_row5_col5, #T_555fe_row5_col6, #T_555fe_row5_col7, #T_555fe_row6_col0, #T_555fe_row6_col1, #T_555fe_row6_col2, #T_555fe_row6_col3, #T_555fe_row6_col4, #T_555fe_row6_col6, #T_555fe_row6_col7, #T_555fe_row7_col0, #T_555fe_row7_col1, #T_555fe_row7_col2, #T_555fe_row7_col3, #T_555fe_row7_col4, #T_555fe_row7_col5, #T_555fe_row7_col6, #T_555fe_row7_col7, #T_555fe_row8_col0, #T_555fe_row8_col1, #T_555fe_row8_col2, #T_555fe_row8_col3, #T_555fe_row8_col4, #T_555fe_row8_col5, #T_555fe_row8_col6, #T_555fe_row8_col7, #T_555fe_row9_col0, #T_555fe_row9_col1, #T_555fe_row9_col2, #T_555fe_row9_col3, #T_555fe_row9_col4, #T_555fe_row9_col5, #T_555fe_row9_col6, #T_555fe_row9_col7, #T_555fe_row10_col0, #T_555fe_row10_col1, #T_555fe_row10_col2, #T_555fe_row10_col3, #T_555fe_row10_col4, #T_555fe_row10_col5, #T_555fe_row10_col6, #T_555fe_row10_col7, #T_555fe_row11_col0, #T_555fe_row11_col1, #T_555fe_row11_col2, #T_555fe_row11_col3, #T_555fe_row11_col4, #T_555fe_row11_col5, #T_555fe_row11_col6, #T_555fe_row11_col7, #T_555fe_row12_col0, #T_555fe_row12_col1, #T_555fe_row12_col2, #T_555fe_row12_col3, #T_555fe_row12_col4, #T_555fe_row12_col5, #T_555fe_row12_col6, #T_555fe_row12_col7, #T_555fe_row13_col0, #T_555fe_row13_col1, #T_555fe_row13_col2, #T_555fe_row13_col3, #T_555fe_row13_col4, #T_555fe_row13_col5, #T_555fe_row13_col6, #T_555fe_row13_col7, #T_555fe_row14_col0, #T_555fe_row14_col1, #T_555fe_row14_col2, #T_555fe_row14_col4, #T_555fe_row14_col5, #T_555fe_row14_col6, #T_555fe_row14_col7 {\n",
              "  text-align: left;\n",
              "}\n",
              "#T_555fe_row0_col1, #T_555fe_row0_col4, #T_555fe_row1_col6, #T_555fe_row1_col7, #T_555fe_row2_col2, #T_555fe_row6_col5, #T_555fe_row14_col3 {\n",
              "  text-align: left;\n",
              "  background-color: yellow;\n",
              "}\n",
              "#T_555fe_row0_col8, #T_555fe_row1_col8, #T_555fe_row2_col8, #T_555fe_row3_col8, #T_555fe_row4_col8, #T_555fe_row6_col8, #T_555fe_row8_col8, #T_555fe_row9_col8, #T_555fe_row10_col8, #T_555fe_row11_col8, #T_555fe_row12_col8, #T_555fe_row13_col8, #T_555fe_row14_col8 {\n",
              "  text-align: left;\n",
              "  background-color: lightgrey;\n",
              "}\n",
              "#T_555fe_row5_col8, #T_555fe_row7_col8 {\n",
              "  text-align: left;\n",
              "  background-color: yellow;\n",
              "  background-color: lightgrey;\n",
              "}\n",
              "</style>\n",
              "<table id=\"T_555fe\" class=\"dataframe\">\n",
              "  <thead>\n",
              "    <tr>\n",
              "      <th class=\"blank level0\" >&nbsp;</th>\n",
              "      <th id=\"T_555fe_level0_col0\" class=\"col_heading level0 col0\" >Model</th>\n",
              "      <th id=\"T_555fe_level0_col1\" class=\"col_heading level0 col1\" >Accuracy</th>\n",
              "      <th id=\"T_555fe_level0_col2\" class=\"col_heading level0 col2\" >AUC</th>\n",
              "      <th id=\"T_555fe_level0_col3\" class=\"col_heading level0 col3\" >Recall</th>\n",
              "      <th id=\"T_555fe_level0_col4\" class=\"col_heading level0 col4\" >Prec.</th>\n",
              "      <th id=\"T_555fe_level0_col5\" class=\"col_heading level0 col5\" >F1</th>\n",
              "      <th id=\"T_555fe_level0_col6\" class=\"col_heading level0 col6\" >Kappa</th>\n",
              "      <th id=\"T_555fe_level0_col7\" class=\"col_heading level0 col7\" >MCC</th>\n",
              "      <th id=\"T_555fe_level0_col8\" class=\"col_heading level0 col8\" >TT (Sec)</th>\n",
              "    </tr>\n",
              "  </thead>\n",
              "  <tbody>\n",
              "    <tr>\n",
              "      <th id=\"T_555fe_level0_row0\" class=\"row_heading level0 row0\" >et</th>\n",
              "      <td id=\"T_555fe_row0_col0\" class=\"data row0 col0\" >Extra Trees Classifier</td>\n",
              "      <td id=\"T_555fe_row0_col1\" class=\"data row0 col1\" >0.9254</td>\n",
              "      <td id=\"T_555fe_row0_col2\" class=\"data row0 col2\" >0.8354</td>\n",
              "      <td id=\"T_555fe_row0_col3\" class=\"data row0 col3\" >0.2332</td>\n",
              "      <td id=\"T_555fe_row0_col4\" class=\"data row0 col4\" >0.6894</td>\n",
              "      <td id=\"T_555fe_row0_col5\" class=\"data row0 col5\" >0.3383</td>\n",
              "      <td id=\"T_555fe_row0_col6\" class=\"data row0 col6\" >0.3097</td>\n",
              "      <td id=\"T_555fe_row0_col7\" class=\"data row0 col7\" >0.3646</td>\n",
              "      <td id=\"T_555fe_row0_col8\" class=\"data row0 col8\" >0.9390</td>\n",
              "    </tr>\n",
              "    <tr>\n",
              "      <th id=\"T_555fe_level0_row1\" class=\"row_heading level0 row1\" >xgboost</th>\n",
              "      <td id=\"T_555fe_row1_col0\" class=\"data row1 col0\" >Extreme Gradient Boosting</td>\n",
              "      <td id=\"T_555fe_row1_col1\" class=\"data row1 col1\" >0.9251</td>\n",
              "      <td id=\"T_555fe_row1_col2\" class=\"data row1 col2\" >0.8495</td>\n",
              "      <td id=\"T_555fe_row1_col3\" class=\"data row1 col3\" >0.3783</td>\n",
              "      <td id=\"T_555fe_row1_col4\" class=\"data row1 col4\" >0.5779</td>\n",
              "      <td id=\"T_555fe_row1_col5\" class=\"data row1 col5\" >0.4522</td>\n",
              "      <td id=\"T_555fe_row1_col6\" class=\"data row1 col6\" >0.4149</td>\n",
              "      <td id=\"T_555fe_row1_col7\" class=\"data row1 col7\" >0.4276</td>\n",
              "      <td id=\"T_555fe_row1_col8\" class=\"data row1 col8\" >0.6830</td>\n",
              "    </tr>\n",
              "    <tr>\n",
              "      <th id=\"T_555fe_level0_row2\" class=\"row_heading level0 row2\" >lightgbm</th>\n",
              "      <td id=\"T_555fe_row2_col0\" class=\"data row2 col0\" >Light Gradient Boosting Machine</td>\n",
              "      <td id=\"T_555fe_row2_col1\" class=\"data row2 col1\" >0.9236</td>\n",
              "      <td id=\"T_555fe_row2_col2\" class=\"data row2 col2\" >0.8521</td>\n",
              "      <td id=\"T_555fe_row2_col3\" class=\"data row2 col3\" >0.3164</td>\n",
              "      <td id=\"T_555fe_row2_col4\" class=\"data row2 col4\" >0.5762</td>\n",
              "      <td id=\"T_555fe_row2_col5\" class=\"data row2 col5\" >0.4059</td>\n",
              "      <td id=\"T_555fe_row2_col6\" class=\"data row2 col6\" >0.3695</td>\n",
              "      <td id=\"T_555fe_row2_col7\" class=\"data row2 col7\" >0.3895</td>\n",
              "      <td id=\"T_555fe_row2_col8\" class=\"data row2 col8\" >0.8080</td>\n",
              "    </tr>\n",
              "    <tr>\n",
              "      <th id=\"T_555fe_level0_row3\" class=\"row_heading level0 row3\" >rf</th>\n",
              "      <td id=\"T_555fe_row3_col0\" class=\"data row3 col0\" >Random Forest Classifier</td>\n",
              "      <td id=\"T_555fe_row3_col1\" class=\"data row3 col1\" >0.9217</td>\n",
              "      <td id=\"T_555fe_row3_col2\" class=\"data row3 col2\" >0.8506</td>\n",
              "      <td id=\"T_555fe_row3_col3\" class=\"data row3 col3\" >0.2510</td>\n",
              "      <td id=\"T_555fe_row3_col4\" class=\"data row3 col4\" >0.5723</td>\n",
              "      <td id=\"T_555fe_row3_col5\" class=\"data row3 col5\" >0.3425</td>\n",
              "      <td id=\"T_555fe_row3_col6\" class=\"data row3 col6\" >0.3092</td>\n",
              "      <td id=\"T_555fe_row3_col7\" class=\"data row3 col7\" >0.3410</td>\n",
              "      <td id=\"T_555fe_row3_col8\" class=\"data row3 col8\" >0.7760</td>\n",
              "    </tr>\n",
              "    <tr>\n",
              "      <th id=\"T_555fe_level0_row4\" class=\"row_heading level0 row4\" >qda</th>\n",
              "      <td id=\"T_555fe_row4_col0\" class=\"data row4 col0\" >Quadratic Discriminant Analysis</td>\n",
              "      <td id=\"T_555fe_row4_col1\" class=\"data row4 col1\" >0.9158</td>\n",
              "      <td id=\"T_555fe_row4_col2\" class=\"data row4 col2\" >0.5000</td>\n",
              "      <td id=\"T_555fe_row4_col3\" class=\"data row4 col3\" >0.0000</td>\n",
              "      <td id=\"T_555fe_row4_col4\" class=\"data row4 col4\" >0.0000</td>\n",
              "      <td id=\"T_555fe_row4_col5\" class=\"data row4 col5\" >0.0000</td>\n",
              "      <td id=\"T_555fe_row4_col6\" class=\"data row4 col6\" >0.0000</td>\n",
              "      <td id=\"T_555fe_row4_col7\" class=\"data row4 col7\" >0.0000</td>\n",
              "      <td id=\"T_555fe_row4_col8\" class=\"data row4 col8\" >1.0320</td>\n",
              "    </tr>\n",
              "    <tr>\n",
              "      <th id=\"T_555fe_level0_row5\" class=\"row_heading level0 row5\" >dummy</th>\n",
              "      <td id=\"T_555fe_row5_col0\" class=\"data row5 col0\" >Dummy Classifier</td>\n",
              "      <td id=\"T_555fe_row5_col1\" class=\"data row5 col1\" >0.9158</td>\n",
              "      <td id=\"T_555fe_row5_col2\" class=\"data row5 col2\" >0.5000</td>\n",
              "      <td id=\"T_555fe_row5_col3\" class=\"data row5 col3\" >0.0000</td>\n",
              "      <td id=\"T_555fe_row5_col4\" class=\"data row5 col4\" >0.0000</td>\n",
              "      <td id=\"T_555fe_row5_col5\" class=\"data row5 col5\" >0.0000</td>\n",
              "      <td id=\"T_555fe_row5_col6\" class=\"data row5 col6\" >0.0000</td>\n",
              "      <td id=\"T_555fe_row5_col7\" class=\"data row5 col7\" >0.0000</td>\n",
              "      <td id=\"T_555fe_row5_col8\" class=\"data row5 col8\" >0.4910</td>\n",
              "    </tr>\n",
              "    <tr>\n",
              "      <th id=\"T_555fe_level0_row6\" class=\"row_heading level0 row6\" >gbc</th>\n",
              "      <td id=\"T_555fe_row6_col0\" class=\"data row6 col0\" >Gradient Boosting Classifier</td>\n",
              "      <td id=\"T_555fe_row6_col1\" class=\"data row6 col1\" >0.9095</td>\n",
              "      <td id=\"T_555fe_row6_col2\" class=\"data row6 col2\" >0.8459</td>\n",
              "      <td id=\"T_555fe_row6_col3\" class=\"data row6 col3\" >0.4520</td>\n",
              "      <td id=\"T_555fe_row6_col4\" class=\"data row6 col4\" >0.4711</td>\n",
              "      <td id=\"T_555fe_row6_col5\" class=\"data row6 col5\" >0.4580</td>\n",
              "      <td id=\"T_555fe_row6_col6\" class=\"data row6 col6\" >0.4090</td>\n",
              "      <td id=\"T_555fe_row6_col7\" class=\"data row6 col7\" >0.4109</td>\n",
              "      <td id=\"T_555fe_row6_col8\" class=\"data row6 col8\" >0.6630</td>\n",
              "    </tr>\n",
              "    <tr>\n",
              "      <th id=\"T_555fe_level0_row7\" class=\"row_heading level0 row7\" >svm</th>\n",
              "      <td id=\"T_555fe_row7_col0\" class=\"data row7 col0\" >SVM - Linear Kernel</td>\n",
              "      <td id=\"T_555fe_row7_col1\" class=\"data row7 col1\" >0.8863</td>\n",
              "      <td id=\"T_555fe_row7_col2\" class=\"data row7 col2\" >0.0000</td>\n",
              "      <td id=\"T_555fe_row7_col3\" class=\"data row7 col3\" >0.3777</td>\n",
              "      <td id=\"T_555fe_row7_col4\" class=\"data row7 col4\" >0.3346</td>\n",
              "      <td id=\"T_555fe_row7_col5\" class=\"data row7 col5\" >0.3523</td>\n",
              "      <td id=\"T_555fe_row7_col6\" class=\"data row7 col6\" >0.2906</td>\n",
              "      <td id=\"T_555fe_row7_col7\" class=\"data row7 col7\" >0.2926</td>\n",
              "      <td id=\"T_555fe_row7_col8\" class=\"data row7 col8\" >0.4910</td>\n",
              "    </tr>\n",
              "    <tr>\n",
              "      <th id=\"T_555fe_level0_row8\" class=\"row_heading level0 row8\" >lr</th>\n",
              "      <td id=\"T_555fe_row8_col0\" class=\"data row8 col0\" >Logistic Regression</td>\n",
              "      <td id=\"T_555fe_row8_col1\" class=\"data row8 col1\" >0.8829</td>\n",
              "      <td id=\"T_555fe_row8_col2\" class=\"data row8 col2\" >0.8101</td>\n",
              "      <td id=\"T_555fe_row8_col3\" class=\"data row8 col3\" >0.5002</td>\n",
              "      <td id=\"T_555fe_row8_col4\" class=\"data row8 col4\" >0.3603</td>\n",
              "      <td id=\"T_555fe_row8_col5\" class=\"data row8 col5\" >0.4163</td>\n",
              "      <td id=\"T_555fe_row8_col6\" class=\"data row8 col6\" >0.3534</td>\n",
              "      <td id=\"T_555fe_row8_col7\" class=\"data row8 col7\" >0.3608</td>\n",
              "      <td id=\"T_555fe_row8_col8\" class=\"data row8 col8\" >0.9630</td>\n",
              "    </tr>\n",
              "    <tr>\n",
              "      <th id=\"T_555fe_level0_row9\" class=\"row_heading level0 row9\" >ada</th>\n",
              "      <td id=\"T_555fe_row9_col0\" class=\"data row9 col0\" >Ada Boost Classifier</td>\n",
              "      <td id=\"T_555fe_row9_col1\" class=\"data row9 col1\" >0.8527</td>\n",
              "      <td id=\"T_555fe_row9_col2\" class=\"data row9 col2\" >0.7849</td>\n",
              "      <td id=\"T_555fe_row9_col3\" class=\"data row9 col3\" >0.4951</td>\n",
              "      <td id=\"T_555fe_row9_col4\" class=\"data row9 col4\" >0.2840</td>\n",
              "      <td id=\"T_555fe_row9_col5\" class=\"data row9 col5\" >0.3598</td>\n",
              "      <td id=\"T_555fe_row9_col6\" class=\"data row9 col6\" >0.2835</td>\n",
              "      <td id=\"T_555fe_row9_col7\" class=\"data row9 col7\" >0.2983</td>\n",
              "      <td id=\"T_555fe_row9_col8\" class=\"data row9 col8\" >1.4120</td>\n",
              "    </tr>\n",
              "    <tr>\n",
              "      <th id=\"T_555fe_level0_row10\" class=\"row_heading level0 row10\" >dt</th>\n",
              "      <td id=\"T_555fe_row10_col0\" class=\"data row10 col0\" >Decision Tree Classifier</td>\n",
              "      <td id=\"T_555fe_row10_col1\" class=\"data row10 col1\" >0.8165</td>\n",
              "      <td id=\"T_555fe_row10_col2\" class=\"data row10 col2\" >0.6215</td>\n",
              "      <td id=\"T_555fe_row10_col3\" class=\"data row10 col3\" >0.3870</td>\n",
              "      <td id=\"T_555fe_row10_col4\" class=\"data row10 col4\" >0.2016</td>\n",
              "      <td id=\"T_555fe_row10_col5\" class=\"data row10 col5\" >0.2638</td>\n",
              "      <td id=\"T_555fe_row10_col6\" class=\"data row10 col6\" >0.1719</td>\n",
              "      <td id=\"T_555fe_row10_col7\" class=\"data row10 col7\" >0.1840</td>\n",
              "      <td id=\"T_555fe_row10_col8\" class=\"data row10 col8\" >0.6910</td>\n",
              "    </tr>\n",
              "    <tr>\n",
              "      <th id=\"T_555fe_level0_row11\" class=\"row_heading level0 row11\" >ridge</th>\n",
              "      <td id=\"T_555fe_row11_col0\" class=\"data row11 col0\" >Ridge Classifier</td>\n",
              "      <td id=\"T_555fe_row11_col1\" class=\"data row11 col1\" >0.8146</td>\n",
              "      <td id=\"T_555fe_row11_col2\" class=\"data row11 col2\" >0.0000</td>\n",
              "      <td id=\"T_555fe_row11_col3\" class=\"data row11 col3\" >0.5397</td>\n",
              "      <td id=\"T_555fe_row11_col4\" class=\"data row11 col4\" >0.2417</td>\n",
              "      <td id=\"T_555fe_row11_col5\" class=\"data row11 col5\" >0.3319</td>\n",
              "      <td id=\"T_555fe_row11_col6\" class=\"data row11 col6\" >0.2436</td>\n",
              "      <td id=\"T_555fe_row11_col7\" class=\"data row11 col7\" >0.2706</td>\n",
              "      <td id=\"T_555fe_row11_col8\" class=\"data row11 col8\" >0.8380</td>\n",
              "    </tr>\n",
              "    <tr>\n",
              "      <th id=\"T_555fe_level0_row12\" class=\"row_heading level0 row12\" >lda</th>\n",
              "      <td id=\"T_555fe_row12_col0\" class=\"data row12 col0\" >Linear Discriminant Analysis</td>\n",
              "      <td id=\"T_555fe_row12_col1\" class=\"data row12 col1\" >0.8098</td>\n",
              "      <td id=\"T_555fe_row12_col2\" class=\"data row12 col2\" >0.7609</td>\n",
              "      <td id=\"T_555fe_row12_col3\" class=\"data row12 col3\" >0.5439</td>\n",
              "      <td id=\"T_555fe_row12_col4\" class=\"data row12 col4\" >0.2362</td>\n",
              "      <td id=\"T_555fe_row12_col5\" class=\"data row12 col5\" >0.3275</td>\n",
              "      <td id=\"T_555fe_row12_col6\" class=\"data row12 col6\" >0.2378</td>\n",
              "      <td id=\"T_555fe_row12_col7\" class=\"data row12 col7\" >0.2663</td>\n",
              "      <td id=\"T_555fe_row12_col8\" class=\"data row12 col8\" >0.6830</td>\n",
              "    </tr>\n",
              "    <tr>\n",
              "      <th id=\"T_555fe_level0_row13\" class=\"row_heading level0 row13\" >nb</th>\n",
              "      <td id=\"T_555fe_row13_col0\" class=\"data row13 col0\" >Naive Bayes</td>\n",
              "      <td id=\"T_555fe_row13_col1\" class=\"data row13 col1\" >0.6208</td>\n",
              "      <td id=\"T_555fe_row13_col2\" class=\"data row13 col2\" >0.6159</td>\n",
              "      <td id=\"T_555fe_row13_col3\" class=\"data row13 col3\" >0.5749</td>\n",
              "      <td id=\"T_555fe_row13_col4\" class=\"data row13 col4\" >0.1235</td>\n",
              "      <td id=\"T_555fe_row13_col5\" class=\"data row13 col5\" >0.2033</td>\n",
              "      <td id=\"T_555fe_row13_col6\" class=\"data row13 col6\" >0.0751</td>\n",
              "      <td id=\"T_555fe_row13_col7\" class=\"data row13 col7\" >0.1137</td>\n",
              "      <td id=\"T_555fe_row13_col8\" class=\"data row13 col8\" >0.6840</td>\n",
              "    </tr>\n",
              "    <tr>\n",
              "      <th id=\"T_555fe_level0_row14\" class=\"row_heading level0 row14\" >knn</th>\n",
              "      <td id=\"T_555fe_row14_col0\" class=\"data row14 col0\" >K Neighbors Classifier</td>\n",
              "      <td id=\"T_555fe_row14_col1\" class=\"data row14 col1\" >0.4885</td>\n",
              "      <td id=\"T_555fe_row14_col2\" class=\"data row14 col2\" >0.7595</td>\n",
              "      <td id=\"T_555fe_row14_col3\" class=\"data row14 col3\" >0.8992</td>\n",
              "      <td id=\"T_555fe_row14_col4\" class=\"data row14 col4\" >0.1309</td>\n",
              "      <td id=\"T_555fe_row14_col5\" class=\"data row14 col5\" >0.2285</td>\n",
              "      <td id=\"T_555fe_row14_col6\" class=\"data row14 col6\" >0.0956</td>\n",
              "      <td id=\"T_555fe_row14_col7\" class=\"data row14 col7\" >0.1972</td>\n",
              "      <td id=\"T_555fe_row14_col8\" class=\"data row14 col8\" >1.1280</td>\n",
              "    </tr>\n",
              "  </tbody>\n",
              "</table>\n"
            ]
          },
          "metadata": {}
        },
        {
          "output_type": "display_data",
          "data": {
            "text/plain": [
              "Processing:   0%|          | 0/65 [00:00<?, ?it/s]"
            ],
            "application/vnd.jupyter.widget-view+json": {
              "version_major": 2,
              "version_minor": 0,
              "model_id": "dae90a37931e4a75af1f5aa95bfe977a"
            }
          },
          "metadata": {
            "application/vnd.jupyter.widget-view+json": {
              "colab": {
                "custom_widget_manager": {
                  "url": "https://ssl.gstatic.com/colaboratory-static/widgets/colab-cdn-widget-manager/b3e629b1971e1542/manager.min.js"
                }
              }
            }
          }
        },
        {
          "output_type": "display_data",
          "data": {
            "text/plain": [
              "<IPython.core.display.HTML object>"
            ],
            "text/html": []
          },
          "metadata": {}
        }
      ]
    },
    {
      "cell_type": "code",
      "source": [
        "SMOTE_results = pull()"
      ],
      "metadata": {
        "id": "3aX9kyGjlEAy"
      },
      "execution_count": null,
      "outputs": []
    },
    {
      "cell_type": "markdown",
      "source": [
        "### XGBoost"
      ],
      "metadata": {
        "id": "VfptWAL5txZ2"
      }
    },
    {
      "cell_type": "code",
      "source": [
        "# create an Extreme Gradient Boosting model\n",
        "xgboost = create_model('xgboost')\n",
        "tuned_xgboost = tune_model(xgboost)"
      ],
      "metadata": {
        "colab": {
          "base_uri": "https://localhost:8080/",
          "height": 941,
          "referenced_widgets": [
            "ad76fe93a26341319cecff50e70cf7e2",
            "853d557fe8544641b415f5d4352ed385",
            "61502b75234246cca6095cce034f7e22",
            "1720066798da4f078bc5258510c83a92",
            "8dc08b3440e946869cd8236b69b32b03",
            "be8e6c269f5149a88c22cd154c2a3be3",
            "7f5465c9a6294f6e9cf9e6d398dc0137",
            "c778e665290b46da9260bd331f5431d3",
            "ae38bd122f644a058c081aa9c50d146f",
            "ee4ea5375ee74a0eb90a3de2b4d4f0c1",
            "f88bf1b66d314f9a996af1906e194b84",
            "ab61b2df2cd945f3ad6d32246834d229",
            "3ee022dbe71f437fafcb4769b908f10b",
            "1fe5af88e08047299f190b3e9ef49b2e",
            "5522c767896e46bdb80d76d0cbb63c7c",
            "68c926b349494f19a18c04fbe8836f86",
            "4cfe773eb9ca467e86e2b5c502cf6ef5",
            "db30c7bd139c4a29b373a71d9043dae6",
            "b1d5758174e2467498dfabd470aaf45b",
            "9cae9c7aaf404afdb1f9bf349ae56338",
            "c5ca2ad55451400b9cbb8db0491fc125",
            "0ec94c4cb74e49538aa41bbe29dad371"
          ]
        },
        "id": "51ytJsk8BmEZ",
        "outputId": "e06f3af1-788d-410c-db8d-b4f5ffdcc7a8"
      },
      "execution_count": null,
      "outputs": [
        {
          "output_type": "display_data",
          "data": {
            "text/plain": [
              "<IPython.core.display.HTML object>"
            ],
            "text/html": []
          },
          "metadata": {}
        },
        {
          "output_type": "display_data",
          "data": {
            "text/plain": [
              "<pandas.io.formats.style.Styler at 0x7f5ff0356d90>"
            ],
            "text/html": [
              "<style type=\"text/css\">\n",
              "#T_3cb73_row10_col0, #T_3cb73_row10_col1, #T_3cb73_row10_col2, #T_3cb73_row10_col3, #T_3cb73_row10_col4, #T_3cb73_row10_col5, #T_3cb73_row10_col6 {\n",
              "  background: yellow;\n",
              "}\n",
              "</style>\n",
              "<table id=\"T_3cb73\" class=\"dataframe\">\n",
              "  <thead>\n",
              "    <tr>\n",
              "      <th class=\"blank level0\" >&nbsp;</th>\n",
              "      <th id=\"T_3cb73_level0_col0\" class=\"col_heading level0 col0\" >Accuracy</th>\n",
              "      <th id=\"T_3cb73_level0_col1\" class=\"col_heading level0 col1\" >AUC</th>\n",
              "      <th id=\"T_3cb73_level0_col2\" class=\"col_heading level0 col2\" >Recall</th>\n",
              "      <th id=\"T_3cb73_level0_col3\" class=\"col_heading level0 col3\" >Prec.</th>\n",
              "      <th id=\"T_3cb73_level0_col4\" class=\"col_heading level0 col4\" >F1</th>\n",
              "      <th id=\"T_3cb73_level0_col5\" class=\"col_heading level0 col5\" >Kappa</th>\n",
              "      <th id=\"T_3cb73_level0_col6\" class=\"col_heading level0 col6\" >MCC</th>\n",
              "    </tr>\n",
              "    <tr>\n",
              "      <th class=\"index_name level0\" >Fold</th>\n",
              "      <th class=\"blank col0\" >&nbsp;</th>\n",
              "      <th class=\"blank col1\" >&nbsp;</th>\n",
              "      <th class=\"blank col2\" >&nbsp;</th>\n",
              "      <th class=\"blank col3\" >&nbsp;</th>\n",
              "      <th class=\"blank col4\" >&nbsp;</th>\n",
              "      <th class=\"blank col5\" >&nbsp;</th>\n",
              "      <th class=\"blank col6\" >&nbsp;</th>\n",
              "    </tr>\n",
              "  </thead>\n",
              "  <tbody>\n",
              "    <tr>\n",
              "      <th id=\"T_3cb73_level0_row0\" class=\"row_heading level0 row0\" >0</th>\n",
              "      <td id=\"T_3cb73_row0_col0\" class=\"data row0 col0\" >0.9225</td>\n",
              "      <td id=\"T_3cb73_row0_col1\" class=\"data row0 col1\" >0.8545</td>\n",
              "      <td id=\"T_3cb73_row0_col2\" class=\"data row0 col2\" >0.4348</td>\n",
              "      <td id=\"T_3cb73_row0_col3\" class=\"data row0 col3\" >0.5556</td>\n",
              "      <td id=\"T_3cb73_row0_col4\" class=\"data row0 col4\" >0.4878</td>\n",
              "      <td id=\"T_3cb73_row0_col5\" class=\"data row0 col5\" >0.4466</td>\n",
              "      <td id=\"T_3cb73_row0_col6\" class=\"data row0 col6\" >0.4505</td>\n",
              "    </tr>\n",
              "    <tr>\n",
              "      <th id=\"T_3cb73_level0_row1\" class=\"row_heading level0 row1\" >1</th>\n",
              "      <td id=\"T_3cb73_row1_col0\" class=\"data row1 col0\" >0.9151</td>\n",
              "      <td id=\"T_3cb73_row1_col1\" class=\"data row1 col1\" >0.8191</td>\n",
              "      <td id=\"T_3cb73_row1_col2\" class=\"data row1 col2\" >0.2609</td>\n",
              "      <td id=\"T_3cb73_row1_col3\" class=\"data row1 col3\" >0.5000</td>\n",
              "      <td id=\"T_3cb73_row1_col4\" class=\"data row1 col4\" >0.3429</td>\n",
              "      <td id=\"T_3cb73_row1_col5\" class=\"data row1 col5\" >0.3023</td>\n",
              "      <td id=\"T_3cb73_row1_col6\" class=\"data row1 col6\" >0.3206</td>\n",
              "    </tr>\n",
              "    <tr>\n",
              "      <th id=\"T_3cb73_level0_row2\" class=\"row_heading level0 row2\" >2</th>\n",
              "      <td id=\"T_3cb73_row2_col0\" class=\"data row2 col0\" >0.9299</td>\n",
              "      <td id=\"T_3cb73_row2_col1\" class=\"data row2 col1\" >0.8387</td>\n",
              "      <td id=\"T_3cb73_row2_col2\" class=\"data row2 col2\" >0.4348</td>\n",
              "      <td id=\"T_3cb73_row2_col3\" class=\"data row2 col3\" >0.6250</td>\n",
              "      <td id=\"T_3cb73_row2_col4\" class=\"data row2 col4\" >0.5128</td>\n",
              "      <td id=\"T_3cb73_row2_col5\" class=\"data row2 col5\" >0.4764</td>\n",
              "      <td id=\"T_3cb73_row2_col6\" class=\"data row2 col6\" >0.4855</td>\n",
              "    </tr>\n",
              "    <tr>\n",
              "      <th id=\"T_3cb73_level0_row3\" class=\"row_heading level0 row3\" >3</th>\n",
              "      <td id=\"T_3cb73_row3_col0\" class=\"data row3 col0\" >0.9151</td>\n",
              "      <td id=\"T_3cb73_row3_col1\" class=\"data row3 col1\" >0.7966</td>\n",
              "      <td id=\"T_3cb73_row3_col2\" class=\"data row3 col2\" >0.1739</td>\n",
              "      <td id=\"T_3cb73_row3_col3\" class=\"data row3 col3\" >0.5000</td>\n",
              "      <td id=\"T_3cb73_row3_col4\" class=\"data row3 col4\" >0.2581</td>\n",
              "      <td id=\"T_3cb73_row3_col5\" class=\"data row3 col5\" >0.2241</td>\n",
              "      <td id=\"T_3cb73_row3_col6\" class=\"data row3 col6\" >0.2598</td>\n",
              "    </tr>\n",
              "    <tr>\n",
              "      <th id=\"T_3cb73_level0_row4\" class=\"row_heading level0 row4\" >4</th>\n",
              "      <td id=\"T_3cb73_row4_col0\" class=\"data row4 col0\" >0.9151</td>\n",
              "      <td id=\"T_3cb73_row4_col1\" class=\"data row4 col1\" >0.8303</td>\n",
              "      <td id=\"T_3cb73_row4_col2\" class=\"data row4 col2\" >0.3913</td>\n",
              "      <td id=\"T_3cb73_row4_col3\" class=\"data row4 col3\" >0.5000</td>\n",
              "      <td id=\"T_3cb73_row4_col4\" class=\"data row4 col4\" >0.4390</td>\n",
              "      <td id=\"T_3cb73_row4_col5\" class=\"data row4 col5\" >0.3939</td>\n",
              "      <td id=\"T_3cb73_row4_col6\" class=\"data row4 col6\" >0.3973</td>\n",
              "    </tr>\n",
              "    <tr>\n",
              "      <th id=\"T_3cb73_level0_row5\" class=\"row_heading level0 row5\" >5</th>\n",
              "      <td id=\"T_3cb73_row5_col0\" class=\"data row5 col0\" >0.9041</td>\n",
              "      <td id=\"T_3cb73_row5_col1\" class=\"data row5 col1\" >0.7663</td>\n",
              "      <td id=\"T_3cb73_row5_col2\" class=\"data row5 col2\" >0.2609</td>\n",
              "      <td id=\"T_3cb73_row5_col3\" class=\"data row5 col3\" >0.4000</td>\n",
              "      <td id=\"T_3cb73_row5_col4\" class=\"data row5 col4\" >0.3158</td>\n",
              "      <td id=\"T_3cb73_row5_col5\" class=\"data row5 col5\" >0.2667</td>\n",
              "      <td id=\"T_3cb73_row5_col6\" class=\"data row5 col6\" >0.2737</td>\n",
              "    </tr>\n",
              "    <tr>\n",
              "      <th id=\"T_3cb73_level0_row6\" class=\"row_heading level0 row6\" >6</th>\n",
              "      <td id=\"T_3cb73_row6_col0\" class=\"data row6 col0\" >0.9151</td>\n",
              "      <td id=\"T_3cb73_row6_col1\" class=\"data row6 col1\" >0.8845</td>\n",
              "      <td id=\"T_3cb73_row6_col2\" class=\"data row6 col2\" >0.2609</td>\n",
              "      <td id=\"T_3cb73_row6_col3\" class=\"data row6 col3\" >0.5000</td>\n",
              "      <td id=\"T_3cb73_row6_col4\" class=\"data row6 col4\" >0.3429</td>\n",
              "      <td id=\"T_3cb73_row6_col5\" class=\"data row6 col5\" >0.3023</td>\n",
              "      <td id=\"T_3cb73_row6_col6\" class=\"data row6 col6\" >0.3206</td>\n",
              "    </tr>\n",
              "    <tr>\n",
              "      <th id=\"T_3cb73_level0_row7\" class=\"row_heading level0 row7\" >7</th>\n",
              "      <td id=\"T_3cb73_row7_col0\" class=\"data row7 col0\" >0.9410</td>\n",
              "      <td id=\"T_3cb73_row7_col1\" class=\"data row7 col1\" >0.8501</td>\n",
              "      <td id=\"T_3cb73_row7_col2\" class=\"data row7 col2\" >0.5652</td>\n",
              "      <td id=\"T_3cb73_row7_col3\" class=\"data row7 col3\" >0.6842</td>\n",
              "      <td id=\"T_3cb73_row7_col4\" class=\"data row7 col4\" >0.6190</td>\n",
              "      <td id=\"T_3cb73_row7_col5\" class=\"data row7 col5\" >0.5874</td>\n",
              "      <td id=\"T_3cb73_row7_col6\" class=\"data row7 col6\" >0.5905</td>\n",
              "    </tr>\n",
              "    <tr>\n",
              "      <th id=\"T_3cb73_level0_row8\" class=\"row_heading level0 row8\" >8</th>\n",
              "      <td id=\"T_3cb73_row8_col0\" class=\"data row8 col0\" >0.9519</td>\n",
              "      <td id=\"T_3cb73_row8_col1\" class=\"data row8 col1\" >0.9426</td>\n",
              "      <td id=\"T_3cb73_row8_col2\" class=\"data row8 col2\" >0.5455</td>\n",
              "      <td id=\"T_3cb73_row8_col3\" class=\"data row8 col3\" >0.8000</td>\n",
              "      <td id=\"T_3cb73_row8_col4\" class=\"data row8 col4\" >0.6486</td>\n",
              "      <td id=\"T_3cb73_row8_col5\" class=\"data row8 col5\" >0.6238</td>\n",
              "      <td id=\"T_3cb73_row8_col6\" class=\"data row8 col6\" >0.6370</td>\n",
              "    </tr>\n",
              "    <tr>\n",
              "      <th id=\"T_3cb73_level0_row9\" class=\"row_heading level0 row9\" >9</th>\n",
              "      <td id=\"T_3cb73_row9_col0\" class=\"data row9 col0\" >0.9407</td>\n",
              "      <td id=\"T_3cb73_row9_col1\" class=\"data row9 col1\" >0.9124</td>\n",
              "      <td id=\"T_3cb73_row9_col2\" class=\"data row9 col2\" >0.4545</td>\n",
              "      <td id=\"T_3cb73_row9_col3\" class=\"data row9 col3\" >0.7143</td>\n",
              "      <td id=\"T_3cb73_row9_col4\" class=\"data row9 col4\" >0.5556</td>\n",
              "      <td id=\"T_3cb73_row9_col5\" class=\"data row9 col5\" >0.5255</td>\n",
              "      <td id=\"T_3cb73_row9_col6\" class=\"data row9 col6\" >0.5409</td>\n",
              "    </tr>\n",
              "    <tr>\n",
              "      <th id=\"T_3cb73_level0_row10\" class=\"row_heading level0 row10\" >Mean</th>\n",
              "      <td id=\"T_3cb73_row10_col0\" class=\"data row10 col0\" >0.9251</td>\n",
              "      <td id=\"T_3cb73_row10_col1\" class=\"data row10 col1\" >0.8495</td>\n",
              "      <td id=\"T_3cb73_row10_col2\" class=\"data row10 col2\" >0.3783</td>\n",
              "      <td id=\"T_3cb73_row10_col3\" class=\"data row10 col3\" >0.5779</td>\n",
              "      <td id=\"T_3cb73_row10_col4\" class=\"data row10 col4\" >0.4522</td>\n",
              "      <td id=\"T_3cb73_row10_col5\" class=\"data row10 col5\" >0.4149</td>\n",
              "      <td id=\"T_3cb73_row10_col6\" class=\"data row10 col6\" >0.4276</td>\n",
              "    </tr>\n",
              "    <tr>\n",
              "      <th id=\"T_3cb73_level0_row11\" class=\"row_heading level0 row11\" >Std</th>\n",
              "      <td id=\"T_3cb73_row11_col0\" class=\"data row11 col0\" >0.0144</td>\n",
              "      <td id=\"T_3cb73_row11_col1\" class=\"data row11 col1\" >0.0500</td>\n",
              "      <td id=\"T_3cb73_row11_col2\" class=\"data row11 col2\" >0.1259</td>\n",
              "      <td id=\"T_3cb73_row11_col3\" class=\"data row11 col3\" >0.1174</td>\n",
              "      <td id=\"T_3cb73_row11_col4\" class=\"data row11 col4\" >0.1275</td>\n",
              "      <td id=\"T_3cb73_row11_col5\" class=\"data row11 col5\" >0.1321</td>\n",
              "      <td id=\"T_3cb73_row11_col6\" class=\"data row11 col6\" >0.1276</td>\n",
              "    </tr>\n",
              "  </tbody>\n",
              "</table>\n"
            ]
          },
          "metadata": {}
        },
        {
          "output_type": "display_data",
          "data": {
            "text/plain": [
              "Processing:   0%|          | 0/4 [00:00<?, ?it/s]"
            ],
            "application/vnd.jupyter.widget-view+json": {
              "version_major": 2,
              "version_minor": 0,
              "model_id": "ad76fe93a26341319cecff50e70cf7e2"
            }
          },
          "metadata": {
            "application/vnd.jupyter.widget-view+json": {
              "colab": {
                "custom_widget_manager": {
                  "url": "https://ssl.gstatic.com/colaboratory-static/widgets/colab-cdn-widget-manager/b3e629b1971e1542/manager.min.js"
                }
              }
            }
          }
        },
        {
          "output_type": "display_data",
          "data": {
            "text/plain": [
              "<IPython.core.display.HTML object>"
            ],
            "text/html": []
          },
          "metadata": {}
        },
        {
          "output_type": "display_data",
          "data": {
            "text/plain": [
              "<IPython.core.display.HTML object>"
            ],
            "text/html": []
          },
          "metadata": {}
        },
        {
          "output_type": "display_data",
          "data": {
            "text/plain": [
              "<pandas.io.formats.style.Styler at 0x7f5ff0463bb0>"
            ],
            "text/html": [
              "<style type=\"text/css\">\n",
              "#T_5a43b_row10_col0, #T_5a43b_row10_col1, #T_5a43b_row10_col2, #T_5a43b_row10_col3, #T_5a43b_row10_col4, #T_5a43b_row10_col5, #T_5a43b_row10_col6 {\n",
              "  background: yellow;\n",
              "}\n",
              "</style>\n",
              "<table id=\"T_5a43b\" class=\"dataframe\">\n",
              "  <thead>\n",
              "    <tr>\n",
              "      <th class=\"blank level0\" >&nbsp;</th>\n",
              "      <th id=\"T_5a43b_level0_col0\" class=\"col_heading level0 col0\" >Accuracy</th>\n",
              "      <th id=\"T_5a43b_level0_col1\" class=\"col_heading level0 col1\" >AUC</th>\n",
              "      <th id=\"T_5a43b_level0_col2\" class=\"col_heading level0 col2\" >Recall</th>\n",
              "      <th id=\"T_5a43b_level0_col3\" class=\"col_heading level0 col3\" >Prec.</th>\n",
              "      <th id=\"T_5a43b_level0_col4\" class=\"col_heading level0 col4\" >F1</th>\n",
              "      <th id=\"T_5a43b_level0_col5\" class=\"col_heading level0 col5\" >Kappa</th>\n",
              "      <th id=\"T_5a43b_level0_col6\" class=\"col_heading level0 col6\" >MCC</th>\n",
              "    </tr>\n",
              "    <tr>\n",
              "      <th class=\"index_name level0\" >Fold</th>\n",
              "      <th class=\"blank col0\" >&nbsp;</th>\n",
              "      <th class=\"blank col1\" >&nbsp;</th>\n",
              "      <th class=\"blank col2\" >&nbsp;</th>\n",
              "      <th class=\"blank col3\" >&nbsp;</th>\n",
              "      <th class=\"blank col4\" >&nbsp;</th>\n",
              "      <th class=\"blank col5\" >&nbsp;</th>\n",
              "      <th class=\"blank col6\" >&nbsp;</th>\n",
              "    </tr>\n",
              "  </thead>\n",
              "  <tbody>\n",
              "    <tr>\n",
              "      <th id=\"T_5a43b_level0_row0\" class=\"row_heading level0 row0\" >0</th>\n",
              "      <td id=\"T_5a43b_row0_col0\" class=\"data row0 col0\" >0.9004</td>\n",
              "      <td id=\"T_5a43b_row0_col1\" class=\"data row0 col1\" >0.8434</td>\n",
              "      <td id=\"T_5a43b_row0_col2\" class=\"data row0 col2\" >0.5217</td>\n",
              "      <td id=\"T_5a43b_row0_col3\" class=\"data row0 col3\" >0.4286</td>\n",
              "      <td id=\"T_5a43b_row0_col4\" class=\"data row0 col4\" >0.4706</td>\n",
              "      <td id=\"T_5a43b_row0_col5\" class=\"data row0 col5\" >0.4162</td>\n",
              "      <td id=\"T_5a43b_row0_col6\" class=\"data row0 col6\" >0.4186</td>\n",
              "    </tr>\n",
              "    <tr>\n",
              "      <th id=\"T_5a43b_level0_row1\" class=\"row_heading level0 row1\" >1</th>\n",
              "      <td id=\"T_5a43b_row1_col0\" class=\"data row1 col0\" >0.8413</td>\n",
              "      <td id=\"T_5a43b_row1_col1\" class=\"data row1 col1\" >0.7242</td>\n",
              "      <td id=\"T_5a43b_row1_col2\" class=\"data row1 col2\" >0.3043</td>\n",
              "      <td id=\"T_5a43b_row1_col3\" class=\"data row1 col3\" >0.2059</td>\n",
              "      <td id=\"T_5a43b_row1_col4\" class=\"data row1 col4\" >0.2456</td>\n",
              "      <td id=\"T_5a43b_row1_col5\" class=\"data row1 col5\" >0.1606</td>\n",
              "      <td id=\"T_5a43b_row1_col6\" class=\"data row1 col6\" >0.1645</td>\n",
              "    </tr>\n",
              "    <tr>\n",
              "      <th id=\"T_5a43b_level0_row2\" class=\"row_heading level0 row2\" >2</th>\n",
              "      <td id=\"T_5a43b_row2_col0\" class=\"data row2 col0\" >0.9151</td>\n",
              "      <td id=\"T_5a43b_row2_col1\" class=\"data row2 col1\" >0.8347</td>\n",
              "      <td id=\"T_5a43b_row2_col2\" class=\"data row2 col2\" >0.6522</td>\n",
              "      <td id=\"T_5a43b_row2_col3\" class=\"data row2 col3\" >0.5000</td>\n",
              "      <td id=\"T_5a43b_row2_col4\" class=\"data row2 col4\" >0.5660</td>\n",
              "      <td id=\"T_5a43b_row2_col5\" class=\"data row2 col5\" >0.5199</td>\n",
              "      <td id=\"T_5a43b_row2_col6\" class=\"data row2 col6\" >0.5256</td>\n",
              "    </tr>\n",
              "    <tr>\n",
              "      <th id=\"T_5a43b_level0_row3\" class=\"row_heading level0 row3\" >3</th>\n",
              "      <td id=\"T_5a43b_row3_col0\" class=\"data row3 col0\" >0.8930</td>\n",
              "      <td id=\"T_5a43b_row3_col1\" class=\"data row3 col1\" >0.7383</td>\n",
              "      <td id=\"T_5a43b_row3_col2\" class=\"data row3 col2\" >0.3913</td>\n",
              "      <td id=\"T_5a43b_row3_col3\" class=\"data row3 col3\" >0.3750</td>\n",
              "      <td id=\"T_5a43b_row3_col4\" class=\"data row3 col4\" >0.3830</td>\n",
              "      <td id=\"T_5a43b_row3_col5\" class=\"data row3 col5\" >0.3244</td>\n",
              "      <td id=\"T_5a43b_row3_col6\" class=\"data row3 col6\" >0.3245</td>\n",
              "    </tr>\n",
              "    <tr>\n",
              "      <th id=\"T_5a43b_level0_row4\" class=\"row_heading level0 row4\" >4</th>\n",
              "      <td id=\"T_5a43b_row4_col0\" class=\"data row4 col0\" >0.8782</td>\n",
              "      <td id=\"T_5a43b_row4_col1\" class=\"data row4 col1\" >0.7482</td>\n",
              "      <td id=\"T_5a43b_row4_col2\" class=\"data row4 col2\" >0.5652</td>\n",
              "      <td id=\"T_5a43b_row4_col3\" class=\"data row4 col3\" >0.3611</td>\n",
              "      <td id=\"T_5a43b_row4_col4\" class=\"data row4 col4\" >0.4407</td>\n",
              "      <td id=\"T_5a43b_row4_col5\" class=\"data row4 col5\" >0.3761</td>\n",
              "      <td id=\"T_5a43b_row4_col6\" class=\"data row4 col6\" >0.3880</td>\n",
              "    </tr>\n",
              "    <tr>\n",
              "      <th id=\"T_5a43b_level0_row5\" class=\"row_heading level0 row5\" >5</th>\n",
              "      <td id=\"T_5a43b_row5_col0\" class=\"data row5 col0\" >0.8708</td>\n",
              "      <td id=\"T_5a43b_row5_col1\" class=\"data row5 col1\" >0.7670</td>\n",
              "      <td id=\"T_5a43b_row5_col2\" class=\"data row5 col2\" >0.4348</td>\n",
              "      <td id=\"T_5a43b_row5_col3\" class=\"data row5 col3\" >0.3125</td>\n",
              "      <td id=\"T_5a43b_row5_col4\" class=\"data row5 col4\" >0.3636</td>\n",
              "      <td id=\"T_5a43b_row5_col5\" class=\"data row5 col5\" >0.2939</td>\n",
              "      <td id=\"T_5a43b_row5_col6\" class=\"data row5 col6\" >0.2989</td>\n",
              "    </tr>\n",
              "    <tr>\n",
              "      <th id=\"T_5a43b_level0_row6\" class=\"row_heading level0 row6\" >6</th>\n",
              "      <td id=\"T_5a43b_row6_col0\" class=\"data row6 col0\" >0.8782</td>\n",
              "      <td id=\"T_5a43b_row6_col1\" class=\"data row6 col1\" >0.8443</td>\n",
              "      <td id=\"T_5a43b_row6_col2\" class=\"data row6 col2\" >0.3478</td>\n",
              "      <td id=\"T_5a43b_row6_col3\" class=\"data row6 col3\" >0.3077</td>\n",
              "      <td id=\"T_5a43b_row6_col4\" class=\"data row6 col4\" >0.3265</td>\n",
              "      <td id=\"T_5a43b_row6_col5\" class=\"data row6 col5\" >0.2599</td>\n",
              "      <td id=\"T_5a43b_row6_col6\" class=\"data row6 col6\" >0.2605</td>\n",
              "    </tr>\n",
              "    <tr>\n",
              "      <th id=\"T_5a43b_level0_row7\" class=\"row_heading level0 row7\" >7</th>\n",
              "      <td id=\"T_5a43b_row7_col0\" class=\"data row7 col0\" >0.9041</td>\n",
              "      <td id=\"T_5a43b_row7_col1\" class=\"data row7 col1\" >0.8541</td>\n",
              "      <td id=\"T_5a43b_row7_col2\" class=\"data row7 col2\" >0.6522</td>\n",
              "      <td id=\"T_5a43b_row7_col3\" class=\"data row7 col3\" >0.4545</td>\n",
              "      <td id=\"T_5a43b_row7_col4\" class=\"data row7 col4\" >0.5357</td>\n",
              "      <td id=\"T_5a43b_row7_col5\" class=\"data row7 col5\" >0.4841</td>\n",
              "      <td id=\"T_5a43b_row7_col6\" class=\"data row7 col6\" >0.4939</td>\n",
              "    </tr>\n",
              "    <tr>\n",
              "      <th id=\"T_5a43b_level0_row8\" class=\"row_heading level0 row8\" >8</th>\n",
              "      <td id=\"T_5a43b_row8_col0\" class=\"data row8 col0\" >0.9074</td>\n",
              "      <td id=\"T_5a43b_row8_col1\" class=\"data row8 col1\" >0.9329</td>\n",
              "      <td id=\"T_5a43b_row8_col2\" class=\"data row8 col2\" >0.7727</td>\n",
              "      <td id=\"T_5a43b_row8_col3\" class=\"data row8 col3\" >0.4595</td>\n",
              "      <td id=\"T_5a43b_row8_col4\" class=\"data row8 col4\" >0.5763</td>\n",
              "      <td id=\"T_5a43b_row8_col5\" class=\"data row8 col5\" >0.5280</td>\n",
              "      <td id=\"T_5a43b_row8_col6\" class=\"data row8 col6\" >0.5506</td>\n",
              "    </tr>\n",
              "    <tr>\n",
              "      <th id=\"T_5a43b_level0_row9\" class=\"row_heading level0 row9\" >9</th>\n",
              "      <td id=\"T_5a43b_row9_col0\" class=\"data row9 col0\" >0.8963</td>\n",
              "      <td id=\"T_5a43b_row9_col1\" class=\"data row9 col1\" >0.8140</td>\n",
              "      <td id=\"T_5a43b_row9_col2\" class=\"data row9 col2\" >0.5909</td>\n",
              "      <td id=\"T_5a43b_row9_col3\" class=\"data row9 col3\" >0.4062</td>\n",
              "      <td id=\"T_5a43b_row9_col4\" class=\"data row9 col4\" >0.4815</td>\n",
              "      <td id=\"T_5a43b_row9_col5\" class=\"data row9 col5\" >0.4261</td>\n",
              "      <td id=\"T_5a43b_row9_col6\" class=\"data row9 col6\" >0.4353</td>\n",
              "    </tr>\n",
              "    <tr>\n",
              "      <th id=\"T_5a43b_level0_row10\" class=\"row_heading level0 row10\" >Mean</th>\n",
              "      <td id=\"T_5a43b_row10_col0\" class=\"data row10 col0\" >0.8885</td>\n",
              "      <td id=\"T_5a43b_row10_col1\" class=\"data row10 col1\" >0.8101</td>\n",
              "      <td id=\"T_5a43b_row10_col2\" class=\"data row10 col2\" >0.5233</td>\n",
              "      <td id=\"T_5a43b_row10_col3\" class=\"data row10 col3\" >0.3811</td>\n",
              "      <td id=\"T_5a43b_row10_col4\" class=\"data row10 col4\" >0.4390</td>\n",
              "      <td id=\"T_5a43b_row10_col5\" class=\"data row10 col5\" >0.3789</td>\n",
              "      <td id=\"T_5a43b_row10_col6\" class=\"data row10 col6\" >0.3860</td>\n",
              "    </tr>\n",
              "    <tr>\n",
              "      <th id=\"T_5a43b_level0_row11\" class=\"row_heading level0 row11\" >Std</th>\n",
              "      <td id=\"T_5a43b_row11_col0\" class=\"data row11 col0\" >0.0207</td>\n",
              "      <td id=\"T_5a43b_row11_col1\" class=\"data row11 col1\" >0.0618</td>\n",
              "      <td id=\"T_5a43b_row11_col2\" class=\"data row11 col2\" >0.1434</td>\n",
              "      <td id=\"T_5a43b_row11_col3\" class=\"data row11 col3\" >0.0835</td>\n",
              "      <td id=\"T_5a43b_row11_col4\" class=\"data row11 col4\" >0.1030</td>\n",
              "      <td id=\"T_5a43b_row11_col5\" class=\"data row11 col5\" >0.1135</td>\n",
              "      <td id=\"T_5a43b_row11_col6\" class=\"data row11 col6\" >0.1174</td>\n",
              "    </tr>\n",
              "  </tbody>\n",
              "</table>\n"
            ]
          },
          "metadata": {}
        },
        {
          "output_type": "display_data",
          "data": {
            "text/plain": [
              "Processing:   0%|          | 0/7 [00:00<?, ?it/s]"
            ],
            "application/vnd.jupyter.widget-view+json": {
              "version_major": 2,
              "version_minor": 0,
              "model_id": "0ec94c4cb74e49538aa41bbe29dad371"
            }
          },
          "metadata": {
            "application/vnd.jupyter.widget-view+json": {
              "colab": {
                "custom_widget_manager": {
                  "url": "https://ssl.gstatic.com/colaboratory-static/widgets/colab-cdn-widget-manager/b3e629b1971e1542/manager.min.js"
                }
              }
            }
          }
        },
        {
          "output_type": "stream",
          "name": "stdout",
          "text": [
            "Fitting 10 folds for each of 10 candidates, totalling 100 fits\n"
          ]
        },
        {
          "output_type": "display_data",
          "data": {
            "text/plain": [
              "<IPython.core.display.HTML object>"
            ],
            "text/html": []
          },
          "metadata": {}
        },
        {
          "output_type": "stream",
          "name": "stdout",
          "text": [
            "Original model was better than the tuned model, hence it will be returned. NOTE: The display metrics are for the tuned model (not the original one).\n"
          ]
        }
      ]
    },
    {
      "cell_type": "code",
      "source": [
        "def ploting(model, train=False):\n",
        "  plot_model(model, plot='confusion_matrix', use_train_data=train)\n",
        "  plot_model(model, plot = 'class_report', use_train_data=train)\n",
        "  plot_model(model, plot='confusion_matrix', use_train_data=train)\n",
        "  plot_model(model, plot = 'auc', use_train_data=train)\n",
        "  plot_model(model, plot = 'pr', use_train_data=train)"
      ],
      "metadata": {
        "id": "828UCro68SXT"
      },
      "execution_count": null,
      "outputs": []
    },
    {
      "cell_type": "code",
      "source": [
        "plot_model(best_SMOTE, plot = 'class_report')\n",
        "plot_model(best_SMOTE, plot='confusion_matrix')\n",
        "plot_model(best_SMOTE, plot = 'auc')\n",
        "plot_model(best_SMOTE, plot = 'pr')"
      ],
      "metadata": {
        "colab": {
          "base_uri": "https://localhost:8080/",
          "height": 1000
        },
        "id": "HyfLCkYr6h60",
        "outputId": "f3953e51-043d-4641-b65a-07d697594faf"
      },
      "execution_count": null,
      "outputs": [
        {
          "output_type": "display_data",
          "data": {
            "text/plain": [
              "<IPython.core.display.HTML object>"
            ],
            "text/html": []
          },
          "metadata": {}
        },
        {
          "output_type": "display_data",
          "data": {
            "text/plain": [
              "<Figure size 800x550 with 2 Axes>"
            ],
            "image/png": "[encoded data removed]"
          },
          "metadata": {}
        },
        {
          "output_type": "display_data",
          "data": {
            "text/plain": [
              "<IPython.core.display.HTML object>"
            ],
            "text/html": []
          },
          "metadata": {}
        },
        {
          "output_type": "display_data",
          "data": {
            "text/plain": [
              "<Figure size 800x550 with 1 Axes>"
            ],
            "image/png": "[encoded data removed]"
          },
          "metadata": {}
        },
        {
          "output_type": "display_data",
          "data": {
            "text/plain": [
              "<IPython.core.display.HTML object>"
            ],
            "text/html": []
          },
          "metadata": {}
        },
        {
          "output_type": "display_data",
          "data": {
            "text/plain": [
              "<Figure size 800x550 with 1 Axes>"
            ],
            "image/png": "[encoded data removed]"
          },
          "metadata": {}
        },
        {
          "output_type": "display_data",
          "data": {
            "text/plain": [
              "<IPython.core.display.HTML object>"
            ],
            "text/html": []
          },
          "metadata": {}
        },
        {
          "output_type": "display_data",
          "data": {
            "text/plain": [
              "<Figure size 800x550 with 1 Axes>"
            ],
            "image/png": "[encoded data removed]"
          },
          "metadata": {}
        }
      ]
    },
    {
      "cell_type": "code",
      "source": [
        "# uncomment and run this if you did not run the previous training cell\n",
        "# and want to speed up the process by creating the default\n",
        "# xgboost = create_model('xgboost')"
      ],
      "metadata": {
        "colab": {
          "base_uri": "https://localhost:8080/",
          "height": 457,
          "referenced_widgets": [
            "60103adc8e45462fbd1fbab80f767b47",
            "7ad8e227789f4dfeb34de3bb957835d8",
            "90ea87f7ef1d4c449fdc1dbde51fcb47",
            "a53ad06bb84d4137952dbce4a43efa6e",
            "758be06993e447e0802f4a7a249d14de",
            "3934bf3c17a14139a39f0acb20612de7",
            "57f06f6d1d3443f3b690e954b1d3ae23",
            "f0facf3cb9814d9d8c1a15f35de07e45",
            "711ee1fb529543d5a9b303a0ff92f88b",
            "92bc4562f0364112a4d9661c635c65bd",
            "c4e2ddd2f4224a07b11012e073c47d90"
          ]
        },
        "id": "MPYkKqkTZ8L5",
        "outputId": "2a93fa9b-7f69-438a-c41e-b5a6701cfd9b"
      },
      "execution_count": null,
      "outputs": [
        {
          "output_type": "display_data",
          "data": {
            "text/plain": [
              "<IPython.core.display.HTML object>"
            ],
            "text/html": []
          },
          "metadata": {}
        },
        {
          "output_type": "display_data",
          "data": {
            "text/plain": [
              "<pandas.io.formats.style.Styler at 0x7efc94885f10>"
            ],
            "text/html": [
              "<style type=\"text/css\">\n",
              "#T_b29bd_row10_col0, #T_b29bd_row10_col1, #T_b29bd_row10_col2, #T_b29bd_row10_col3, #T_b29bd_row10_col4, #T_b29bd_row10_col5, #T_b29bd_row10_col6 {\n",
              "  background: yellow;\n",
              "}\n",
              "</style>\n",
              "<table id=\"T_b29bd\" class=\"dataframe\">\n",
              "  <thead>\n",
              "    <tr>\n",
              "      <th class=\"blank level0\" >&nbsp;</th>\n",
              "      <th id=\"T_b29bd_level0_col0\" class=\"col_heading level0 col0\" >Accuracy</th>\n",
              "      <th id=\"T_b29bd_level0_col1\" class=\"col_heading level0 col1\" >AUC</th>\n",
              "      <th id=\"T_b29bd_level0_col2\" class=\"col_heading level0 col2\" >Recall</th>\n",
              "      <th id=\"T_b29bd_level0_col3\" class=\"col_heading level0 col3\" >Prec.</th>\n",
              "      <th id=\"T_b29bd_level0_col4\" class=\"col_heading level0 col4\" >F1</th>\n",
              "      <th id=\"T_b29bd_level0_col5\" class=\"col_heading level0 col5\" >Kappa</th>\n",
              "      <th id=\"T_b29bd_level0_col6\" class=\"col_heading level0 col6\" >MCC</th>\n",
              "    </tr>\n",
              "    <tr>\n",
              "      <th class=\"index_name level0\" >Fold</th>\n",
              "      <th class=\"blank col0\" >&nbsp;</th>\n",
              "      <th class=\"blank col1\" >&nbsp;</th>\n",
              "      <th class=\"blank col2\" >&nbsp;</th>\n",
              "      <th class=\"blank col3\" >&nbsp;</th>\n",
              "      <th class=\"blank col4\" >&nbsp;</th>\n",
              "      <th class=\"blank col5\" >&nbsp;</th>\n",
              "      <th class=\"blank col6\" >&nbsp;</th>\n",
              "    </tr>\n",
              "  </thead>\n",
              "  <tbody>\n",
              "    <tr>\n",
              "      <th id=\"T_b29bd_level0_row0\" class=\"row_heading level0 row0\" >0</th>\n",
              "      <td id=\"T_b29bd_row0_col0\" class=\"data row0 col0\" >0.9184</td>\n",
              "      <td id=\"T_b29bd_row0_col1\" class=\"data row0 col1\" >0.7510</td>\n",
              "      <td id=\"T_b29bd_row0_col2\" class=\"data row0 col2\" >0.0000</td>\n",
              "      <td id=\"T_b29bd_row0_col3\" class=\"data row0 col3\" >0.0000</td>\n",
              "      <td id=\"T_b29bd_row0_col4\" class=\"data row0 col4\" >0.0000</td>\n",
              "      <td id=\"T_b29bd_row0_col5\" class=\"data row0 col5\" >0.0000</td>\n",
              "      <td id=\"T_b29bd_row0_col6\" class=\"data row0 col6\" >0.0000</td>\n",
              "    </tr>\n",
              "    <tr>\n",
              "      <th id=\"T_b29bd_level0_row1\" class=\"row_heading level0 row1\" >1</th>\n",
              "      <td id=\"T_b29bd_row1_col0\" class=\"data row1 col0\" >0.9082</td>\n",
              "      <td id=\"T_b29bd_row1_col1\" class=\"data row1 col1\" >0.8482</td>\n",
              "      <td id=\"T_b29bd_row1_col2\" class=\"data row1 col2\" >0.0000</td>\n",
              "      <td id=\"T_b29bd_row1_col3\" class=\"data row1 col3\" >0.0000</td>\n",
              "      <td id=\"T_b29bd_row1_col4\" class=\"data row1 col4\" >0.0000</td>\n",
              "      <td id=\"T_b29bd_row1_col5\" class=\"data row1 col5\" >-0.0097</td>\n",
              "      <td id=\"T_b29bd_row1_col6\" class=\"data row1 col6\" >-0.0221</td>\n",
              "    </tr>\n",
              "    <tr>\n",
              "      <th id=\"T_b29bd_level0_row2\" class=\"row_heading level0 row2\" >2</th>\n",
              "      <td id=\"T_b29bd_row2_col0\" class=\"data row2 col0\" >0.9235</td>\n",
              "      <td id=\"T_b29bd_row2_col1\" class=\"data row2 col1\" >0.8810</td>\n",
              "      <td id=\"T_b29bd_row2_col2\" class=\"data row2 col2\" >0.1765</td>\n",
              "      <td id=\"T_b29bd_row2_col3\" class=\"data row2 col3\" >0.7500</td>\n",
              "      <td id=\"T_b29bd_row2_col4\" class=\"data row2 col4\" >0.2857</td>\n",
              "      <td id=\"T_b29bd_row2_col5\" class=\"data row2 col5\" >0.2613</td>\n",
              "      <td id=\"T_b29bd_row2_col6\" class=\"data row2 col6\" >0.3402</td>\n",
              "    </tr>\n",
              "    <tr>\n",
              "      <th id=\"T_b29bd_level0_row3\" class=\"row_heading level0 row3\" >3</th>\n",
              "      <td id=\"T_b29bd_row3_col0\" class=\"data row3 col0\" >0.9133</td>\n",
              "      <td id=\"T_b29bd_row3_col1\" class=\"data row3 col1\" >0.8199</td>\n",
              "      <td id=\"T_b29bd_row3_col2\" class=\"data row3 col2\" >0.0588</td>\n",
              "      <td id=\"T_b29bd_row3_col3\" class=\"data row3 col3\" >0.5000</td>\n",
              "      <td id=\"T_b29bd_row3_col4\" class=\"data row3 col4\" >0.1053</td>\n",
              "      <td id=\"T_b29bd_row3_col5\" class=\"data row3 col5\" >0.0886</td>\n",
              "      <td id=\"T_b29bd_row3_col6\" class=\"data row3 col6\" >0.1491</td>\n",
              "    </tr>\n",
              "    <tr>\n",
              "      <th id=\"T_b29bd_level0_row4\" class=\"row_heading level0 row4\" >4</th>\n",
              "      <td id=\"T_b29bd_row4_col0\" class=\"data row4 col0\" >0.9184</td>\n",
              "      <td id=\"T_b29bd_row4_col1\" class=\"data row4 col1\" >0.8863</td>\n",
              "      <td id=\"T_b29bd_row4_col2\" class=\"data row4 col2\" >0.1765</td>\n",
              "      <td id=\"T_b29bd_row4_col3\" class=\"data row4 col3\" >0.6000</td>\n",
              "      <td id=\"T_b29bd_row4_col4\" class=\"data row4 col4\" >0.2727</td>\n",
              "      <td id=\"T_b29bd_row4_col5\" class=\"data row4 col5\" >0.2429</td>\n",
              "      <td id=\"T_b29bd_row4_col6\" class=\"data row4 col6\" >0.2951</td>\n",
              "    </tr>\n",
              "    <tr>\n",
              "      <th id=\"T_b29bd_level0_row5\" class=\"row_heading level0 row5\" >5</th>\n",
              "      <td id=\"T_b29bd_row5_col0\" class=\"data row5 col0\" >0.9179</td>\n",
              "      <td id=\"T_b29bd_row5_col1\" class=\"data row5 col1\" >0.8142</td>\n",
              "      <td id=\"T_b29bd_row5_col2\" class=\"data row5 col2\" >0.0000</td>\n",
              "      <td id=\"T_b29bd_row5_col3\" class=\"data row5 col3\" >0.0000</td>\n",
              "      <td id=\"T_b29bd_row5_col4\" class=\"data row5 col4\" >0.0000</td>\n",
              "      <td id=\"T_b29bd_row5_col5\" class=\"data row5 col5\" >0.0000</td>\n",
              "      <td id=\"T_b29bd_row5_col6\" class=\"data row5 col6\" >0.0000</td>\n",
              "    </tr>\n",
              "    <tr>\n",
              "      <th id=\"T_b29bd_level0_row6\" class=\"row_heading level0 row6\" >6</th>\n",
              "      <td id=\"T_b29bd_row6_col0\" class=\"data row6 col0\" >0.9179</td>\n",
              "      <td id=\"T_b29bd_row6_col1\" class=\"data row6 col1\" >0.8666</td>\n",
              "      <td id=\"T_b29bd_row6_col2\" class=\"data row6 col2\" >0.0625</td>\n",
              "      <td id=\"T_b29bd_row6_col3\" class=\"data row6 col3\" >0.5000</td>\n",
              "      <td id=\"T_b29bd_row6_col4\" class=\"data row6 col4\" >0.1111</td>\n",
              "      <td id=\"T_b29bd_row6_col5\" class=\"data row6 col5\" >0.0946</td>\n",
              "      <td id=\"T_b29bd_row6_col6\" class=\"data row6 col6\" >0.1550</td>\n",
              "    </tr>\n",
              "    <tr>\n",
              "      <th id=\"T_b29bd_level0_row7\" class=\"row_heading level0 row7\" >7</th>\n",
              "      <td id=\"T_b29bd_row7_col0\" class=\"data row7 col0\" >0.9179</td>\n",
              "      <td id=\"T_b29bd_row7_col1\" class=\"data row7 col1\" >0.7713</td>\n",
              "      <td id=\"T_b29bd_row7_col2\" class=\"data row7 col2\" >0.1875</td>\n",
              "      <td id=\"T_b29bd_row7_col3\" class=\"data row7 col3\" >0.5000</td>\n",
              "      <td id=\"T_b29bd_row7_col4\" class=\"data row7 col4\" >0.2727</td>\n",
              "      <td id=\"T_b29bd_row7_col5\" class=\"data row7 col5\" >0.2387</td>\n",
              "      <td id=\"T_b29bd_row7_col6\" class=\"data row7 col6\" >0.2713</td>\n",
              "    </tr>\n",
              "    <tr>\n",
              "      <th id=\"T_b29bd_level0_row8\" class=\"row_heading level0 row8\" >8</th>\n",
              "      <td id=\"T_b29bd_row8_col0\" class=\"data row8 col0\" >0.9179</td>\n",
              "      <td id=\"T_b29bd_row8_col1\" class=\"data row8 col1\" >0.7196</td>\n",
              "      <td id=\"T_b29bd_row8_col2\" class=\"data row8 col2\" >0.0625</td>\n",
              "      <td id=\"T_b29bd_row8_col3\" class=\"data row8 col3\" >0.5000</td>\n",
              "      <td id=\"T_b29bd_row8_col4\" class=\"data row8 col4\" >0.1111</td>\n",
              "      <td id=\"T_b29bd_row8_col5\" class=\"data row8 col5\" >0.0946</td>\n",
              "      <td id=\"T_b29bd_row8_col6\" class=\"data row8 col6\" >0.1550</td>\n",
              "    </tr>\n",
              "    <tr>\n",
              "      <th id=\"T_b29bd_level0_row9\" class=\"row_heading level0 row9\" >9</th>\n",
              "      <td id=\"T_b29bd_row9_col0\" class=\"data row9 col0\" >0.9385</td>\n",
              "      <td id=\"T_b29bd_row9_col1\" class=\"data row9 col1\" >0.8212</td>\n",
              "      <td id=\"T_b29bd_row9_col2\" class=\"data row9 col2\" >0.2500</td>\n",
              "      <td id=\"T_b29bd_row9_col3\" class=\"data row9 col3\" >1.0000</td>\n",
              "      <td id=\"T_b29bd_row9_col4\" class=\"data row9 col4\" >0.4000</td>\n",
              "      <td id=\"T_b29bd_row9_col5\" class=\"data row9 col5\" >0.3796</td>\n",
              "      <td id=\"T_b29bd_row9_col6\" class=\"data row9 col6\" >0.4840</td>\n",
              "    </tr>\n",
              "    <tr>\n",
              "      <th id=\"T_b29bd_level0_row10\" class=\"row_heading level0 row10\" >Mean</th>\n",
              "      <td id=\"T_b29bd_row10_col0\" class=\"data row10 col0\" >0.9192</td>\n",
              "      <td id=\"T_b29bd_row10_col1\" class=\"data row10 col1\" >0.8179</td>\n",
              "      <td id=\"T_b29bd_row10_col2\" class=\"data row10 col2\" >0.0974</td>\n",
              "      <td id=\"T_b29bd_row10_col3\" class=\"data row10 col3\" >0.4350</td>\n",
              "      <td id=\"T_b29bd_row10_col4\" class=\"data row10 col4\" >0.1559</td>\n",
              "      <td id=\"T_b29bd_row10_col5\" class=\"data row10 col5\" >0.1391</td>\n",
              "      <td id=\"T_b29bd_row10_col6\" class=\"data row10 col6\" >0.1828</td>\n",
              "    </tr>\n",
              "    <tr>\n",
              "      <th id=\"T_b29bd_level0_row11\" class=\"row_heading level0 row11\" >Std</th>\n",
              "      <td id=\"T_b29bd_row11_col0\" class=\"data row11 col0\" >0.0074</td>\n",
              "      <td id=\"T_b29bd_row11_col1\" class=\"data row11 col1\" >0.0532</td>\n",
              "      <td id=\"T_b29bd_row11_col2\" class=\"data row11 col2\" >0.0873</td>\n",
              "      <td id=\"T_b29bd_row11_col3\" class=\"data row11 col3\" >0.3210</td>\n",
              "      <td id=\"T_b29bd_row11_col4\" class=\"data row11 col4\" >0.1354</td>\n",
              "      <td id=\"T_b29bd_row11_col5\" class=\"data row11 col5\" >0.1268</td>\n",
              "      <td id=\"T_b29bd_row11_col6\" class=\"data row11 col6\" >0.1573</td>\n",
              "    </tr>\n",
              "  </tbody>\n",
              "</table>\n"
            ]
          },
          "metadata": {}
        },
        {
          "output_type": "display_data",
          "data": {
            "text/plain": [
              "Processing:   0%|          | 0/4 [00:00<?, ?it/s]"
            ],
            "application/vnd.jupyter.widget-view+json": {
              "version_major": 2,
              "version_minor": 0,
              "model_id": "60103adc8e45462fbd1fbab80f767b47"
            }
          },
          "metadata": {
            "application/vnd.jupyter.widget-view+json": {
              "colab": {
                "custom_widget_manager": {
                  "url": "https://ssl.gstatic.com/colaboratory-static/widgets/colab-cdn-widget-manager/b3e629b1971e1542/manager.min.js"
                }
              }
            }
          }
        },
        {
          "output_type": "display_data",
          "data": {
            "text/plain": [
              "<IPython.core.display.HTML object>"
            ],
            "text/html": []
          },
          "metadata": {}
        }
      ]
    },
    {
      "cell_type": "code",
      "source": [
        "preds = xgboost.predict(test.iloc[:, :-1])\n",
        "y_test = test.iloc[:, -1]"
      ],
      "metadata": {
        "id": "IwjlJNNo6sXC"
      },
      "execution_count": null,
      "outputs": []
    },
    {
      "cell_type": "code",
      "source": [
        "from sklearn.metrics import accuracy_score\n",
        "from sklearn.metrics import confusion_matrix\n",
        "from sklearn.metrics import precision_recall_fscore_support\n",
        "from sklearn.metrics import roc_auc_score"
      ],
      "metadata": {
        "id": "d0PbMxH_crVq"
      },
      "execution_count": null,
      "outputs": []
    },
    {
      "cell_type": "code",
      "source": [
        "precision, recall, fscore, support = precision_recall_fscore_support(y_test, preds)\n",
        "xgboost_score = xgboost.score(test.iloc[:, :-1], y_test)\n",
        "roc_auc = roc_auc_score(y_test, preds)\n",
        "\n",
        "print(\"Classifier: XGBoost\")\n",
        "print(\"Class 0 Precision:  {}  |  Class 1 Precision: {}\".format(precision[0], precision[1]))\n",
        "print(\"Class 0 Recall:     {}  |  Class 1 Recall:    {}\".format(recall[0], recall[1]))\n",
        "print(\"Class 0 FScore:     {}  |  Class 1 FScore:    {}\".format(fscore[0], fscore[1]))\n",
        "print(\"Class 0 Support:    {}  |  Class 1 Support:   {}\".format(support[0], support[1]))\n",
        "print(\"XGBoost Accuracy Score: {}\".format(xgboost_score))\n",
        "print(\"XGBoost ROC/AUC Score:  {}\".format(roc_auc))\n",
        "print(confusion_matrix(y_test,preds))"
      ],
      "metadata": {
        "colab": {
          "base_uri": "https://localhost:8080/"
        },
        "id": "JRxcd6-Oc4lK",
        "outputId": "d910dc63-5906-4494-9409-55299dec746f"
      },
      "execution_count": null,
      "outputs": [
        {
          "output_type": "stream",
          "name": "stdout",
          "text": [
            "Classifier: XGBoost\n",
            "Class 0 Precision:  0.9280701754385965  |  Class 1 Precision: 0.7272727272727273\n",
            "Class 0 Recall:     0.9943609022556391  |  Class 1 Recall:    0.16326530612244897\n",
            "Class 0 FScore:     0.9600725952813067  |  Class 1 FScore:    0.26666666666666666\n",
            "Class 0 Support:    532  |  Class 1 Support:   49\n",
            "XGBoost Accuracy Score: 0.9242685025817556\n",
            "XGBoost ROC/AUC Score:  0.578813104189044\n",
            "[[529   3]\n",
            " [ 41   8]]\n"
          ]
        }
      ]
    }
  ]
}